{
 "cells": [
  {
   "attachments": {
    "image.png": {
     "image/png": "[encoded data removed]"
    }
   },
   "cell_type": "markdown",
   "metadata": {},
   "source": [
    "## 4.2.1 Series\n",
    "&emsp;&emsp;Series是一种带索引（Index）的类似一维数组的数据结构。它拥有两个属性values和index：values是一个值数组，用于存储一组任意类型的数据元素，index是一个索引数组，用于存储上述数据元素的索引值。Series结构如图4-2-1所示，例如索引值为1的元素值为74。除了index索引，和NumPy数组一样，每一Series对象同样绑定了一组默认的0~n-1的整数索引，为了与加以区分，我们把index设置的索引称为索引名，默认的整数索引称为位置索引。图例中第一个元素74的索引名是1，它的位置索引是0。\n",
    "![image.png](attachment:image.png)\n",
    "\n",
    "### 1. Series的创建\n",
    "&emsp;&emsp;使用Pandas中的Series()函数创建Series对象，其常用格式如下所示：\n",
    "\n",
    "&emsp;&emsp;&emsp;&emsp;pandas.Series([data, index=[…],…])\n",
    "\n",
    "&emsp;&emsp;其中，data包含了Series对象中存储的数据，data的类型可以是NumPy的一维数组或列表；index包含了Series对象中存储数据对应的索引值，如果省略，则自动生成0~n-1的整数索引值，n为data中元素的个数。 \n",
    "\n",
    "&emsp;&emsp;**例4-2-1** 创建一个名为ability的Series对象，用于存储水浒传中4位英雄的武力值，其中值为[99,87,88,75]，索引名为['宋江','吴用','林冲','秦明']。"
   ]
  },
  {
   "cell_type": "code",
   "execution_count": 1,
   "metadata": {},
   "outputs": [],
   "source": [
    "import pandas as pd"
   ]
  },
  {
   "cell_type": "code",
   "execution_count": 2,
   "metadata": {},
   "outputs": [],
   "source": [
    "ability=pd.Series([99,87,88,75],index=['宋江','吴用','林冲','秦明'])"
   ]
  },
  {
   "cell_type": "code",
   "execution_count": 3,
   "metadata": {
    "scrolled": true
   },
   "outputs": [
    {
     "data": {
      "text/plain": [
       "宋江    99\n",
       "吴用    87\n",
       "林冲    88\n",
       "秦明    75\n",
       "dtype: int64"
      ]
     },
     "execution_count": 3,
     "metadata": {},
     "output_type": "execute_result"
    }
   ],
   "source": [
    " "
   ]
  },
  {
   "cell_type": "markdown",
   "metadata": {},
   "source": [
    "### 2. Series的相关操作\n",
    "&emsp;&emsp;本节将介绍Series中数据元素的增加、删除、修改和查询操作，其中涉及到的例子具有连续性，且应已完成了上节Series对象的创建。\n",
    "Series对象的索引和值的对应关系类似于字典中的键和值，在增加、修改、访问的操作上也类似字典操作。\n",
    "\n",
    "#### (1)Series中元素的查询\n",
    "&emsp;&emsp;Series对象既可以类似序列，使用位置索引获取对应的元素；也可以类似字典，通过索引名获取对应的元素。\n",
    "\n",
    "&emsp;&emsp;&emsp;&emsp;Series对象[索引]\n",
    "\n",
    "&emsp;&emsp;还可以通过布尔运算表达式查找满足条件的元素。\n",
    "\n",
    "&emsp;&emsp;&emsp;&emsp;Series对象[布尔表达式]\n",
    "\n",
    "&emsp;&emsp;**例4-2-2** 显示ability中索引值为'宋江'的元素，显示ability中所有大于等于80的元素。"
   ]
  },
  {
   "cell_type": "code",
   "execution_count": 4,
   "metadata": {},
   "outputs": [
    {
     "data": {
      "text/plain": [
       "99"
      ]
     },
     "execution_count": 4,
     "metadata": {},
     "output_type": "execute_result"
    }
   ],
   "source": [
    "ability['宋江']    #使用index索引访问"
   ]
  },
  {
   "cell_type": "code",
   "execution_count": 5,
   "metadata": {},
   "outputs": [
    {
     "data": {
      "text/plain": [
       "99"
      ]
     },
     "execution_count": 5,
     "metadata": {},
     "output_type": "execute_result"
    }
   ],
   "source": [
    "ability[0]        #使用位置索引"
   ]
  },
  {
   "cell_type": "code",
   "execution_count": 6,
   "metadata": {},
   "outputs": [
    {
     "data": {
      "text/plain": [
       "宋江    99\n",
       "吴用    87\n",
       "林冲    88\n",
       "dtype: int64"
      ]
     },
     "execution_count": 6,
     "metadata": {},
     "output_type": "execute_result"
    }
   ],
   "source": [
    "ability[ability.values>=80]"
   ]
  },
  {
   "cell_type": "markdown",
   "metadata": {},
   "source": [
    "#### (2)Series中元素的增加和修改\n",
    "&emsp;&emsp;通过赋值语句能很方便地完成Series中元素的增加和修改，格式如下：\n",
    "\n",
    "&emsp;&emsp;&emsp;&emsp;Series对象[索引] = 值\n",
    "\n",
    "&emsp;&emsp;当索引值是已存在的，赋值语句完成修改操作；当索引值是不存在的，赋值语句完成增加操作\n",
    "\n",
    "&emsp;&emsp;**例4-2-3** 为ability对象增加'武松'的武力值80，修改宋江的武力值为95。"
   ]
  },
  {
   "cell_type": "code",
   "execution_count": 7,
   "metadata": {},
   "outputs": [],
   "source": [
    "ability['武松']=80"
   ]
  },
  {
   "cell_type": "code",
   "execution_count": 8,
   "metadata": {},
   "outputs": [],
   "source": [
    "ability['宋江']=95"
   ]
  },
  {
   "cell_type": "code",
   "execution_count": 9,
   "metadata": {},
   "outputs": [
    {
     "data": {
      "text/plain": [
       "宋江    95\n",
       "吴用    87\n",
       "林冲    88\n",
       "秦明    75\n",
       "武松    80\n",
       "dtype: int64"
      ]
     },
     "execution_count": 9,
     "metadata": {},
     "output_type": "execute_result"
    }
   ],
   "source": [
    "ability"
   ]
  },
  {
   "cell_type": "markdown",
   "metadata": {},
   "source": [
    "#### (3)Series中元素的删除\n",
    "* 调用pop()函数进行删除\n",
    "\n",
    "&emsp;&emsp;pop()函数用于从Series对象中弹出索引值对应的元素，即：删除索引值对应的元素，且返回被删除的元素值。pop()函数会修改原始对象，其常用格式如下：\n",
    "\n",
    "&emsp;&emsp;&emsp;&emsp;Series.pop(item)\n",
    "\n",
    "&emsp;&emsp;其中，item是将要被删除元素对应的索引值。\n",
    "\n",
    "* 调用drop()函数进行删除\n",
    "\n",
    "&emsp;&emsp;drop()函数表示从Series中删除单个或多个索引值对应的元素，并返回删除元素后的Series，该函数在默认情况下不修改原始对象，其常用格式如下：\n",
    "\n",
    "&emsp;&emsp;&emsp;&emsp;Series.drop(labels,…)\n",
    "\n",
    "&emsp;&emsp;其中，labels可以是单个索引值也可以是多个索引值组成的列表。\n",
    "\n",
    "&emsp;&emsp;**例4-2-4** 删除ability对象中索引值为'林冲'的元素，并将该值记录在变量popvalue中；删除索引值为'吴用'和'秦明'的元素，生成新的Series对象。"
   ]
  },
  {
   "cell_type": "markdown",
   "metadata": {},
   "source": [
    "#将索引值为'林冲'的元素弹出并删除"
   ]
  },
  {
   "cell_type": "code",
   "execution_count": 10,
   "metadata": {},
   "outputs": [],
   "source": [
    "popvalue = ability.pop('林冲')"
   ]
  },
  {
   "cell_type": "code",
   "execution_count": 11,
   "metadata": {},
   "outputs": [
    {
     "data": {
      "text/plain": [
       "宋江    95\n",
       "吴用    87\n",
       "秦明    75\n",
       "武松    80\n",
       "dtype: int64"
      ]
     },
     "execution_count": 11,
     "metadata": {},
     "output_type": "execute_result"
    }
   ],
   "source": [
    "ability"
   ]
  },
  {
   "cell_type": "code",
   "execution_count": 12,
   "metadata": {},
   "outputs": [
    {
     "data": {
      "text/plain": [
       "88"
      ]
     },
     "execution_count": 12,
     "metadata": {},
     "output_type": "execute_result"
    }
   ],
   "source": [
    "popvalue"
   ]
  },
  {
   "cell_type": "markdown",
   "metadata": {},
   "source": [
    "#删除索引值为'吴用'和'秦明'的元素，返回新的Series对象"
   ]
  },
  {
   "cell_type": "code",
   "execution_count": 13,
   "metadata": {},
   "outputs": [],
   "source": [
    "ability_new=ability.drop(['吴用','秦明'])"
   ]
  },
  {
   "cell_type": "code",
   "execution_count": 14,
   "metadata": {},
   "outputs": [
    {
     "data": {
      "text/plain": [
       "宋江    95\n",
       "吴用    87\n",
       "秦明    75\n",
       "武松    80\n",
       "dtype: int64"
      ]
     },
     "execution_count": 14,
     "metadata": {},
     "output_type": "execute_result"
    }
   ],
   "source": [
    "ability"
   ]
  },
  {
   "cell_type": "code",
   "execution_count": 15,
   "metadata": {},
   "outputs": [
    {
     "data": {
      "text/plain": [
       "宋江    95\n",
       "武松    80\n",
       "dtype: int64"
      ]
     },
     "execution_count": 15,
     "metadata": {},
     "output_type": "execute_result"
    }
   ],
   "source": [
    "ability_new"
   ]
  },
  {
   "cell_type": "markdown",
   "metadata": {},
   "source": [
    "### 3.Series的综合运用\n",
    "&emsp;&emsp;**例4-2-5** 创建程序文件，实现功能：创建一个存储了5名学生计算机成绩的Series对象score，值为成绩，索引为学号。其中，成绩和学号由NumPy的随机数组生成函数randint()产生，已知成绩的范围为0-100，学号的范围为200151800-200151900。对score进行以下操作并同步进行打印：首先加入学号为200151909、成绩为88的学生，然后删除该学生成绩，接着将所有学生的成绩减去5分，最后筛选出成绩为80分以上的学生。\n",
    "\n",
    "&emsp;&emsp;完整的程序代码如下："
   ]
  },
  {
   "cell_type": "code",
   "execution_count": 16,
   "metadata": {},
   "outputs": [],
   "source": [
    "import numpy as np"
   ]
  },
  {
   "cell_type": "markdown",
   "metadata": {},
   "source": [
    "#### （1）Series对象score的创建\n",
    "&emsp;&emsp;通过调用randint()函数随机生成学生成绩， randint()函数随机生成学号时调用astype()函数转化为字符串类型，最后调用Series()函数完成score的创建。"
   ]
  },
  {
   "cell_type": "code",
   "execution_count": 17,
   "metadata": {},
   "outputs": [
    {
     "name": "stdout",
     "output_type": "stream",
     "text": [
      "200151861    94\n",
      "200151900    61\n",
      "200151857    24\n",
      "200151821    14\n",
      "200151843    34\n",
      "dtype: int32\n"
     ]
    }
   ],
   "source": [
    "fs=np.random.randint(0,101,5)\n",
    "xh=np.random.randint(200151800,200151901,5).astype(str)\n",
    "score=pd.Series(fs,xh)\n",
    "print(score)"
   ]
  },
  {
   "cell_type": "markdown",
   "metadata": {},
   "source": [
    "#### （2）score中元素的增加\n",
    "&emsp;&emsp;通过赋值的方法加入新的学号和成绩。"
   ]
  },
  {
   "cell_type": "code",
   "execution_count": 18,
   "metadata": {},
   "outputs": [
    {
     "name": "stdout",
     "output_type": "stream",
     "text": [
      "200151861    94\n",
      "200151900    61\n",
      "200151857    24\n",
      "200151821    14\n",
      "200151843    34\n",
      "200151909    88\n",
      "dtype: int64\n"
     ]
    }
   ],
   "source": [
    "#（2）score中元素的增加\n",
    "score['200151909']=88    #加入新的学号和成绩\n",
    "print(score)"
   ]
  },
  {
   "cell_type": "markdown",
   "metadata": {},
   "source": [
    "#### （3）score中元素的删除\n",
    "&emsp;&emsp;删除新加入的学生，调用pop()函数完成对score中元素的删除。"
   ]
  },
  {
   "cell_type": "code",
   "execution_count": 19,
   "metadata": {},
   "outputs": [
    {
     "name": "stdout",
     "output_type": "stream",
     "text": [
      "200151861    94\n",
      "200151900    61\n",
      "200151857    24\n",
      "200151821    14\n",
      "200151843    34\n",
      "dtype: int64\n"
     ]
    }
   ],
   "source": [
    "score.pop('200151909')    #将学号为200151909的成绩进行删除\n",
    "print(score)"
   ]
  },
  {
   "cell_type": "markdown",
   "metadata": {},
   "source": [
    "#### （4）score中元素的修改\n",
    "&emsp;&emsp;Series对象的底层是NumPy库，同样支持整体运算，直接执行减法运算。"
   ]
  },
  {
   "cell_type": "code",
   "execution_count": 20,
   "metadata": {},
   "outputs": [
    {
     "name": "stdout",
     "output_type": "stream",
     "text": [
      "200151861    89\n",
      "200151900    56\n",
      "200151857    19\n",
      "200151821     9\n",
      "200151843    29\n",
      "dtype: int64\n"
     ]
    }
   ],
   "source": [
    "score=score-5      #将所有成绩都减去5\n",
    "print(score)"
   ]
  },
  {
   "cell_type": "markdown",
   "metadata": {},
   "source": [
    "#### （5）score中元素的查询\n",
    "&emsp;&emsp;程序通过布尔表达式score.values>=80来筛选出成绩大于等于80的学生。"
   ]
  },
  {
   "cell_type": "code",
   "execution_count": 21,
   "metadata": {},
   "outputs": [
    {
     "name": "stdout",
     "output_type": "stream",
     "text": [
      "200151861    89\n",
      "dtype: int64\n"
     ]
    }
   ],
   "source": [
    "print(score[score.values>=80])    #检索成绩大于等于80的学生"
   ]
  }
 ],
 "metadata": {
  "kernelspec": {
   "display_name": "Python 3 (ipykernel)",
   "language": "python",
   "name": "python3"
  },
  "language_info": {
   "codemirror_mode": {
    "name": "ipython",
    "version": 3
   },
   "file_extension": ".py",
   "mimetype": "text/x-python",
   "name": "python",
   "nbconvert_exporter": "python",
   "pygments_lexer": "ipython3",
   "version": "3.11.0"
  }
 },
 "nbformat": 4,
 "nbformat_minor": 4
}
