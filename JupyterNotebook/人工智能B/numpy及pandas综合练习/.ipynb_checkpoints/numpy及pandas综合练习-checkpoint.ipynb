{
 "cells": [
  {
   "cell_type": "markdown",
   "metadata": {},
   "source": [
    "# numpy和pandas综合练习（作业）"
   ]
  },
  {
   "cell_type": "markdown",
   "metadata": {},
   "source": [
    "第一部分：Numpy"
   ]
  },
  {
   "cell_type": "raw",
   "metadata": {},
   "source": [
    "1. 归一化问题\n",
    "(1)创建一个由10到20（不含）之间的随机整数组成的5*5二维NumPy数组Z；\n",
    "(2)将数组元素归一化到0~1，即最小的变成0，最大的变成1。"
   ]
  },
  {
   "cell_type": "code",
   "execution_count": 1,
   "metadata": {},
   "outputs": [
    {
     "name": "stdout",
     "output_type": "stream",
     "text": [
      "矩阵 Z=\n",
      " [[18 10 12 12 19]\n",
      " [20 17 20 14 20]\n",
      " [13 20 10 17 16]\n",
      " [16 17 15 17 13]\n",
      " [17 11 19 11 10]]\n",
      "归一化后的Z：\n",
      " [[0.8 0.  0.2 0.2 0.9]\n",
      " [1.  0.7 1.  0.4 1. ]\n",
      " [0.3 1.  0.  0.7 0.6]\n",
      " [0.6 0.7 0.5 0.7 0.3]\n",
      " [0.7 0.1 0.9 0.1 0. ]]\n"
     ]
    }
   ],
   "source": [
    "import numpy as np\n",
    "Z = np.random.randint(10,21,(5,5))  #创建一个由10到20之间的随机整数组成的5*5二维NumPy数组Z\n",
    "print(\"矩阵 Z=\\n\", Z)\n",
    "Zmin = Z.min()  #取最小值\n",
    "Zmax = Z.max()  #取最大值\n",
    "Z = (Z - Zmin) / (Zmax - Zmin)\n",
    "print(\"归一化后的Z：\\n\", Z)"
   ]
  },
  {
   "cell_type": "raw",
   "metadata": {},
   "source": [
    "2. 二维数组的查询\n",
    "(1)创建一个由1~16的整数按顺序组成的一维NumPy数组对象,再变换为4*4二维数组对象arr；\n",
    "(2)使用索引的方式获取arr数组中第二行第一列和第三行第二列的数据；\n",
    "(3)使用切片方式获取arr数组中除了第一列和第一行以外的数据；\n",
    "(4)使用布尔运算方式将arr数组中为奇数的数据都置为零。"
   ]
  },
  {
   "cell_type": "code",
   "execution_count": 2,
   "metadata": {},
   "outputs": [
    {
     "name": "stdout",
     "output_type": "stream",
     "text": [
      "[[ 1  2  3  4]\n",
      " [ 5  6  7  8]\n",
      " [ 9 10 11 12]\n",
      " [13 14 15 16]]\n",
      "[[5]] [[10]]\n",
      "[[ 6  7  8]\n",
      " [10 11 12]\n",
      " [14 15 16]]\n",
      "[[ 0  2  0  4]\n",
      " [ 0  6  0  8]\n",
      " [ 0 10  0 12]\n",
      " [ 0 14  0 16]]\n"
     ]
    }
   ],
   "source": [
    "import numpy as np\n",
    "arr = np.array([i for i in range(1,17)]).reshape(4, 4)    #创建一个由1~16的整数组成的一维NumPy数组对象,再变换为4*4二维数组对象arr\n",
    "print(arr)\n",
    "num_1 = arr[1:2,0:1]  #获取arr数组中第二行（行位置索引为1）第一列元素（列位置索引为0）\n",
    "num_2 = arr[2:3,1:2]  ##获取arr数组中第三行第二列元素\n",
    "print(num_1, num_2)\n",
    "arr2 = arr[1:,1:]  #获取arr数组中除了第一列和第一行以外的数据；\n",
    "print(arr2)\n",
    "mask = (arr%2!=0)  #使用布尔运算方式找出arr数组中为奇数的数据\n",
    "arr[mask] = 0  #将arr数组中为奇数的数据都置为零\n",
    "print(arr)"
   ]
  },
  {
   "cell_type": "raw",
   "metadata": {},
   "source": [
    "3. 二维数组的统计分析\n",
    "(1)创建20到40（不含）之间均匀分布的4*5二维NumPy数组对象；\n",
    "(2)计算数组中每行的平均值;计算数组中每列的最大值；\n",
    "(3)返回数组中最小值的索引。"
   ]
  },
  {
   "cell_type": "code",
   "execution_count": 5,
   "metadata": {},
   "outputs": [
    {
     "name": "stdout",
     "output_type": "stream",
     "text": [
      "[[26.84249551 40.83551167 37.67102426 34.77729152 24.30583799]\n",
      " [37.32130436 26.29221787 28.44244913 28.83165559 21.18417137]\n",
      " [21.80723336 29.48487193 34.03709271 38.919947   22.82533308]\n",
      " [22.23957229 32.17796566 27.46124994 29.72595339 22.16859263]]\n",
      "[32.88643219 28.41435966 29.41489562 26.75466678]\n",
      "[37.32130436 40.83551167 37.67102426 38.919947   24.30583799]\n",
      "9\n"
     ]
    }
   ],
   "source": [
    "import numpy as np\n",
    "arr = np.random.uniform(20,41,20).reshape(4,5)  #创建20到40之间均匀分布的4*5二维NumPy数组对象\n",
    "print(arr)\n",
    "row_mean = arr.mean(axis=1)  #计算数组中每行的平均值\n",
    "col_max = arr.max(axis=0)  #计算数组中每列的最大值\n",
    "index_max = arr.argmin()  #返回数组中最小值的索引\n",
    "print(row_mean)\n",
    "print(col_max)\n",
    "print(index_max)"
   ]
  },
  {
   "cell_type": "markdown",
   "metadata": {},
   "source": [
    "第二部分：Pandas"
   ]
  },
  {
   "cell_type": "raw",
   "metadata": {},
   "source": [
    "1. Series对象的修改\n",
    "(1)创建一个存储了21~30的整数的Series对象，索引值为1~10；\n",
    "(2)将其中小于等于25的元素赋值为0。"
   ]
  },
  {
   "cell_type": "code",
   "execution_count": 6,
   "metadata": {},
   "outputs": [
    {
     "name": "stdout",
     "output_type": "stream",
     "text": [
      "1     21\n",
      "2     22\n",
      "3     23\n",
      "4     24\n",
      "5     25\n",
      "6     26\n",
      "7     27\n",
      "8     28\n",
      "9     29\n",
      "10    30\n",
      "dtype: int32\n",
      "1      0\n",
      "2      0\n",
      "3      0\n",
      "4      0\n",
      "5      0\n",
      "6     26\n",
      "7     27\n",
      "8     28\n",
      "9     29\n",
      "10    30\n",
      "dtype: int32\n"
     ]
    }
   ],
   "source": [
    "import pandas as pd\n",
    "import numpy as np\n",
    "data = np.array([i for i in range(21,31)]) #创建一个存储了21~30的整数的一维数组；\n",
    "index = np.arange(1, 11, 1)\n",
    "num = pd.Series(data,index=index) #创建一个存储了21~30的整数的Series对象，索引值为1~10；\n",
    "print(num)\n",
    "num[num.values<=25] = 0   #将其中小于等于25的元素赋值为0\n",
    "print(num)"
   ]
  },
  {
   "cell_type": "raw",
   "metadata": {},
   "source": [
    "2. DataFrame对象的访问和文件写入\n",
    "(1)创建一个存储了用户记账金额的DataFrame对象，行索引为1月~12月，列索引为‘收入’和‘支出’，元素值为5000~10000的随机数；\n",
    "(2)取出‘支出’列作为新的DataFrame对象；\n",
    "(3)将该数据从新的DataFrame对象写入到CSV文件。"
   ]
  },
  {
   "cell_type": "code",
   "execution_count": 7,
   "metadata": {},
   "outputs": [
    {
     "name": "stdout",
     "output_type": "stream",
     "text": [
      "       收入    支出\n",
      "1月   9879  8790\n",
      "2月   8444  6690\n",
      "3月   5719  5949\n",
      "4月   5571  7172\n",
      "5月   5726  5933\n",
      "6月   6650  8915\n",
      "7月   8161  5045\n",
      "8月   8912  6832\n",
      "9月   9280  9741\n",
      "10月  6237  6723\n",
      "11月  9999  8069\n",
      "12月  7872  5709\n",
      "1月     8790\n",
      "2月     6690\n",
      "3月     5949\n",
      "4月     7172\n",
      "5月     5933\n",
      "6月     8915\n",
      "7月     5045\n",
      "8月     6832\n",
      "9月     9741\n",
      "10月    6723\n",
      "11月    8069\n",
      "12月    5709\n",
      "Name: 支出, dtype: int32\n"
     ]
    }
   ],
   "source": [
    "import pandas as pd\n",
    "import numpy as np\n",
    "month = ['1月', '2月', '3月', '4月', '5月', '6月', '7月', '8月', '9月', '10月', '11月', '12月']\n",
    "money = np.random.randint(5000,10001,24).reshape(12,2) #生成尺寸为12*2的二维随机整数数组,元素值为5000~10000的随机数\n",
    "account = pd.DataFrame(money,month , columns=['收入', '支出'])  # 创建DataFrame对象\n",
    "print(account)\n",
    "account_new = account['支出'] #取出‘支出’列作为新的DataFrame对象\n",
    "print(account_new)\n",
    "# 从DataFrame对象写入数据到CSV文件\n",
    "account_new.to_csv(r'F:\\JupyterNotebook\\人工智能B\\numpy及pandas综合练习\\account.csv')  #DataFrame对象写入到CSV文件\n"
   ]
  },
  {
   "cell_type": "raw",
   "metadata": {},
   "source": [
    "3. DataFrame对象的删改和文件读取\n",
    "(1)读取波士顿房价数据文件Boston_pandas.csv创建DataFrame数据对象；\n",
    "(2)删除行索引为1~3的数据内容；修改 'MEDV' 列的数据内容为15。"
   ]
  },
  {
   "cell_type": "code",
   "execution_count": 8,
   "metadata": {},
   "outputs": [
    {
     "name": "stdout",
     "output_type": "stream",
     "text": [
      "      CRIM    NOX     RM   AGE  LSTAT  MEDV\n",
      "0  0.08829  0.524  6.012  66.6  12.43  22.9\n",
      "1  0.14455    NaN  6.172  96.1  19.15  27.1\n",
      "2  0.21124  0.524    NaN   NaN  29.93  16.5\n",
      "3  0.17004    NaN  6.004  85.9  17.10  18.9\n",
      "4  0.22489  0.524  6.377  94.3  20.45  15.0\n",
      "5  0.22489  0.524  6.377  94.3  20.45  15.0\n",
      "      CRIM    NOX     RM   AGE  LSTAT  MEDV\n",
      "0  0.08829  0.524  6.012  66.6  12.43  22.9\n",
      "4  0.22489  0.524  6.377  94.3  20.45  15.0\n",
      "5  0.22489  0.524  6.377  94.3  20.45  15.0\n",
      "      CRIM    NOX     RM   AGE  LSTAT  MEDV\n",
      "0  0.08829  0.524  6.012  66.6  12.43    15\n",
      "4  0.22489  0.524  6.377  94.3  20.45    15\n",
      "5  0.22489  0.524  6.377  94.3  20.45    15\n"
     ]
    }
   ],
   "source": [
    "import pandas as pd\n",
    "# 从CSV文件读取数据到DataFrame对象\n",
    "boston = pd.read_csv(r'F:\\JupyterNotebook\\人工智能B\\numpy及pandas综合练习\\Boston_pandas.csv')  #\n",
    "print(boston)\n",
    "# 删除行索引值为1、2和3的元素\n",
    "boston = boston.drop([1, 2, 3], axis=0)  #\n",
    "print(boston)\n",
    "# 修改 'MEDV' 列的数据内容为15\n",
    "boston['MEDV'] = 15   #\n",
    "print(boston)"
   ]
  },
  {
   "cell_type": "code",
   "execution_count": null,
   "metadata": {},
   "outputs": [],
   "source": []
  }
 ],
 "metadata": {
  "kernelspec": {
   "display_name": "Python 3 (ipykernel)",
   "language": "python",
   "name": "python3"
  },
  "language_info": {
   "codemirror_mode": {
    "name": "ipython",
    "version": 3
   },
   "file_extension": ".py",
   "mimetype": "text/x-python",
   "name": "python",
   "nbconvert_exporter": "python",
   "pygments_lexer": "ipython3",
   "version": "3.11.0"
  }
 },
 "nbformat": 4,
 "nbformat_minor": 4
}
