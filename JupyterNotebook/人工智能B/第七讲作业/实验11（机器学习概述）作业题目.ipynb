{
 "cells": [
  {
   "cell_type": "markdown",
   "metadata": {},
   "source": [
    "# 实验11（机器学习概述）作业题目"
   ]
  },
  {
   "cell_type": "markdown",
   "metadata": {},
   "source": [
    "# 一. 概念题部分"
   ]
  },
  {
   "cell_type": "raw",
   "metadata": {},
   "source": [
    "1. 深度学习 是人工智能的重要分支，是研究让机器如何模拟和实现人类学习能力从而使机器具有智能的重要方法。其中，神经网络 是机器学习的一种实现技术，通过多层处理，逐渐将初始的“低层”特征表示转化为“高层”特征表示后，用“简单模型”即可完成复杂的分类等学习任务。"
   ]
  },
  {
   "cell_type": "raw",
   "metadata": {},
   "source": [
    "2. 机器学习一般可分为 监督学习 半监督学习 无监督学习 和强化学习四类。"
   ]
  },
  {
   "cell_type": "raw",
   "metadata": {},
   "source": [
    "3. 监督学习 是使用已有的数据进行学习的机器学习方法。已有的数据是成对的——输入数据和对应的输出数据所组成的数据对。其主要方法包括 分类 和 回归。前者的目的是对未知数据的类别进行判断，预测结果为离散的。后者则是一种基本的预测方法，主要分析自变量和因变量间相关关系的基础上，建立变量之间的回归方程，并将回归方程作为预测模型，用于预测或分类。"
   ]
  },
  {
   "cell_type": "raw",
   "metadata": {},
   "source": [
    "4. Scikit-learn，又称为sklearn，是一个开源的基于Python语言的机器学习工具包，它实现了高效的算法应用，涵盖了几乎所有的主流机器学习算法。sklearn中常用的模块有分类、回归、聚类、降维、模型选择、预处理等。"
   ]
  },
  {
   "cell_type": "raw",
   "metadata": {},
   "source": [
    "强化学习是在无预先给定任何数据情况下，通过环境对其动作的反馈，不断训练模型，从而获得可以执行某项具体任务的算法。比如在AlphaGo、游戏、智能机器人中的应用。"
   ]
  },
  {
   "cell_type": "markdown",
   "metadata": {},
   "source": [
    "# 二. 操作题部分"
   ]
  },
  {
   "cell_type": "markdown",
   "metadata": {},
   "source": [
    "### 1. 数据归一化和正则化"
   ]
  },
  {
   "cell_type": "code",
   "execution_count": 41,
   "metadata": {},
   "outputs": [],
   "source": [
    "import pandas as pd\n",
    "import numpy as np"
   ]
  },
  {
   "cell_type": "markdown",
   "metadata": {},
   "source": [
    "（1）创建表示5×5的随机矩阵的DataFrame对象，行索引和列索引都为0-4，元素取值在1-50。"
   ]
  },
  {
   "cell_type": "code",
   "execution_count": 42,
   "metadata": {},
   "outputs": [
    {
     "data": {
      "text/html": [
       "<div>\n",
       "<style scoped>\n",
       "    .dataframe tbody tr th:only-of-type {\n",
       "        vertical-align: middle;\n",
       "    }\n",
       "\n",
       "    .dataframe tbody tr th {\n",
       "        vertical-align: top;\n",
       "    }\n",
       "\n",
       "    .dataframe thead th {\n",
       "        text-align: right;\n",
       "    }\n",
       "</style>\n",
       "<table border=\"1\" class=\"dataframe\">\n",
       "  <thead>\n",
       "    <tr style=\"text-align: right;\">\n",
       "      <th></th>\n",
       "      <th>0</th>\n",
       "      <th>1</th>\n",
       "      <th>2</th>\n",
       "      <th>3</th>\n",
       "      <th>4</th>\n",
       "    </tr>\n",
       "  </thead>\n",
       "  <tbody>\n",
       "    <tr>\n",
       "      <th>0</th>\n",
       "      <td>48.153469</td>\n",
       "      <td>32.979718</td>\n",
       "      <td>38.320435</td>\n",
       "      <td>22.182117</td>\n",
       "      <td>9.717035</td>\n",
       "    </tr>\n",
       "    <tr>\n",
       "      <th>1</th>\n",
       "      <td>11.121046</td>\n",
       "      <td>46.701263</td>\n",
       "      <td>1.412585</td>\n",
       "      <td>1.823877</td>\n",
       "      <td>7.976620</td>\n",
       "    </tr>\n",
       "    <tr>\n",
       "      <th>2</th>\n",
       "      <td>2.766875</td>\n",
       "      <td>25.759154</td>\n",
       "      <td>42.073755</td>\n",
       "      <td>42.881403</td>\n",
       "      <td>23.921329</td>\n",
       "    </tr>\n",
       "    <tr>\n",
       "      <th>3</th>\n",
       "      <td>20.917727</td>\n",
       "      <td>48.620580</td>\n",
       "      <td>26.422434</td>\n",
       "      <td>7.093828</td>\n",
       "      <td>6.951186</td>\n",
       "    </tr>\n",
       "    <tr>\n",
       "      <th>4</th>\n",
       "      <td>14.764109</td>\n",
       "      <td>35.349115</td>\n",
       "      <td>42.844038</td>\n",
       "      <td>41.023686</td>\n",
       "      <td>15.380562</td>\n",
       "    </tr>\n",
       "  </tbody>\n",
       "</table>\n",
       "</div>"
      ],
      "text/plain": [
       "           0          1          2          3          4\n",
       "0  48.153469  32.979718  38.320435  22.182117   9.717035\n",
       "1  11.121046  46.701263   1.412585   1.823877   7.976620\n",
       "2   2.766875  25.759154  42.073755  42.881403  23.921329\n",
       "3  20.917727  48.620580  26.422434   7.093828   6.951186\n",
       "4  14.764109  35.349115  42.844038  41.023686  15.380562"
      ]
     },
     "execution_count": 42,
     "metadata": {},
     "output_type": "execute_result"
    }
   ],
   "source": [
    "ar  = np.random.uniform(1,51,25).reshape(5,5) #\n",
    "frame = pd.DataFrame(ar)  #\n",
    "frame"
   ]
  },
  {
   "cell_type": "markdown",
   "metadata": {},
   "source": [
    "（2）从sklearn包的preprocessing模块中导入用于归一化和正则化的类"
   ]
  },
  {
   "cell_type": "code",
   "execution_count": 43,
   "metadata": {},
   "outputs": [],
   "source": [
    "from sklearn.preprocessing import MinMaxScaler # 导入库用于数据归一化\n",
    "from sklearn.preprocessing import Normalizer   # 导入库用于数据正则化"
   ]
  },
  {
   "cell_type": "markdown",
   "metadata": {},
   "source": [
    "（3）对前面生成的DataFrame数据进行归一化"
   ]
  },
  {
   "cell_type": "code",
   "execution_count": 44,
   "metadata": {},
   "outputs": [
    {
     "name": "stdout",
     "output_type": "stream",
     "text": [
      "数据归一化：\n",
      " [[1.         0.31584048 0.89081716 0.49584672 0.1629832 ]\n",
      " [0.18406694 0.91604561 0.         0.         0.06042572]\n",
      " [0.         0.         0.98140824 1.         1.        ]\n",
      " [0.3999166  1.         0.60364401 0.12835529 0.        ]\n",
      " [0.26433432 0.4194822  1.         0.95475331 0.49671802]]\n"
     ]
    }
   ],
   "source": [
    "# 转换器实例化\n",
    "minmax_scaler = MinMaxScaler()  #\n",
    "# 数据归一化\n",
    "minmax_result = minmax_scaler.fit_transform(frame)  #\n",
    "print(\"数据归一化：\\n\", minmax_result)"
   ]
  },
  {
   "cell_type": "markdown",
   "metadata": {},
   "source": [
    "（4）对前面生成的DataFrame数据进行正则化"
   ]
  },
  {
   "cell_type": "code",
   "execution_count": 45,
   "metadata": {},
   "outputs": [
    {
     "name": "stdout",
     "output_type": "stream",
     "text": [
      "数据正则化：\n",
      " [[0.65159528 0.44626958 0.51853822 0.30016036 0.13148739]\n",
      " [0.22826471 0.9585654  0.02899397 0.03743594 0.16372387]\n",
      " [0.03972004 0.36978707 0.6039923  0.61558654 0.34340407]\n",
      " [0.34871121 0.81053456 0.440478   0.11825842 0.1158805 ]\n",
      " [0.20429681 0.48913966 0.59284987 0.56766094 0.21282691]]\n"
     ]
    }
   ],
   "source": [
    "# 转换器实例化\n",
    "normalizer_scaler = Normalizer() #\n",
    "# 数据正则化\n",
    "normalizer_result = normalizer_scaler.fit_transform(frame)  #\n",
    "print(\"数据正则化：\\n\", normalizer_result)"
   ]
  },
  {
   "cell_type": "markdown",
   "metadata": {},
   "source": [
    "### 2. 训练集（train set）和测试集（test set）的划分"
   ]
  },
  {
   "cell_type": "markdown",
   "metadata": {},
   "source": [
    "（1）从sklearn包的model_selection模块中导入用于划分训练集和测试集的类"
   ]
  },
  {
   "cell_type": "code",
   "execution_count": 46,
   "metadata": {},
   "outputs": [],
   "source": [
    "from sklearn.model_selection import train_test_split   #"
   ]
  },
  {
   "cell_type": "markdown",
   "metadata": {},
   "source": [
    "（2）设置字符串样本"
   ]
  },
  {
   "cell_type": "code",
   "execution_count": 47,
   "metadata": {},
   "outputs": [],
   "source": [
    "s = \"机器学习的研究涉及概率论统计学逼近论凸分析算法复杂度理论多门学科是人工智能的核心\""
   ]
  },
  {
   "cell_type": "markdown",
   "metadata": {},
   "source": [
    "（3）设置特征集和标签集"
   ]
  },
  {
   "cell_type": "code",
   "execution_count": 48,
   "metadata": {},
   "outputs": [],
   "source": [
    "X, y = list(s), range(40)"
   ]
  },
  {
   "cell_type": "markdown",
   "metadata": {},
   "source": [
    "（4）将测试集和训练集的划分比例为2：8，设定随机数的编号为8，保证在重复试验中可得到相同的切分结果。"
   ]
  },
  {
   "cell_type": "code",
   "execution_count": 49,
   "metadata": {},
   "outputs": [
    {
     "name": "stdout",
     "output_type": "stream",
     "text": [
      "测试集: ['智', '心', '学', '人', '近', '度', '杂', '机']\n"
     ]
    }
   ],
   "source": [
    "X_train, X_test, y_train, y_test = train_test_split(X,y,test_size=0.2,random_state=8)  #\n",
    "print(\"测试集:\", X_test)"
   ]
  },
  {
   "cell_type": "markdown",
   "metadata": {},
   "source": [
    "### 3.评价指标的计算"
   ]
  },
  {
   "cell_type": "code",
   "execution_count": 50,
   "metadata": {},
   "outputs": [],
   "source": [
    "from sklearn import metrics\n",
    "#导入标签二值化处理模块preprocessing.LabelBinarizer类\n",
    "from sklearn import preprocessing  #"
   ]
  },
  {
   "cell_type": "code",
   "execution_count": 51,
   "metadata": {},
   "outputs": [],
   "source": [
    "#生成LabelBinarizer类的对象\n",
    "lb = preprocessing.LabelBinarizer()  #"
   ]
  },
  {
   "cell_type": "code",
   "execution_count": 52,
   "metadata": {},
   "outputs": [],
   "source": [
    "#真值和预测值\n",
    "y_true = ['男', '女', '男', '男', '男', '女', '女', '女','男', '女']    #真值\n",
    "y_pred = ['男', '男', '男', '男', '女', '男', '女', '女', '男', '女']   #预测值"
   ]
  },
  {
   "cell_type": "code",
   "execution_count": 53,
   "metadata": {},
   "outputs": [],
   "source": [
    "#手工计算混淆矩阵（假设要判断的是“是否是男”）\n",
    "TP=4          #预测正确，预测类别为“男”的样本数\n",
    "FP=1          #预测错误，预测类别为“男”的样本数\n",
    "FN=2          #预测错误，预测类别为“女”的样本数\n",
    "TN=3         #预测正确，预测类别为“女”的样本数\n",
    "matrix=[[4,2],[1,3]]   #混淆矩阵[[TP,FN],[FP,TN]] "
   ]
  },
  {
   "cell_type": "code",
   "execution_count": 54,
   "metadata": {},
   "outputs": [
    {
     "name": "stdout",
     "output_type": "stream",
     "text": [
      "Confusion Matrix：\n",
      "[[4 1]\n",
      " [2 3]]\n"
     ]
    }
   ],
   "source": [
    "# 计算混淆矩阵\n",
    "print('Confusion Matrix：')\n",
    "print(metrics.confusion_matrix(y_true, y_pred, labels=['男', '女']))   ###"
   ]
  },
  {
   "cell_type": "code",
   "execution_count": 55,
   "metadata": {},
   "outputs": [],
   "source": [
    "#手工计算分类的4个指标\n",
    "#手工计算时请给出中间步骤\n",
    "ACC=(4+3)/(4+1+2+3)     #准确率（Accuracy）=(TP+TN)/(TP+TN+FP+FN)\n",
    "P = 4/(4+1)      #精确率（Precision）=TP/(TP+FP)\n",
    "R = 4/(4+2)       #召回率（Recall）=TP/(TP+FN)\n",
    "F1 =(2*(4/5)*(4/6))/((4/5)+(4/6))       #F1分数（F1 Score）=2*P*R/(P+R)"
   ]
  },
  {
   "cell_type": "code",
   "execution_count": 56,
   "metadata": {},
   "outputs": [
    {
     "name": "stdout",
     "output_type": "stream",
     "text": [
      "准确率ACC： 0.6666666666666666\n",
      "精确率P： 0.8\n",
      "召回率R： 0.7272727272727272\n",
      "F1分数：0.7\n"
     ]
    }
   ],
   "source": [
    "# 利用LabelBinarizer对象将标签二值化，再分别计算精确率、召回率、F1分数和准确率\n",
    "y_true_binarized = lb.fit_transform(y_true)\n",
    "y_pred_binarized = lb.fit_transform(y_pred)\n",
    "print('准确率ACC： %s' % metrics.precision_score(y_true_binarized, y_pred_binarized))\n",
    "print('精确率P： %s' % metrics.recall_score(y_true_binarized, y_pred_binarized))\n",
    "print('召回率R： %s' % metrics.f1_score(y_true_binarized, y_pred_binarized))\n",
    "print('F1分数：%s' % metrics.accuracy_score(y_true_binarized, y_pred_binarized))"
   ]
  },
  {
   "cell_type": "code",
   "execution_count": 57,
   "metadata": {},
   "outputs": [
    {
     "name": "stdout",
     "output_type": "stream",
     "text": [
      "Classification Report：\n",
      "              precision    recall  f1-score   support\n",
      "\n",
      "           女       0.75      0.60      0.67         5\n",
      "           男       0.67      0.80      0.73         5\n",
      "\n",
      "    accuracy                           0.70        10\n",
      "   macro avg       0.71      0.70      0.70        10\n",
      "weighted avg       0.71      0.70      0.70        10\n",
      "\n"
     ]
    }
   ],
   "source": [
    "# 利用classification_report()函数实现对精确率、召回率、F1分数和准确率的计算\n",
    "print('Classification Report：')\n",
    "print(metrics.classification_report(y_true,y_pred)) #"
   ]
  },
  {
   "cell_type": "markdown",
   "metadata": {},
   "source": [
    "### 4.综合应用"
   ]
  },
  {
   "cell_type": "markdown",
   "metadata": {},
   "source": [
    "小明和小张想对某股票的价格进行回归分析，已经获得了某股票在一段时间内的收盘价，两人分别用不同次数的多项式对收盘价进行拟合（小明用3次多项式，小张用5次多项式），请根据回归评价指标MAE、MSE等判断两人中谁的方法更好。"
   ]
  },
  {
   "cell_type": "markdown",
   "metadata": {},
   "source": [
    "（1）数据准备"
   ]
  },
  {
   "cell_type": "code",
   "execution_count": 58,
   "metadata": {},
   "outputs": [],
   "source": [
    "import numpy as np\n",
    "#polyfit()函数可以对一组数据使用多项式函数进行拟合，找到和这组数据最接近的多项式的系数\n",
    "\n",
    "#第一步：\n",
    "x = np.arange(1,28)\n",
    "\n",
    "#第二步：某股票在28个交易日的收盘价\n",
    "y = [17.89,18.47,19.04,18.61,18.25,18.23,17,18.22,18.19,18.33,18.42,18.58,18.46,\n",
    "     17.59,17.6,17.75,16.98,16.67,16.92,16.77,16.85,16.74,16.71,16.34,16.11,15.81,17.57]\n",
    "y = np.array(y)"
   ]
  },
  {
   "cell_type": "code",
   "execution_count": 59,
   "metadata": {},
   "outputs": [
    {
     "name": "stdout",
     "output_type": "stream",
     "text": [
      "           3           2\n",
      "0.0005249 x - 0.02405 x + 0.2183 x + 17.9\n",
      "           5             4           3           2\n",
      "5.633e-06 x - 0.0003281 x + 0.00673 x - 0.06363 x + 0.241 x + 18.07\n"
     ]
    },
    {
     "data": {
      "text/plain": [
       "array([ 5.24887841e-04, -2.40535837e-02,  2.18294544e-01,  1.78991823e+01])"
      ]
     },
     "execution_count": 59,
     "metadata": {},
     "output_type": "execute_result"
    }
   ],
   "source": [
    "#第三步：将目标函数的数组传递给polyfit()进行拟合，\n",
    "#第三个参数arg为多项式函数的最高阶数。\n",
    "#polyfit()所得到的多项式和目标函数在给定的1000个点之间的误差最小，\n",
    "#polyfit()返回多项式的系数数组。\n",
    "f3 = np.polyfit(x, y, 3)     #小明\n",
    "f5 = np.polyfit(x, y, 5)     #小张\n",
    "\n",
    "#根据多项式系数得到多项式函数\n",
    "pf3 = np.poly1d(f3)\n",
    "print(pf3)\n",
    "pf5 = np.poly1d(f5)\n",
    "print(pf5)\n",
    "f3"
   ]
  },
  {
   "cell_type": "code",
   "execution_count": 60,
   "metadata": {},
   "outputs": [
    {
     "data": {
      "text/plain": [
       "array([18.09394818, 18.24375619, 18.35175569, 18.421096  , 18.45492645,\n",
       "       18.45639636, 18.42865507, 18.37485191, 18.29813619, 18.20165725,\n",
       "       18.08856441, 17.962007  , 17.82513435, 17.68109579, 17.53304063,\n",
       "       17.38411821, 17.23747786, 17.0962689 , 16.96364066, 16.84274247,\n",
       "       16.73672365, 16.64873353, 16.58192143, 16.5394367 , 16.52442864,\n",
       "       16.54004659, 16.58943988])"
      ]
     },
     "execution_count": 60,
     "metadata": {},
     "output_type": "execute_result"
    }
   ],
   "source": [
    "#小明的拟合结果\n",
    "y1=pf3(x)\n",
    "y1"
   ]
  },
  {
   "cell_type": "code",
   "execution_count": 61,
   "metadata": {},
   "outputs": [
    {
     "data": {
      "text/plain": [
       "array([18.25670251, 18.3491801 , 18.37976899, 18.37135822, 18.34098939,\n",
       "       18.30053263, 18.25736263, 18.21503453, 18.17395995, 18.13208294,\n",
       "       18.08555591, 18.02941569, 17.95825941, 17.86692052, 17.75114474,\n",
       "       17.60826603, 17.4378826 , 17.24253279, 17.02837113, 16.80584428,\n",
       "       16.59036697, 16.40299802, 16.27111625, 16.22909651, 16.31898562,\n",
       "       16.59117833, 17.10509331])"
      ]
     },
     "execution_count": 61,
     "metadata": {},
     "output_type": "execute_result"
    }
   ],
   "source": [
    "#小张的拟合结果\n",
    "y2=pf5(x)\n",
    "y2"
   ]
  },
  {
   "cell_type": "markdown",
   "metadata": {},
   "source": [
    "（2）计算回归评价指标"
   ]
  },
  {
   "cell_type": "code",
   "execution_count": 62,
   "metadata": {},
   "outputs": [],
   "source": [
    "from sklearn import metrics    #"
   ]
  },
  {
   "cell_type": "code",
   "execution_count": 63,
   "metadata": {},
   "outputs": [
    {
     "name": "stdout",
     "output_type": "stream",
     "text": [
      "MAE：\n",
      "小明的MAE： 0.33792976098212335\n",
      "小张的MAE： 0.3243294190297237\n"
     ]
    }
   ],
   "source": [
    "# 计算MAE\n",
    "print('MAE：')\n",
    "print('小明的MAE： %s' % metrics.mean_absolute_error(y,y1))  #\n",
    "print('小张的MAE： %s' % metrics.mean_absolute_error(y,y2))  #"
   ]
  },
  {
   "cell_type": "code",
   "execution_count": 64,
   "metadata": {},
   "outputs": [
    {
     "name": "stdout",
     "output_type": "stream",
     "text": [
      "MSE：\n",
      "小明的MSE： 0.21588223051297073\n",
      "小张的MSE： 0.18031033294858906\n"
     ]
    }
   ],
   "source": [
    "# 计算MSE\n",
    "print('MSE：')\n",
    "print('小明的MSE： %s' % metrics.mean_squared_error(y,y1)) #\n",
    "print('小张的MSE： %s' % metrics.mean_squared_error(y,y2)) #"
   ]
  },
  {
   "cell_type": "code",
   "execution_count": 65,
   "metadata": {},
   "outputs": [
    {
     "name": "stdout",
     "output_type": "stream",
     "text": [
      "R2：\n",
      "小明的R2： 0.7119747548627833\n",
      "小张的R2：0.7594339852572062\n"
     ]
    }
   ],
   "source": [
    "# 计算决定系数\n",
    "print('R2：')\n",
    "print('小明的R2： %s' % metrics.r2_score(y,y1)) #\n",
    "print('小张的R2：%s' % metrics.r2_score(y,y2)) #"
   ]
  },
  {
   "cell_type": "markdown",
   "metadata": {},
   "source": [
    "（3）结论"
   ]
  },
  {
   "cell_type": "raw",
   "metadata": {},
   "source": [
    "小张所用的方法拟合效果更好。"
   ]
  },
  {
   "cell_type": "code",
   "execution_count": null,
   "metadata": {},
   "outputs": [],
   "source": []
  },
  {
   "cell_type": "code",
   "execution_count": null,
   "metadata": {},
   "outputs": [],
   "source": []
  }
 ],
 "metadata": {
  "kernelspec": {
   "display_name": "Python 3 (ipykernel)",
   "language": "python",
   "name": "python3"
  },
  "language_info": {
   "codemirror_mode": {
    "name": "ipython",
    "version": 3
   },
   "file_extension": ".py",
   "mimetype": "text/x-python",
   "name": "python",
   "nbconvert_exporter": "python",
   "pygments_lexer": "ipython3",
   "version": "3.11.0"
  }
 },
 "nbformat": 4,
 "nbformat_minor": 4
}
