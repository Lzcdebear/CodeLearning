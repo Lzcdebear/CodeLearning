{
 "cells": [
  {
   "attachments": {},
   "cell_type": "markdown",
   "metadata": {},
   "source": [
    "# 实验12（分类）作业题目"
   ]
  },
  {
   "attachments": {},
   "cell_type": "markdown",
   "metadata": {},
   "source": [
    "### 1.实验题1\n",
    "有一个糖尿病患者的数据文件“diabetes.csv”,文件中的前8列对应就诊病人的特征数据，最后一列“结论”则是标签（糖尿病判定结果，1表示“是”，0表示“不是”）。\n",
    "（1）请使用KNN分类器对文件中的数据进行分类，并评测其分类效果。\n",
    "（2）将特征集数据归一化后再使用KNN分类器分类，并评测其效果。\n",
    "（3）使用训练好的模型对新样本进行分类。"
   ]
  },
  {
   "attachments": {},
   "cell_type": "markdown",
   "metadata": {},
   "source": [
    "（1）使用KNN分类器对文件中的数据进行分类，并评测其分类效果。"
   ]
  },
  {
   "cell_type": "code",
   "execution_count": 36,
   "metadata": {},
   "outputs": [],
   "source": [
    "# （1）导入库\n",
    "import matplotlib.pyplot as plt\n",
    "import numpy as np\n",
    "import pandas as pd"
   ]
  },
  {
   "cell_type": "code",
   "execution_count": 37,
   "metadata": {},
   "outputs": [],
   "source": [
    "#导入KNeighborsClassifier类\n",
    "#导入train_test_split方法\n",
    "from sklearn.neighbors import KNeighborsClassifier\n",
    "#导入classification_report模块\n",
    "from sklearn.model_selection import train_test_split\n",
    "from sklearn.metrics import classification_report   "
   ]
  },
  {
   "cell_type": "code",
   "execution_count": 38,
   "metadata": {},
   "outputs": [
    {
     "data": {
      "text/html": [
       "<div>\n",
       "<style scoped>\n",
       "    .dataframe tbody tr th:only-of-type {\n",
       "        vertical-align: middle;\n",
       "    }\n",
       "\n",
       "    .dataframe tbody tr th {\n",
       "        vertical-align: top;\n",
       "    }\n",
       "\n",
       "    .dataframe thead th {\n",
       "        text-align: right;\n",
       "    }\n",
       "</style>\n",
       "<table border=\"1\" class=\"dataframe\">\n",
       "  <thead>\n",
       "    <tr style=\"text-align: right;\">\n",
       "      <th></th>\n",
       "      <th>妊娠</th>\n",
       "      <th>血糖</th>\n",
       "      <th>血压</th>\n",
       "      <th>皮肤厚度</th>\n",
       "      <th>胰岛素</th>\n",
       "      <th>BMI</th>\n",
       "      <th>糖尿病</th>\n",
       "      <th>患者年龄</th>\n",
       "      <th>结论</th>\n",
       "    </tr>\n",
       "  </thead>\n",
       "  <tbody>\n",
       "    <tr>\n",
       "      <th>0</th>\n",
       "      <td>6</td>\n",
       "      <td>148</td>\n",
       "      <td>72</td>\n",
       "      <td>35</td>\n",
       "      <td>0</td>\n",
       "      <td>33.6</td>\n",
       "      <td>0.627</td>\n",
       "      <td>50</td>\n",
       "      <td>1</td>\n",
       "    </tr>\n",
       "    <tr>\n",
       "      <th>1</th>\n",
       "      <td>1</td>\n",
       "      <td>85</td>\n",
       "      <td>66</td>\n",
       "      <td>29</td>\n",
       "      <td>0</td>\n",
       "      <td>26.6</td>\n",
       "      <td>0.351</td>\n",
       "      <td>31</td>\n",
       "      <td>0</td>\n",
       "    </tr>\n",
       "    <tr>\n",
       "      <th>2</th>\n",
       "      <td>8</td>\n",
       "      <td>183</td>\n",
       "      <td>64</td>\n",
       "      <td>0</td>\n",
       "      <td>0</td>\n",
       "      <td>23.3</td>\n",
       "      <td>0.672</td>\n",
       "      <td>32</td>\n",
       "      <td>1</td>\n",
       "    </tr>\n",
       "    <tr>\n",
       "      <th>3</th>\n",
       "      <td>1</td>\n",
       "      <td>89</td>\n",
       "      <td>66</td>\n",
       "      <td>23</td>\n",
       "      <td>94</td>\n",
       "      <td>28.1</td>\n",
       "      <td>0.167</td>\n",
       "      <td>21</td>\n",
       "      <td>0</td>\n",
       "    </tr>\n",
       "    <tr>\n",
       "      <th>4</th>\n",
       "      <td>0</td>\n",
       "      <td>137</td>\n",
       "      <td>40</td>\n",
       "      <td>35</td>\n",
       "      <td>168</td>\n",
       "      <td>43.1</td>\n",
       "      <td>2.288</td>\n",
       "      <td>33</td>\n",
       "      <td>1</td>\n",
       "    </tr>\n",
       "    <tr>\n",
       "      <th>...</th>\n",
       "      <td>...</td>\n",
       "      <td>...</td>\n",
       "      <td>...</td>\n",
       "      <td>...</td>\n",
       "      <td>...</td>\n",
       "      <td>...</td>\n",
       "      <td>...</td>\n",
       "      <td>...</td>\n",
       "      <td>...</td>\n",
       "    </tr>\n",
       "    <tr>\n",
       "      <th>763</th>\n",
       "      <td>10</td>\n",
       "      <td>101</td>\n",
       "      <td>76</td>\n",
       "      <td>48</td>\n",
       "      <td>180</td>\n",
       "      <td>32.9</td>\n",
       "      <td>0.171</td>\n",
       "      <td>63</td>\n",
       "      <td>0</td>\n",
       "    </tr>\n",
       "    <tr>\n",
       "      <th>764</th>\n",
       "      <td>2</td>\n",
       "      <td>122</td>\n",
       "      <td>70</td>\n",
       "      <td>27</td>\n",
       "      <td>0</td>\n",
       "      <td>36.8</td>\n",
       "      <td>0.340</td>\n",
       "      <td>27</td>\n",
       "      <td>0</td>\n",
       "    </tr>\n",
       "    <tr>\n",
       "      <th>765</th>\n",
       "      <td>5</td>\n",
       "      <td>121</td>\n",
       "      <td>72</td>\n",
       "      <td>23</td>\n",
       "      <td>112</td>\n",
       "      <td>26.2</td>\n",
       "      <td>0.245</td>\n",
       "      <td>30</td>\n",
       "      <td>0</td>\n",
       "    </tr>\n",
       "    <tr>\n",
       "      <th>766</th>\n",
       "      <td>1</td>\n",
       "      <td>126</td>\n",
       "      <td>60</td>\n",
       "      <td>0</td>\n",
       "      <td>0</td>\n",
       "      <td>30.1</td>\n",
       "      <td>0.349</td>\n",
       "      <td>47</td>\n",
       "      <td>1</td>\n",
       "    </tr>\n",
       "    <tr>\n",
       "      <th>767</th>\n",
       "      <td>1</td>\n",
       "      <td>93</td>\n",
       "      <td>70</td>\n",
       "      <td>31</td>\n",
       "      <td>0</td>\n",
       "      <td>30.4</td>\n",
       "      <td>0.315</td>\n",
       "      <td>23</td>\n",
       "      <td>0</td>\n",
       "    </tr>\n",
       "  </tbody>\n",
       "</table>\n",
       "<p>768 rows × 9 columns</p>\n",
       "</div>"
      ],
      "text/plain": [
       "     妊娠   血糖  血压  皮肤厚度  胰岛素   BMI    糖尿病  患者年龄  结论\n",
       "0     6  148  72    35    0  33.6  0.627    50   1\n",
       "1     1   85  66    29    0  26.6  0.351    31   0\n",
       "2     8  183  64     0    0  23.3  0.672    32   1\n",
       "3     1   89  66    23   94  28.1  0.167    21   0\n",
       "4     0  137  40    35  168  43.1  2.288    33   1\n",
       "..   ..  ...  ..   ...  ...   ...    ...   ...  ..\n",
       "763  10  101  76    48  180  32.9  0.171    63   0\n",
       "764   2  122  70    27    0  36.8  0.340    27   0\n",
       "765   5  121  72    23  112  26.2  0.245    30   0\n",
       "766   1  126  60     0    0  30.1  0.349    47   1\n",
       "767   1   93  70    31    0  30.4  0.315    23   0\n",
       "\n",
       "[768 rows x 9 columns]"
      ]
     },
     "execution_count": 38,
     "metadata": {},
     "output_type": "execute_result"
    }
   ],
   "source": [
    "# （2） 加载数据，并进行数据的分割\n",
    "data = pd.read_csv(r'F:\\Coding\\JupyterNotebook\\人工智能B\\第八讲作业\\diabetes.csv',encoding=\"GBK\")  #\n",
    "data"
   ]
  },
  {
   "cell_type": "code",
   "execution_count": 39,
   "metadata": {},
   "outputs": [],
   "source": [
    "#获取特征集及标签集"
   ]
  },
  {
   "cell_type": "code",
   "execution_count": 40,
   "metadata": {},
   "outputs": [],
   "source": [
    "X = data.iloc[:,:8]  #获得属性\n",
    "Y = data.iloc[:,8]  #获得标签"
   ]
  },
  {
   "cell_type": "code",
   "execution_count": 41,
   "metadata": {},
   "outputs": [],
   "source": [
    "#将数据集切分为训练集和测试集(比例为80%和20%)。"
   ]
  },
  {
   "cell_type": "code",
   "execution_count": 42,
   "metadata": {},
   "outputs": [],
   "source": [
    "X_train, X_test, Y_train, Y_test = train_test_split(X,Y,test_size=0.2,random_state=22); # 切分数据集，random_state=22 "
   ]
  },
  {
   "cell_type": "code",
   "execution_count": 43,
   "metadata": {},
   "outputs": [
    {
     "name": "stdout",
     "output_type": "stream",
     "text": [
      "[1 0 1 0 0 0 1 0 1 0 0 0 0 1 0 0 0 0 0 0 0 0 1 1 0 1 0 0 0 1 0 1 0 0 0 0 0\n",
      " 0 0 0 1 0 0 0 0 1 0 0 1 0 0 0 0 0 0 0 0 1 0 0 0 0 1 0 0 0 0 0 1 1 0 0 0 0\n",
      " 1 0 0 0 0 0 1 0 1 0 1 0 0 0 0 0 1 0 0 0 1 0 0 0 0 1 0 1 0 0 0 1 1 0 0 0 0\n",
      " 0 0 0 0 0 0 1 1 0 0 0 0 0 1 0 0 0 0 0 0 1 0 0 0 0 0 0 1 0 1 0 0 0 1 0 1 0\n",
      " 1 1 0 1 0 1]\n"
     ]
    }
   ],
   "source": [
    "# （3）利用KNN模型进行分类\n",
    "knc = KNeighborsClassifier()\n",
    "#使用训练集训练模型\n",
    "knc.fit(X_train, Y_train)\n",
    "#使用训练好的模型预测测试数据\n",
    "y_predict = knc.predict(X_test)\n",
    "print(y_predict)"
   ]
  },
  {
   "cell_type": "code",
   "execution_count": 44,
   "metadata": {},
   "outputs": [
    {
     "name": "stdout",
     "output_type": "stream",
     "text": [
      "The accuracy of K-Nearest Neighbor Classifier is 0.6948051948051948\n"
     ]
    }
   ],
   "source": [
    "# （4）使用模型自带的评估函数进行准确性测评。\n",
    "print('The accuracy of K-Nearest Neighbor Classifier is', knc.score(X_test, Y_test))   #"
   ]
  },
  {
   "cell_type": "code",
   "execution_count": 45,
   "metadata": {},
   "outputs": [
    {
     "name": "stdout",
     "output_type": "stream",
     "text": [
      "              precision    recall  f1-score   support\n",
      "\n",
      "           0       0.73      0.84      0.78       100\n",
      "           1       0.59      0.43      0.49        54\n",
      "\n",
      "    accuracy                           0.69       154\n",
      "   macro avg       0.66      0.63      0.64       154\n",
      "weighted avg       0.68      0.69      0.68       154\n",
      "\n"
     ]
    }
   ],
   "source": [
    "# （5）使用sklearn.metrics里面的classification_report模块对预测结果做更加详细的分析。\n",
    "print(classification_report(Y_test,y_predict))"
   ]
  },
  {
   "attachments": {},
   "cell_type": "markdown",
   "metadata": {},
   "source": [
    "（2）将特征集数据归一化后再使用KNN分类器分类，并评测其效果。"
   ]
  },
  {
   "cell_type": "code",
   "execution_count": 46,
   "metadata": {},
   "outputs": [],
   "source": [
    "#导入MinMaxScaler类用于归一化\n",
    "from sklearn.preprocessing import MinMaxScaler  #"
   ]
  },
  {
   "cell_type": "code",
   "execution_count": 47,
   "metadata": {},
   "outputs": [],
   "source": [
    "# 生成MinMaxScaler类实例化\n",
    "minmax_scaler = MinMaxScaler() #"
   ]
  },
  {
   "cell_type": "code",
   "execution_count": 48,
   "metadata": {},
   "outputs": [
    {
     "name": "stdout",
     "output_type": "stream",
     "text": [
      "[[0.35294118 0.74371859 0.59016393 ... 0.50074516 0.23441503 0.48333333]\n",
      " [0.05882353 0.42713568 0.54098361 ... 0.39642325 0.11656704 0.16666667]\n",
      " [0.47058824 0.91959799 0.52459016 ... 0.34724292 0.25362938 0.18333333]\n",
      " ...\n",
      " [0.29411765 0.6080402  0.59016393 ... 0.390462   0.07130658 0.15      ]\n",
      " [0.05882353 0.63316583 0.49180328 ... 0.4485842  0.11571307 0.43333333]\n",
      " [0.05882353 0.46733668 0.57377049 ... 0.45305514 0.10119556 0.03333333]]\n"
     ]
    }
   ],
   "source": [
    "# 数据归一化\n",
    "X1 = minmax_scaler.fit_transform(X) #\n",
    "print(X1)"
   ]
  },
  {
   "cell_type": "code",
   "execution_count": 49,
   "metadata": {},
   "outputs": [],
   "source": [
    "#将数据集切分为训练集和测试集(比例为80%和20%)\n",
    "X_train, X_test, Y_train, Y_test = train_test_split(X1, Y, test_size=0.2, random_state=22);  ## 切分数据集 "
   ]
  },
  {
   "cell_type": "code",
   "execution_count": 50,
   "metadata": {},
   "outputs": [
    {
     "name": "stdout",
     "output_type": "stream",
     "text": [
      "[1 0 0 0 0 1 0 0 0 0 0 0 0 1 0 0 0 0 1 0 0 0 1 1 0 1 0 0 0 1 0 0 0 0 0 0 1\n",
      " 0 0 0 1 0 0 0 0 1 0 0 1 0 1 0 0 0 0 0 0 1 0 0 0 0 1 0 0 0 0 1 1 1 0 0 0 0\n",
      " 1 0 0 1 0 0 1 0 0 0 1 0 0 0 0 0 1 0 0 0 1 0 0 0 0 0 0 1 0 0 0 0 1 1 0 0 0\n",
      " 1 0 0 0 0 0 1 0 0 0 0 0 0 0 0 0 0 0 0 0 1 0 0 0 0 0 0 1 0 0 0 0 0 1 0 1 0\n",
      " 1 1 0 0 0 1]\n"
     ]
    }
   ],
   "source": [
    "# 利用KNN模型进行分类\n",
    "knc = KNeighborsClassifier()  #\n",
    "#使用训练集训练模型\n",
    "knc.fit(X_train, Y_train) #\n",
    "#使用训练好的模型预测测试数据\n",
    "y_predict = knc.predict(X_test) #\n",
    "print(y_predict)"
   ]
  },
  {
   "cell_type": "code",
   "execution_count": 51,
   "metadata": {},
   "outputs": [
    {
     "name": "stdout",
     "output_type": "stream",
     "text": [
      "The accuracy of K-Nearest Neighbor Classifier is 0.7272727272727273\n"
     ]
    }
   ],
   "source": [
    "# 使用模型自带的评估函数进行准确性测评。\n",
    "print('The accuracy of K-Nearest Neighbor Classifier is', knc.score(X_test, Y_test)) #"
   ]
  },
  {
   "cell_type": "code",
   "execution_count": 52,
   "metadata": {},
   "outputs": [
    {
     "name": "stdout",
     "output_type": "stream",
     "text": [
      "              precision    recall  f1-score   support\n",
      "\n",
      "           0       0.75      0.88      0.81       100\n",
      "           1       0.67      0.44      0.53        54\n",
      "\n",
      "    accuracy                           0.73       154\n",
      "   macro avg       0.71      0.66      0.67       154\n",
      "weighted avg       0.72      0.73      0.71       154\n",
      "\n"
     ]
    }
   ],
   "source": [
    "# 使用sklearn.metrics里面的classification_report模块对预测结果做更加详细的分析。\n",
    "print(classification_report(Y_test,y_predict))"
   ]
  },
  {
   "attachments": {},
   "cell_type": "markdown",
   "metadata": {},
   "source": [
    "（3）使用训练好的模型对新样本进行分类。"
   ]
  },
  {
   "cell_type": "code",
   "execution_count": 53,
   "metadata": {},
   "outputs": [
    {
     "data": {
      "text/html": [
       "<div>\n",
       "<style scoped>\n",
       "    .dataframe tbody tr th:only-of-type {\n",
       "        vertical-align: middle;\n",
       "    }\n",
       "\n",
       "    .dataframe tbody tr th {\n",
       "        vertical-align: top;\n",
       "    }\n",
       "\n",
       "    .dataframe thead th {\n",
       "        text-align: right;\n",
       "    }\n",
       "</style>\n",
       "<table border=\"1\" class=\"dataframe\">\n",
       "  <thead>\n",
       "    <tr style=\"text-align: right;\">\n",
       "      <th></th>\n",
       "      <th>妊娠</th>\n",
       "      <th>血糖</th>\n",
       "      <th>血压</th>\n",
       "      <th>皮肤厚度</th>\n",
       "      <th>胰岛素</th>\n",
       "      <th>BMI</th>\n",
       "      <th>糖尿病</th>\n",
       "      <th>患者年龄</th>\n",
       "    </tr>\n",
       "  </thead>\n",
       "  <tbody>\n",
       "    <tr>\n",
       "      <th>0</th>\n",
       "      <td>0</td>\n",
       "      <td>188</td>\n",
       "      <td>60</td>\n",
       "      <td>23</td>\n",
       "      <td>846</td>\n",
       "      <td>30.1</td>\n",
       "      <td>0.398</td>\n",
       "      <td>59</td>\n",
       "    </tr>\n",
       "    <tr>\n",
       "      <th>1</th>\n",
       "      <td>2</td>\n",
       "      <td>121</td>\n",
       "      <td>88</td>\n",
       "      <td>41</td>\n",
       "      <td>235</td>\n",
       "      <td>39.3</td>\n",
       "      <td>0.704</td>\n",
       "      <td>27</td>\n",
       "    </tr>\n",
       "  </tbody>\n",
       "</table>\n",
       "</div>"
      ],
      "text/plain": [
       "   妊娠   血糖  血压  皮肤厚度  胰岛素   BMI    糖尿病  患者年龄\n",
       "0   0  188  60    23  846  30.1  0.398    59\n",
       "1   2  121  88    41  235  39.3  0.704    27"
      ]
     },
     "execution_count": 53,
     "metadata": {},
     "output_type": "execute_result"
    }
   ],
   "source": [
    "# （2） 加载数据，并进行数据的分割\n",
    "data2 = pd.read_excel(r'F:\\Coding\\JupyterNotebook\\人工智能B\\第八讲作业\\sample1.xlsx',sheet_name=\"Sheet1\")  #\n",
    "data2"
   ]
  },
  {
   "cell_type": "code",
   "execution_count": 54,
   "metadata": {},
   "outputs": [
    {
     "name": "stdout",
     "output_type": "stream",
     "text": [
      "[[0.         0.94472362 0.49180328 0.23232323 1.         0.4485842\n",
      "  0.13663535 0.63333333]\n",
      " [0.11764706 0.6080402  0.72131148 0.41414141 0.27777778 0.585693\n",
      "  0.26729291 0.1       ]]\n"
     ]
    }
   ],
   "source": [
    "# 数据归一化\n",
    "data2_minmax = minmax_scaler.transform(data2)  #将前面生成的归一化实例规则应用于新的数据，注意不需要重新生成规则\n",
    "print(data2_minmax)"
   ]
  },
  {
   "cell_type": "code",
   "execution_count": 55,
   "metadata": {},
   "outputs": [
    {
     "name": "stdout",
     "output_type": "stream",
     "text": [
      "[1 0]\n"
     ]
    }
   ],
   "source": [
    "#使用训练好的模型预测测试数据\n",
    "y_predict2 = knc.predict(data2_minmax)  #\n",
    "print(y_predict2)"
   ]
  },
  {
   "cell_type": "code",
   "execution_count": 56,
   "metadata": {},
   "outputs": [
    {
     "name": "stdout",
     "output_type": "stream",
     "text": [
      "患者1（59岁）判断为   有   糖尿病   #有、无\n",
      "患者2（27岁）判断为   无   糖尿病   #有、无\n"
     ]
    }
   ],
   "source": [
    "#结论\n",
    "print('患者1（59岁）判断为   有   糖尿病   #有、无')\n",
    "print('患者2（27岁）判断为   无   糖尿病   #有、无')   "
   ]
  },
  {
   "attachments": {},
   "cell_type": "markdown",
   "metadata": {},
   "source": [
    "### 2.实验题2\n",
    "利用sklearn中的make_bolbs()函数随机生成150个样本数据，样本数据特征数为2个，然后使用KNN分类器进行分析与预测。"
   ]
  },
  {
   "cell_type": "code",
   "execution_count": 57,
   "metadata": {},
   "outputs": [],
   "source": [
    "# （1）导入库\n",
    "from sklearn.datasets import make_blobs\n",
    "from matplotlib import pyplot as plt\n",
    "from sklearn.neighbors import KNeighborsClassifier   #导入KNeighborsClassifier类\n",
    "from sklearn.model_selection import train_test_split   #导入train_test_split方法\n",
    "from sklearn.metrics import classification_report   #导入classification_report模块"
   ]
  },
  {
   "cell_type": "code",
   "execution_count": 58,
   "metadata": {},
   "outputs": [
    {
     "data": {
      "image/png": "[encoded data removed]",
      "text/plain": [
       "<Figure size 864x576 with 1 Axes>"
      ]
     },
     "metadata": {},
     "output_type": "display_data"
    }
   ],
   "source": [
    "# （2）利用make_blobs函数生成150个样本数据，特征数为2的数据\n",
    "X, Y = make_blobs(n_samples=150, n_features=2)\n",
    "# （3）利用散点图展示出来\n",
    "plt.figure(figsize=(6, 4), dpi=144)\n",
    "plt.xticks(())\n",
    "plt.yticks(())\n",
    "plt.scatter(X[:,0], X[:,1], s=20, marker='o');  #用散点图画出每个样本的两个属性\n",
    "plt.show()"
   ]
  },
  {
   "cell_type": "code",
   "execution_count": 59,
   "metadata": {},
   "outputs": [],
   "source": [
    "#将数据集切分为训练集和测试集(比例为80%和20%)。\n",
    "X_train, X_test, Y_train, Y_test =  train_test_split(X,Y,test_size=0.2);  # 切分训练集、测试集为8：2"
   ]
  },
  {
   "cell_type": "code",
   "execution_count": 60,
   "metadata": {},
   "outputs": [],
   "source": [
    "# （3）利用KNN模型进行分类\n",
    "knc = KNeighborsClassifier()  #生成K分类器实例\n",
    "knc.fit(X_train,Y_train)   #使用训练数据训练分类器模型\n",
    "y_predict = knc.predict(X_test)   #验证训练好的模型\n"
   ]
  },
  {
   "cell_type": "code",
   "execution_count": 61,
   "metadata": {},
   "outputs": [
    {
     "name": "stdout",
     "output_type": "stream",
     "text": [
      "The accuracy of K-Nearest Neighbor Classifier is 1.0\n"
     ]
    }
   ],
   "source": [
    "# （4）使用模型自带的评估函数进行准确性测评。\n",
    "print('The accuracy of K-Nearest Neighbor Classifier is', knc.score(X_test, Y_test)) #\n"
   ]
  },
  {
   "cell_type": "code",
   "execution_count": 62,
   "metadata": {},
   "outputs": [
    {
     "name": "stdout",
     "output_type": "stream",
     "text": [
      "              precision    recall  f1-score   support\n",
      "\n",
      "           0       1.00      1.00      1.00        11\n",
      "           1       1.00      1.00      1.00         8\n",
      "           2       1.00      1.00      1.00        11\n",
      "\n",
      "    accuracy                           1.00        30\n",
      "   macro avg       1.00      1.00      1.00        30\n",
      "weighted avg       1.00      1.00      1.00        30\n",
      "\n"
     ]
    }
   ],
   "source": [
    "# （5）使用sklearn.metrics里面的classification_report模块对预测结果做更加详细的分析。\n",
    "print(classification_report(Y_test,y_predict)) #\n"
   ]
  },
  {
   "attachments": {},
   "cell_type": "markdown",
   "metadata": {},
   "source": [
    "### 3.实验题3\n",
    "对sklearn中的手写数字使用KNN分类器进行分类分析，将原数据的80%设为训练数据，20%设为测试数据。"
   ]
  },
  {
   "cell_type": "code",
   "execution_count": 63,
   "metadata": {},
   "outputs": [],
   "source": [
    "# （1）导入库\n",
    "from sklearn.datasets import load_digits\n",
    "import matplotlib.pyplot as plt\n",
    "import numpy as np\n",
    "from sklearn.neighbors import KNeighborsClassifier   #导入KNeighborsClassifier类\n",
    "from sklearn.model_selection import train_test_split   #导入train_test_split方法\n",
    "from sklearn.metrics import classification_report   #导入classification_report模块"
   ]
  },
  {
   "cell_type": "code",
   "execution_count": 64,
   "metadata": {},
   "outputs": [
    {
     "data": {
      "image/png": "[encoded data removed]",
      "text/plain": [
       "<Figure size 1000x500 with 10 Axes>"
      ]
     },
     "metadata": {},
     "output_type": "display_data"
    }
   ],
   "source": [
    "# （2）调用load_digits()读入手写数字信息，并显示前十张图片展示手写数字\n",
    "digits = load_digits()\n",
    "images = digits.images\n",
    "plt.figure(figsize=(10, 5))\n",
    "plt.suptitle('handwritten_Image')\n",
    "# 前十张图片\n",
    "for i in range(10):\n",
    "    plt.subplot(2, 5, i + 1), plt.title('image%i' % (i + 1))\n",
    "    plt.imshow(images[i]), plt.axis('off')\n",
    "plt.show()"
   ]
  },
  {
   "cell_type": "code",
   "execution_count": 65,
   "metadata": {},
   "outputs": [],
   "source": [
    "# （3）分割数据，将数据集切分为训练集和测试集(比例为80%和20%)。\n",
    "X_train, X_test, Y_train, Y_test = train_test_split(digits.data, digits.target, test_size=0.2, random_state=33)  # 切分训练集、测试集为8：2\n"
   ]
  },
  {
   "cell_type": "code",
   "execution_count": 66,
   "metadata": {},
   "outputs": [],
   "source": [
    "# （4）利用KNN模型进行分类\n",
    "knc = KNeighborsClassifier()  #生成K分类器实例\n",
    "knc.fit(X_train,Y_train)   #使用训练数据训练分类器模型\n",
    "y_predict = knc.predict(X_test)   #验证训练好的模型"
   ]
  },
  {
   "cell_type": "code",
   "execution_count": 67,
   "metadata": {},
   "outputs": [
    {
     "name": "stdout",
     "output_type": "stream",
     "text": [
      "The accuracy of K-Nearest Neighbor Classifier is 0.9861111111111112\n"
     ]
    }
   ],
   "source": [
    "# （5）使用模型自带的评估函数进行准确性测评。\n",
    "print('The accuracy of K-Nearest Neighbor Classifier is', knc.score(X_test, Y_test)) #\n"
   ]
  },
  {
   "cell_type": "code",
   "execution_count": 68,
   "metadata": {},
   "outputs": [
    {
     "name": "stdout",
     "output_type": "stream",
     "text": [
      "              precision    recall  f1-score   support\n",
      "\n",
      "           0       1.00      1.00      1.00        29\n",
      "           1       0.94      1.00      0.97        46\n",
      "           2       1.00      1.00      1.00        37\n",
      "           3       1.00      1.00      1.00        39\n",
      "           4       1.00      1.00      1.00        25\n",
      "           5       0.97      0.97      0.97        37\n",
      "           6       0.98      1.00      0.99        41\n",
      "           7       1.00      1.00      1.00        29\n",
      "           8       1.00      0.95      0.98        44\n",
      "           9       1.00      0.94      0.97        33\n",
      "\n",
      "    accuracy                           0.99       360\n",
      "   macro avg       0.99      0.99      0.99       360\n",
      "weighted avg       0.99      0.99      0.99       360\n",
      "\n"
     ]
    }
   ],
   "source": [
    "# （6）使用sklearn.metrics里面的classification_report模块对预测结果做更加详细的分析。\n",
    "print(classification_report(Y_test,y_predict))  #\n"
   ]
  },
  {
   "attachments": {},
   "cell_type": "markdown",
   "metadata": {},
   "source": [
    "### 4.附加题"
   ]
  },
  {
   "attachments": {},
   "cell_type": "markdown",
   "metadata": {},
   "source": [
    "文件sample2中存放着一些电影的名称和统计数据，前8部片子已给出电影类型（动作片或爱情片），请使用KNN分类器，预测第9部片子的电影类型。"
   ]
  },
  {
   "attachments": {
    "%E7%94%B5%E5%BD%B1%E7%B1%BB%E5%9E%8B.jpg": {
     "image/jpeg": "[encoded data removed]"
    }
   },
   "cell_type": "markdown",
   "metadata": {},
   "source": [
    "![%E7%94%B5%E5%BD%B1%E7%B1%BB%E5%9E%8B.jpg](attachment:%E7%94%B5%E5%BD%B1%E7%B1%BB%E5%9E%8B.jpg)"
   ]
  },
  {
   "attachments": {},
   "cell_type": "markdown",
   "metadata": {},
   "source": [
    "提示：因样本数据较少，建议K值取3。这里，“拥抱镜头”和“打斗镜头”可作为特征集，“电影类型”可作为标签集，但需二值化处理。建议特征集也作归一化处理。最后给出结论（第9部电影“唐人街探案”是什么片）。"
   ]
  },
  {
   "cell_type": "code",
   "execution_count": 69,
   "metadata": {},
   "outputs": [
    {
     "name": "stdout",
     "output_type": "stream",
     "text": [
      "   序号   电影名称  拥抱镜头  打斗镜头 电影类型\n",
      "0   1    叶问3     2    65  动作片\n",
      "1   2   伦敦陷落     3    55  动作片\n",
      "2   3   代理情人    38     2  爱情片\n",
      "3   4  新步步惊心    34    10  爱情片\n",
      "4   5     海王     2    50  动作片\n",
      "5   6     无双     4    40  动作片\n",
      "6   7   人间中毒    28     1  爱情片\n",
      "7   8  傲慢与偏见    25     0  爱情片\n",
      "8   9  唐人街探案     3    30  NaN\n",
      "   序号   电影名称  拥抱镜头  打斗镜头 电影类型\n",
      "0   1    叶问3     2    65  动作片\n",
      "1   2   伦敦陷落     3    55  动作片\n",
      "2   3   代理情人    38     2  爱情片\n",
      "3   4  新步步惊心    34    10  爱情片\n",
      "4   5     海王     2    50  动作片\n",
      "5   6     无双     4    40  动作片\n",
      "6   7   人间中毒    28     1  爱情片\n",
      "7   8  傲慢与偏见    25     0  爱情片\n",
      "   拥抱镜头  打斗镜头\n",
      "8     3    30\n",
      "[0] 动作片\n",
      "[[0]\n",
      " [0]] [0 0]\n",
      "[0]\n",
      "电影是动作片\n"
     ]
    },
    {
     "name": "stderr",
     "output_type": "stream",
     "text": [
      "C:\\Users\\陆知辰\\AppData\\Roaming\\Python\\Python311\\site-packages\\sklearn\\neighbors\\_classification.py:215: DataConversionWarning: A column-vector y was passed when a 1d array was expected. Please change the shape of y to (n_samples,), for example using ravel().\n",
      "  return self._fit(X, y)\n"
     ]
    }
   ],
   "source": [
    "\n",
    "# 最后进行了一个输入的操作，但是再jupyter里面好像会一直运行下去如果不输入的话，所以要不在运行的时候输入以下吧\n",
    "# 这里测试出来的动作片的数值一直是0，爱情片的数值是1\n",
    "'''\n",
    "第四题\n",
    "\n",
    "建议k值选取3\n",
    "拥抱镜头和打斗镜头 特征集\n",
    "电影类型          标签集\n",
    "需要二值化处理\n",
    "特征集归一化处理\n",
    "最后得出结论 第九部电影是什么片\n",
    "'''\n",
    "# 导入库\n",
    "import numpy as np\n",
    "import pandas as pd\n",
    "\n",
    "from sklearn.neighbors import KNeighborsClassifier\n",
    "from sklearn.model_selection import train_test_split\n",
    "from sklearn.preprocessing import MinMaxScaler\n",
    "from sklearn import preprocessing\n",
    "\n",
    "# 归一化对象\n",
    "minmax_scaler = MinMaxScaler()\n",
    "# 二值化对象\n",
    "lb = preprocessing.LabelBinarizer()\n",
    "# 模型对象\n",
    "k = 3\n",
    "knc = KNeighborsClassifier(n_neighbors=k)\n",
    "\n",
    "# 导入数据\n",
    "filmdata = pd.read_excel(r'F:\\Coding\\JupyterNotebook\\人工智能B\\第八讲作业\\sample2.xlsx')\n",
    "print(filmdata)\n",
    "# -----------------------------进行数据处理-------------------------------------\n",
    "filmusingdata = filmdata.dropna(axis=0,inplace=False)\n",
    "filmunkowndatatemp = filmdata.iloc[filmusingdata.shape[0]:,2:4]\n",
    "print(filmusingdata)\n",
    "print(filmunkowndatatemp)\n",
    "# 获得数据集和标签集\n",
    "Xtemp = filmusingdata.iloc[:,2:4]\n",
    "Ytemp = filmusingdata.iloc[:,4]\n",
    "# 对数据进行二值化处理\n",
    "Y = lb.fit_transform(Ytemp)\n",
    "print(Y[0],Ytemp[0])\n",
    "dongzuopian = input('动作片数值')\n",
    "# 对数据集进行二值化处理\n",
    "X = minmax_scaler.fit_transform(Xtemp)\n",
    "filmunkowndata = minmax_scaler.transform(filmunkowndatatemp)\n",
    "# 将数据集合拆分为两部分\n",
    "X_train, X_test, Y_train, Y_test = train_test_split(X,Y,test_size=0.2,random_state=69)\n",
    "# -----------------------------进行模型练习------------------------------------\n",
    "knc.fit(X_train,Y_train)\n",
    "y_predict = knc.predict(X_test)\n",
    "print(Y_test,y_predict)\n",
    "# -----------------------------进行预测---------------------------------\n",
    "a = knc.predict(filmunkowndata)\n",
    "print(a)\n",
    "if int(a) == int(dongzuopian):\n",
    "    print('电影是动作片')\n",
    "else:\n",
    "    print('电影是爱情片')\n"
   ]
  }
 ],
 "metadata": {
  "kernelspec": {
   "display_name": "Python 3",
   "language": "python",
   "name": "python3"
  },
  "language_info": {
   "codemirror_mode": {
    "name": "ipython",
    "version": 3
   },
   "file_extension": ".py",
   "mimetype": "text/x-python",
   "name": "python",
   "nbconvert_exporter": "python",
   "pygments_lexer": "ipython3",
   "version": "3.11.0"
  }
 },
 "nbformat": 4,
 "nbformat_minor": 4
}
