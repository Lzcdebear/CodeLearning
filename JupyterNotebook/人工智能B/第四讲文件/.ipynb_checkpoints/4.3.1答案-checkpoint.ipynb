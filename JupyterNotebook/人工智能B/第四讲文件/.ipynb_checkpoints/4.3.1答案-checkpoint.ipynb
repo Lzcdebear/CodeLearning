{
 "cells": [
  {
   "cell_type": "markdown",
   "metadata": {},
   "source": [
    "## 4.3.1 数据预处理\n",
    "&emsp;&emsp;数据预处理包括对缺失数据处理和重复数据的处理。\n",
    "\n",
    "### 1. 缺失数据的处理\n",
    "&emsp;&emsp;对缺失数据的处理主要包括缺失数据的清除和缺失数据的填充，Pandas为DataFrame数据提供了对应的处理函数。\n",
    "#### （1）缺失数据的清除\n",
    "&emsp;&emsp;dropna()函数用于删除缺失值所在的行或列，并返回新的对象，同时该函数不会改变原始对象，其格式如下：\n",
    "\n",
    "&emsp;&emsp;&emsp;&emsp;DataFrame.dropna (axis=0, how='any', thresh=None, inplace=False,…)\n",
    "\n",
    "&emsp;&emsp;其中，axis表示删除缺失值所在的行或者列，值为0表示删除行，值为1表示删除列；how表示是否全为缺失值才进行移除，值为'any'表示行/列中只要包含缺失值就会进行移除，值为'all'表示行/列的全部值都为缺失值才会进行移除，默认值为'any'。在扣除缺失值后行/列中还剩余一定数量的有效数据，thresh表示移除有效数据的个数小于thresh的行/列，thresh的类型为整数。inplace表示是否对当前对象进行清除，值为False表示不对当前对象进行清除，生成新对象，值为True表示对当前对象进行清除，不产生新对象，默认值为False。\n",
    "\n",
    "&emsp;&emsp;为了获取实验数据，首先从文件Boston_pandas.csv中读取数据到DataFrame对象。将素材Boston_pandas.csv从\"配套资源\\第4章\\\"下拷贝到\"C:\\配套资源\\第4章\\\"下。\n",
    "\n",
    "&emsp;&emsp;**例4-3-1** 从Boston_pandas.csv文件中读取数据到DataFrame对象boston。"
   ]
  },
  {
   "cell_type": "code",
   "execution_count": 1,
   "metadata": {},
   "outputs": [],
   "source": [
    "import pandas as pd"
   ]
  },
  {
   "cell_type": "markdown",
   "metadata": {},
   "source": [
    "#从CSV文件读取数据到DataFrame对象"
   ]
  },
  {
   "cell_type": "code",
   "execution_count": 2,
   "metadata": {},
   "outputs": [],
   "source": [
    "boston=pd.read_csv(r'C:\\\\配套资源\\\\第4章\\\\Boston_pandas.csv')"
   ]
  },
  {
   "cell_type": "code",
   "execution_count": 3,
   "metadata": {},
   "outputs": [
    {
     "data": {
      "text/html": [
       "<div>\n",
       "<style scoped>\n",
       "    .dataframe tbody tr th:only-of-type {\n",
       "        vertical-align: middle;\n",
       "    }\n",
       "\n",
       "    .dataframe tbody tr th {\n",
       "        vertical-align: top;\n",
       "    }\n",
       "\n",
       "    .dataframe thead th {\n",
       "        text-align: right;\n",
       "    }\n",
       "</style>\n",
       "<table border=\"1\" class=\"dataframe\">\n",
       "  <thead>\n",
       "    <tr style=\"text-align: right;\">\n",
       "      <th></th>\n",
       "      <th>CRIM</th>\n",
       "      <th>NOX</th>\n",
       "      <th>RM</th>\n",
       "      <th>AGE</th>\n",
       "      <th>LSTAT</th>\n",
       "      <th>MEDV</th>\n",
       "    </tr>\n",
       "  </thead>\n",
       "  <tbody>\n",
       "    <tr>\n",
       "      <th>0</th>\n",
       "      <td>0.08829</td>\n",
       "      <td>0.524</td>\n",
       "      <td>6.012</td>\n",
       "      <td>66.6</td>\n",
       "      <td>12.43</td>\n",
       "      <td>22.9</td>\n",
       "    </tr>\n",
       "    <tr>\n",
       "      <th>1</th>\n",
       "      <td>0.14455</td>\n",
       "      <td>NaN</td>\n",
       "      <td>6.172</td>\n",
       "      <td>96.1</td>\n",
       "      <td>19.15</td>\n",
       "      <td>27.1</td>\n",
       "    </tr>\n",
       "    <tr>\n",
       "      <th>2</th>\n",
       "      <td>0.21124</td>\n",
       "      <td>0.524</td>\n",
       "      <td>NaN</td>\n",
       "      <td>NaN</td>\n",
       "      <td>29.93</td>\n",
       "      <td>16.5</td>\n",
       "    </tr>\n",
       "    <tr>\n",
       "      <th>3</th>\n",
       "      <td>0.17004</td>\n",
       "      <td>NaN</td>\n",
       "      <td>6.004</td>\n",
       "      <td>85.9</td>\n",
       "      <td>17.10</td>\n",
       "      <td>18.9</td>\n",
       "    </tr>\n",
       "    <tr>\n",
       "      <th>4</th>\n",
       "      <td>0.22489</td>\n",
       "      <td>0.524</td>\n",
       "      <td>6.377</td>\n",
       "      <td>94.3</td>\n",
       "      <td>20.45</td>\n",
       "      <td>15.0</td>\n",
       "    </tr>\n",
       "    <tr>\n",
       "      <th>5</th>\n",
       "      <td>0.22489</td>\n",
       "      <td>0.524</td>\n",
       "      <td>6.377</td>\n",
       "      <td>94.3</td>\n",
       "      <td>20.45</td>\n",
       "      <td>15.0</td>\n",
       "    </tr>\n",
       "  </tbody>\n",
       "</table>\n",
       "</div>"
      ],
      "text/plain": [
       "      CRIM    NOX     RM   AGE  LSTAT  MEDV\n",
       "0  0.08829  0.524  6.012  66.6  12.43  22.9\n",
       "1  0.14455    NaN  6.172  96.1  19.15  27.1\n",
       "2  0.21124  0.524    NaN   NaN  29.93  16.5\n",
       "3  0.17004    NaN  6.004  85.9  17.10  18.9\n",
       "4  0.22489  0.524  6.377  94.3  20.45  15.0\n",
       "5  0.22489  0.524  6.377  94.3  20.45  15.0"
      ]
     },
     "execution_count": 3,
     "metadata": {},
     "output_type": "execute_result"
    }
   ],
   "source": [
    "boston"
   ]
  },
  {
   "cell_type": "markdown",
   "metadata": {},
   "source": [
    "&emsp;&emsp;在读取数据时，Pandas使用NumPy中定义的NaN来表示缺失值。Boston_pandas.csv为波士顿房价数据集，每条数据包括了房屋和周围的一些信息。其中包括CRIM（城镇人均犯罪率）、NOX（一氧化氮浓度）、RM（一氧化氮浓度）、AGE（1940年之前建成的自用房屋比例）、LSTAT（人口中地位低下者的比例）和MEDV（自住房的平均房价）。\n",
    "\n",
    "&emsp;&emsp;**例4-3-2** 清除波士顿房价数据集Boston_pandas.csv中的缺失数据超过1个的行（由于每行有6列，因此也就是移除有效数据小于5个的行）。"
   ]
  },
  {
   "cell_type": "markdown",
   "metadata": {},
   "source": [
    "#移除有效数据小于5个的行"
   ]
  },
  {
   "cell_type": "code",
   "execution_count": 4,
   "metadata": {},
   "outputs": [],
   "source": [
    "boston.dropna(thresh=5,inplace=True)"
   ]
  },
  {
   "cell_type": "code",
   "execution_count": 5,
   "metadata": {},
   "outputs": [
    {
     "data": {
      "text/html": [
       "<div>\n",
       "<style scoped>\n",
       "    .dataframe tbody tr th:only-of-type {\n",
       "        vertical-align: middle;\n",
       "    }\n",
       "\n",
       "    .dataframe tbody tr th {\n",
       "        vertical-align: top;\n",
       "    }\n",
       "\n",
       "    .dataframe thead th {\n",
       "        text-align: right;\n",
       "    }\n",
       "</style>\n",
       "<table border=\"1\" class=\"dataframe\">\n",
       "  <thead>\n",
       "    <tr style=\"text-align: right;\">\n",
       "      <th></th>\n",
       "      <th>CRIM</th>\n",
       "      <th>NOX</th>\n",
       "      <th>RM</th>\n",
       "      <th>AGE</th>\n",
       "      <th>LSTAT</th>\n",
       "      <th>MEDV</th>\n",
       "    </tr>\n",
       "  </thead>\n",
       "  <tbody>\n",
       "    <tr>\n",
       "      <th>0</th>\n",
       "      <td>0.08829</td>\n",
       "      <td>0.524</td>\n",
       "      <td>6.012</td>\n",
       "      <td>66.6</td>\n",
       "      <td>12.43</td>\n",
       "      <td>22.9</td>\n",
       "    </tr>\n",
       "    <tr>\n",
       "      <th>1</th>\n",
       "      <td>0.14455</td>\n",
       "      <td>NaN</td>\n",
       "      <td>6.172</td>\n",
       "      <td>96.1</td>\n",
       "      <td>19.15</td>\n",
       "      <td>27.1</td>\n",
       "    </tr>\n",
       "    <tr>\n",
       "      <th>3</th>\n",
       "      <td>0.17004</td>\n",
       "      <td>NaN</td>\n",
       "      <td>6.004</td>\n",
       "      <td>85.9</td>\n",
       "      <td>17.10</td>\n",
       "      <td>18.9</td>\n",
       "    </tr>\n",
       "    <tr>\n",
       "      <th>4</th>\n",
       "      <td>0.22489</td>\n",
       "      <td>0.524</td>\n",
       "      <td>6.377</td>\n",
       "      <td>94.3</td>\n",
       "      <td>20.45</td>\n",
       "      <td>15.0</td>\n",
       "    </tr>\n",
       "    <tr>\n",
       "      <th>5</th>\n",
       "      <td>0.22489</td>\n",
       "      <td>0.524</td>\n",
       "      <td>6.377</td>\n",
       "      <td>94.3</td>\n",
       "      <td>20.45</td>\n",
       "      <td>15.0</td>\n",
       "    </tr>\n",
       "  </tbody>\n",
       "</table>\n",
       "</div>"
      ],
      "text/plain": [
       "      CRIM    NOX     RM   AGE  LSTAT  MEDV\n",
       "0  0.08829  0.524  6.012  66.6  12.43  22.9\n",
       "1  0.14455    NaN  6.172  96.1  19.15  27.1\n",
       "3  0.17004    NaN  6.004  85.9  17.10  18.9\n",
       "4  0.22489  0.524  6.377  94.3  20.45  15.0\n",
       "5  0.22489  0.524  6.377  94.3  20.45  15.0"
      ]
     },
     "execution_count": 5,
     "metadata": {},
     "output_type": "execute_result"
    }
   ],
   "source": [
    "boston"
   ]
  },
  {
   "cell_type": "markdown",
   "metadata": {},
   "source": [
    "&emsp;&emsp;参数axis采用了默认值0，表示按照行的方向逐行检查，进行移除；参数how采用了默认值'any'，表示当前行中只要包含缺失值就会准备进行移除；参数thresh=5，表示移除有效数据小于5个的行。观察原数据，只有索引值为2的行满足了这些条件。观察程序运行结果，果然缺少了索引值为2的行。"
   ]
  },
  {
   "cell_type": "markdown",
   "metadata": {},
   "source": [
    "#### （2）缺失数据的填充\n",
    "&emsp;&emsp;fillna()函数用于批量填充缺失值，并返回新的对象，同时该函数不会改变原始对象，其常用格式如下：\n",
    "\n",
    "&emsp;&emsp;&emsp;&emsp;DataFrame.fillna(value,…)\n",
    "\n",
    "&emsp;&emsp;其中，value包含了需要填充的值，value的类型可以是常量、字典、Series或DataFrame。\n",
    "\n",
    "&emsp;&emsp;**例4-3-3** 将'NOX'列缺失值填充为0.524。\n",
    "\n",
    "&emsp;&emsp;观察以上程序的输出，可以发现在'NOX'列除了两个缺失值外，其他值都为0.524，所以将'NOX'列中的缺失值填充为0.524。 "
   ]
  },
  {
   "cell_type": "code",
   "execution_count": 6,
   "metadata": {},
   "outputs": [],
   "source": [
    "boston.fillna(value={'NOX':0.524},inplace=True)"
   ]
  },
  {
   "cell_type": "code",
   "execution_count": 7,
   "metadata": {},
   "outputs": [
    {
     "data": {
      "text/html": [
       "<div>\n",
       "<style scoped>\n",
       "    .dataframe tbody tr th:only-of-type {\n",
       "        vertical-align: middle;\n",
       "    }\n",
       "\n",
       "    .dataframe tbody tr th {\n",
       "        vertical-align: top;\n",
       "    }\n",
       "\n",
       "    .dataframe thead th {\n",
       "        text-align: right;\n",
       "    }\n",
       "</style>\n",
       "<table border=\"1\" class=\"dataframe\">\n",
       "  <thead>\n",
       "    <tr style=\"text-align: right;\">\n",
       "      <th></th>\n",
       "      <th>CRIM</th>\n",
       "      <th>NOX</th>\n",
       "      <th>RM</th>\n",
       "      <th>AGE</th>\n",
       "      <th>LSTAT</th>\n",
       "      <th>MEDV</th>\n",
       "    </tr>\n",
       "  </thead>\n",
       "  <tbody>\n",
       "    <tr>\n",
       "      <th>0</th>\n",
       "      <td>0.08829</td>\n",
       "      <td>0.524</td>\n",
       "      <td>6.012</td>\n",
       "      <td>66.6</td>\n",
       "      <td>12.43</td>\n",
       "      <td>22.9</td>\n",
       "    </tr>\n",
       "    <tr>\n",
       "      <th>1</th>\n",
       "      <td>0.14455</td>\n",
       "      <td>0.524</td>\n",
       "      <td>6.172</td>\n",
       "      <td>96.1</td>\n",
       "      <td>19.15</td>\n",
       "      <td>27.1</td>\n",
       "    </tr>\n",
       "    <tr>\n",
       "      <th>3</th>\n",
       "      <td>0.17004</td>\n",
       "      <td>0.524</td>\n",
       "      <td>6.004</td>\n",
       "      <td>85.9</td>\n",
       "      <td>17.10</td>\n",
       "      <td>18.9</td>\n",
       "    </tr>\n",
       "    <tr>\n",
       "      <th>4</th>\n",
       "      <td>0.22489</td>\n",
       "      <td>0.524</td>\n",
       "      <td>6.377</td>\n",
       "      <td>94.3</td>\n",
       "      <td>20.45</td>\n",
       "      <td>15.0</td>\n",
       "    </tr>\n",
       "    <tr>\n",
       "      <th>5</th>\n",
       "      <td>0.22489</td>\n",
       "      <td>0.524</td>\n",
       "      <td>6.377</td>\n",
       "      <td>94.3</td>\n",
       "      <td>20.45</td>\n",
       "      <td>15.0</td>\n",
       "    </tr>\n",
       "  </tbody>\n",
       "</table>\n",
       "</div>"
      ],
      "text/plain": [
       "      CRIM    NOX     RM   AGE  LSTAT  MEDV\n",
       "0  0.08829  0.524  6.012  66.6  12.43  22.9\n",
       "1  0.14455  0.524  6.172  96.1  19.15  27.1\n",
       "3  0.17004  0.524  6.004  85.9  17.10  18.9\n",
       "4  0.22489  0.524  6.377  94.3  20.45  15.0\n",
       "5  0.22489  0.524  6.377  94.3  20.45  15.0"
      ]
     },
     "execution_count": 7,
     "metadata": {},
     "output_type": "execute_result"
    }
   ],
   "source": [
    "boston"
   ]
  },
  {
   "cell_type": "markdown",
   "metadata": {},
   "source": [
    "### 2. 重复数据的处理\n",
    "&emsp;&emsp;drop_duplicates()函数用于重复数据行，并返回新的对象，同时该函数不会改变原始对象，其格式如下：\n",
    "\n",
    "&emsp;&emsp;&emsp;&emsp;DataFrame .drop_duplicates(subset = None, keep= 'first', inplace = False,…)\n",
    "\n",
    "&emsp;&emsp;其中，subset表示列标签或列标签序列指定需要判定的列，默认None，判定所有的列；keep表示以何种方式进行保留，值为'first'表示保留重复行中第一次出现的行，值为'last'表示保留重复行中最后一次出现的行，值为False表示删除所有重复的行，默认值为'first'。inplace表示是否对当前对象进行清除，值为False表示不对当前对象进行清除，生成新对象，值为True表示对当前对象进行清除，不产生新对象，默认值为False。\n",
    "\n",
    "&emsp;&emsp;**例4-3-4** 删除boston对象中的重复行。\n",
    "\n",
    "&emsp;&emsp;观察以上输出，可以发现最后两行数据完全相同。以下代码实现将最后一行数据清除，同时形成新的DataFrame对象来覆盖原始对象。"
   ]
  },
  {
   "cell_type": "code",
   "execution_count": 8,
   "metadata": {},
   "outputs": [],
   "source": [
    "boston.drop_duplicates(inplace=True)"
   ]
  },
  {
   "cell_type": "code",
   "execution_count": 9,
   "metadata": {},
   "outputs": [
    {
     "data": {
      "text/html": [
       "<div>\n",
       "<style scoped>\n",
       "    .dataframe tbody tr th:only-of-type {\n",
       "        vertical-align: middle;\n",
       "    }\n",
       "\n",
       "    .dataframe tbody tr th {\n",
       "        vertical-align: top;\n",
       "    }\n",
       "\n",
       "    .dataframe thead th {\n",
       "        text-align: right;\n",
       "    }\n",
       "</style>\n",
       "<table border=\"1\" class=\"dataframe\">\n",
       "  <thead>\n",
       "    <tr style=\"text-align: right;\">\n",
       "      <th></th>\n",
       "      <th>CRIM</th>\n",
       "      <th>NOX</th>\n",
       "      <th>RM</th>\n",
       "      <th>AGE</th>\n",
       "      <th>LSTAT</th>\n",
       "      <th>MEDV</th>\n",
       "    </tr>\n",
       "  </thead>\n",
       "  <tbody>\n",
       "    <tr>\n",
       "      <th>0</th>\n",
       "      <td>0.08829</td>\n",
       "      <td>0.524</td>\n",
       "      <td>6.012</td>\n",
       "      <td>66.6</td>\n",
       "      <td>12.43</td>\n",
       "      <td>22.9</td>\n",
       "    </tr>\n",
       "    <tr>\n",
       "      <th>1</th>\n",
       "      <td>0.14455</td>\n",
       "      <td>0.524</td>\n",
       "      <td>6.172</td>\n",
       "      <td>96.1</td>\n",
       "      <td>19.15</td>\n",
       "      <td>27.1</td>\n",
       "    </tr>\n",
       "    <tr>\n",
       "      <th>3</th>\n",
       "      <td>0.17004</td>\n",
       "      <td>0.524</td>\n",
       "      <td>6.004</td>\n",
       "      <td>85.9</td>\n",
       "      <td>17.10</td>\n",
       "      <td>18.9</td>\n",
       "    </tr>\n",
       "    <tr>\n",
       "      <th>4</th>\n",
       "      <td>0.22489</td>\n",
       "      <td>0.524</td>\n",
       "      <td>6.377</td>\n",
       "      <td>94.3</td>\n",
       "      <td>20.45</td>\n",
       "      <td>15.0</td>\n",
       "    </tr>\n",
       "  </tbody>\n",
       "</table>\n",
       "</div>"
      ],
      "text/plain": [
       "      CRIM    NOX     RM   AGE  LSTAT  MEDV\n",
       "0  0.08829  0.524  6.012  66.6  12.43  22.9\n",
       "1  0.14455  0.524  6.172  96.1  19.15  27.1\n",
       "3  0.17004  0.524  6.004  85.9  17.10  18.9\n",
       "4  0.22489  0.524  6.377  94.3  20.45  15.0"
      ]
     },
     "execution_count": 9,
     "metadata": {},
     "output_type": "execute_result"
    }
   ],
   "source": [
    "boston"
   ]
  }
 ],
 "metadata": {
  "kernelspec": {
   "display_name": "Python 3 (ipykernel)",
   "language": "python",
   "name": "python3"
  },
  "language_info": {
   "codemirror_mode": {
    "name": "ipython",
    "version": 3
   },
   "file_extension": ".py",
   "mimetype": "text/x-python",
   "name": "python",
   "nbconvert_exporter": "python",
   "pygments_lexer": "ipython3",
   "version": "3.11.0"
  }
 },
 "nbformat": 4,
 "nbformat_minor": 4
}
