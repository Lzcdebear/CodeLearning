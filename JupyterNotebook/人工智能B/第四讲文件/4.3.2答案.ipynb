{
 "cells": [
  {
   "cell_type": "markdown",
   "metadata": {},
   "source": [
    "## 4.3.2 数据统计分析*\n",
    "### 1. 统计函数\n",
    "&emsp;&emsp;Pandas的数据结构继承了NumPy的统计函数（表4-1-5），可以对表格数据的某行、某列、多行、多列或条件筛选出来的数值数据，进行统计分析。\n",
    "\n",
    "&emsp;&emsp;**例4-3-5**  对Boston_analysis.csv文件的数据进行统计分析。\n",
    "\n",
    "&emsp;&emsp;将素材Boston_analysis.csv从\"配套资源\\第4章\\\"下拷贝到\"C:\\配套资源\\第4章\\\"下，从Boston_analysis.csv 文件中读取数据到DataFrame对象boston_new。"
   ]
  },
  {
   "cell_type": "code",
   "execution_count": 1,
   "metadata": {},
   "outputs": [],
   "source": [
    "import pandas as pd"
   ]
  },
  {
   "cell_type": "code",
   "execution_count": 2,
   "metadata": {},
   "outputs": [],
   "source": [
    "boston_new=pd.read_csv(r'C:\\\\配套资源\\\\第4章\\\\Boston_analysis.csv')"
   ]
  },
  {
   "cell_type": "code",
   "execution_count": 3,
   "metadata": {},
   "outputs": [
    {
     "data": {
      "text/html": [
       "<div>\n",
       "<style scoped>\n",
       "    .dataframe tbody tr th:only-of-type {\n",
       "        vertical-align: middle;\n",
       "    }\n",
       "\n",
       "    .dataframe tbody tr th {\n",
       "        vertical-align: top;\n",
       "    }\n",
       "\n",
       "    .dataframe thead th {\n",
       "        text-align: right;\n",
       "    }\n",
       "</style>\n",
       "<table border=\"1\" class=\"dataframe\">\n",
       "  <thead>\n",
       "    <tr style=\"text-align: right;\">\n",
       "      <th></th>\n",
       "      <th>CRIM</th>\n",
       "      <th>NOX</th>\n",
       "      <th>RM</th>\n",
       "      <th>AGE</th>\n",
       "      <th>LSTAT</th>\n",
       "      <th>MEDV</th>\n",
       "    </tr>\n",
       "  </thead>\n",
       "  <tbody>\n",
       "    <tr>\n",
       "      <th>0</th>\n",
       "      <td>0.02763</td>\n",
       "      <td>0.428</td>\n",
       "      <td>6.595</td>\n",
       "      <td>21.8</td>\n",
       "      <td>4.32</td>\n",
       "      <td>30.8</td>\n",
       "    </tr>\n",
       "    <tr>\n",
       "      <th>1</th>\n",
       "      <td>0.03359</td>\n",
       "      <td>0.428</td>\n",
       "      <td>7.024</td>\n",
       "      <td>15.8</td>\n",
       "      <td>1.98</td>\n",
       "      <td>34.9</td>\n",
       "    </tr>\n",
       "    <tr>\n",
       "      <th>2</th>\n",
       "      <td>0.12744</td>\n",
       "      <td>0.448</td>\n",
       "      <td>6.770</td>\n",
       "      <td>2.9</td>\n",
       "      <td>4.84</td>\n",
       "      <td>26.6</td>\n",
       "    </tr>\n",
       "    <tr>\n",
       "      <th>3</th>\n",
       "      <td>0.14150</td>\n",
       "      <td>0.448</td>\n",
       "      <td>6.169</td>\n",
       "      <td>6.6</td>\n",
       "      <td>5.81</td>\n",
       "      <td>25.3</td>\n",
       "    </tr>\n",
       "    <tr>\n",
       "      <th>4</th>\n",
       "      <td>0.15936</td>\n",
       "      <td>0.448</td>\n",
       "      <td>6.211</td>\n",
       "      <td>6.5</td>\n",
       "      <td>7.44</td>\n",
       "      <td>24.7</td>\n",
       "    </tr>\n",
       "  </tbody>\n",
       "</table>\n",
       "</div>"
      ],
      "text/plain": [
       "      CRIM    NOX     RM   AGE  LSTAT  MEDV\n",
       "0  0.02763  0.428  6.595  21.8   4.32  30.8\n",
       "1  0.03359  0.428  7.024  15.8   1.98  34.9\n",
       "2  0.12744  0.448  6.770   2.9   4.84  26.6\n",
       "3  0.14150  0.448  6.169   6.6   5.81  25.3\n",
       "4  0.15936  0.448  6.211   6.5   7.44  24.7"
      ]
     },
     "execution_count": 3,
     "metadata": {},
     "output_type": "execute_result"
    }
   ],
   "source": [
    "boston_new"
   ]
  },
  {
   "cell_type": "markdown",
   "metadata": {},
   "source": [
    "#求每列的平均值"
   ]
  },
  {
   "cell_type": "code",
   "execution_count": 4,
   "metadata": {},
   "outputs": [
    {
     "data": {
      "text/plain": [
       "CRIM      0.097904\n",
       "NOX       0.440000\n",
       "RM        6.553800\n",
       "AGE      10.720000\n",
       "LSTAT     4.878000\n",
       "MEDV     28.460000\n",
       "dtype: float64"
      ]
     },
     "execution_count": 4,
     "metadata": {},
     "output_type": "execute_result"
    }
   ],
   "source": [
    "boston_new.mean(axis=0)"
   ]
  },
  {
   "cell_type": "markdown",
   "metadata": {},
   "source": [
    "#求住宅平均房间数（RM）的最大值和最小值"
   ]
  },
  {
   "cell_type": "code",
   "execution_count": 5,
   "metadata": {},
   "outputs": [
    {
     "data": {
      "text/plain": [
       "(7.024, 6.169)"
      ]
     },
     "execution_count": 5,
     "metadata": {},
     "output_type": "execute_result"
    }
   ],
   "source": [
    "boston_new['RM'].max(),boston_new['RM'].min()"
   ]
  },
  {
   "cell_type": "markdown",
   "metadata": {},
   "source": [
    "#统计城镇人均犯罪率（CRIM）小于0.1的记录。\n",
    "\n",
    "#先条件筛选得到符合条件的DataFrame对象，再对CRIM列计数，得到记录数。"
   ]
  },
  {
   "cell_type": "code",
   "execution_count": 6,
   "metadata": {},
   "outputs": [
    {
     "data": {
      "text/plain": [
       "2"
      ]
     },
     "execution_count": 6,
     "metadata": {},
     "output_type": "execute_result"
    }
   ],
   "source": [
    "boston_new[boston_new['CRIM']<0.1]['CRIM'].count()"
   ]
  },
  {
   "attachments": {
    "image.png": {
     "image/png": "[encoded data removed]"
    }
   },
   "cell_type": "markdown",
   "metadata": {},
   "source": [
    "### 2. 分组运算\n",
    "&emsp;&emsp;表格数据的分组统计是指先将表格的数据按某种规则分成若干组，例如一个职工信息表格可以按性别将职工分为男和女两组，或者按部门分为若干组。分好组后，再按小组分别进行统计计算，例如统计部门人数等。\n",
    "\n",
    "&emsp;&emsp;DataFrame类提供groupby()函数将DataFrame对象分为若干组，返回一个groupby对象，函数使用方法如下：\n",
    "\n",
    "&emsp;&emsp;&emsp;&emsp;DataFrame.groupby(by=None, axis=0,…)\n",
    "\n",
    "&emsp;&emsp;其中，by表示分组依据，通常为列索引列表；axis表示按行分组还是按列分组，值为0表示按行分组，值为1表示按列分组，默认值为0。\n",
    "\n",
    "&emsp;&emsp;groupby函数按key值分组后，返回groupby对象。再对groupby对象应用统计函数或自定义函数进行计算。 \n",
    "\n",
    "&emsp;&emsp;**例4-3-6** 读入女排世界杯各项技术统计数据文件volleyball_analysis.csv，按国籍分组，进行统计分析。\n",
    "\n",
    "&emsp;&emsp;将素材volleyball_analysis.csv从\"配套资源\\第4章\\\"下拷贝到\"C:\\配套资源\\第4章\\\"下，该文件中存放了女排世界杯得分前25名运动员的扣球、拦网、发球得分数据，如图所示。\n",
    "\n",
    "![image.png](attachment:image.png)"
   ]
  },
  {
   "cell_type": "code",
   "execution_count": 7,
   "metadata": {},
   "outputs": [],
   "source": [
    "athletes=pd.read_csv(r'C:\\\\配套资源\\\\第4章\\\\volleyball_analysis.csv')"
   ]
  },
  {
   "cell_type": "code",
   "execution_count": 8,
   "metadata": {},
   "outputs": [],
   "source": [
    "grouped=athletes.groupby(by=[\"国籍\"])  #按国籍对athletes对象分组"
   ]
  },
  {
   "cell_type": "code",
   "execution_count": 9,
   "metadata": {},
   "outputs": [
    {
     "data": {
      "text/plain": [
       "国籍\n",
       "中国      4\n",
       "俄罗斯     4\n",
       "喀麦隆     1\n",
       "塞尔维亚    1\n",
       "多米尼加    2\n",
       "巴西      2\n",
       "日本      1\n",
       "美国      2\n",
       "肯尼亚     1\n",
       "荷兰      2\n",
       "阿根廷     2\n",
       "韩国      3\n",
       "dtype: int64"
      ]
     },
     "execution_count": 9,
     "metadata": {},
     "output_type": "execute_result"
    }
   ],
   "source": [
    "grouped.size()   #统计每组的记录数"
   ]
  },
  {
   "cell_type": "code",
   "execution_count": 10,
   "metadata": {
    "scrolled": true
   },
   "outputs": [
    {
     "data": {
      "text/plain": [
       "国籍\n",
       "中国      102.75\n",
       "俄罗斯     121.50\n",
       "喀麦隆     129.00\n",
       "塞尔维亚    187.00\n",
       "多米尼加    149.50\n",
       "巴西      139.50\n",
       "日本      158.00\n",
       "美国      104.00\n",
       "肯尼亚      94.00\n",
       "荷兰      126.00\n",
       "阿根廷     109.50\n",
       "韩国      123.00\n",
       "Name: 扣球, dtype: float64"
      ]
     },
     "execution_count": 10,
     "metadata": {},
     "output_type": "execute_result"
    }
   ],
   "source": [
    "grouped['扣球'].mean()  #统计每组扣球的平均值"
   ]
  },
  {
   "cell_type": "code",
   "execution_count": 11,
   "metadata": {},
   "outputs": [
    {
     "data": {
      "text/html": [
       "<div>\n",
       "<style scoped>\n",
       "    .dataframe tbody tr th:only-of-type {\n",
       "        vertical-align: middle;\n",
       "    }\n",
       "\n",
       "    .dataframe tbody tr th {\n",
       "        vertical-align: top;\n",
       "    }\n",
       "\n",
       "    .dataframe thead th {\n",
       "        text-align: right;\n",
       "    }\n",
       "</style>\n",
       "<table border=\"1\" class=\"dataframe\">\n",
       "  <thead>\n",
       "    <tr style=\"text-align: right;\">\n",
       "      <th></th>\n",
       "      <th>扣球</th>\n",
       "      <th>拦网</th>\n",
       "      <th>发球</th>\n",
       "    </tr>\n",
       "    <tr>\n",
       "      <th>国籍</th>\n",
       "      <th></th>\n",
       "      <th></th>\n",
       "      <th></th>\n",
       "    </tr>\n",
       "  </thead>\n",
       "  <tbody>\n",
       "    <tr>\n",
       "      <th>中国</th>\n",
       "      <td>92.0</td>\n",
       "      <td>17.0</td>\n",
       "      <td>8.5</td>\n",
       "    </tr>\n",
       "    <tr>\n",
       "      <th>俄罗斯</th>\n",
       "      <td>107.0</td>\n",
       "      <td>16.0</td>\n",
       "      <td>7.5</td>\n",
       "    </tr>\n",
       "    <tr>\n",
       "      <th>喀麦隆</th>\n",
       "      <td>129.0</td>\n",
       "      <td>3.0</td>\n",
       "      <td>4.0</td>\n",
       "    </tr>\n",
       "    <tr>\n",
       "      <th>塞尔维亚</th>\n",
       "      <td>187.0</td>\n",
       "      <td>13.0</td>\n",
       "      <td>9.0</td>\n",
       "    </tr>\n",
       "    <tr>\n",
       "      <th>多米尼加</th>\n",
       "      <td>149.5</td>\n",
       "      <td>12.5</td>\n",
       "      <td>10.5</td>\n",
       "    </tr>\n",
       "    <tr>\n",
       "      <th>巴西</th>\n",
       "      <td>139.5</td>\n",
       "      <td>13.0</td>\n",
       "      <td>7.5</td>\n",
       "    </tr>\n",
       "    <tr>\n",
       "      <th>日本</th>\n",
       "      <td>158.0</td>\n",
       "      <td>3.0</td>\n",
       "      <td>9.0</td>\n",
       "    </tr>\n",
       "    <tr>\n",
       "      <th>美国</th>\n",
       "      <td>104.0</td>\n",
       "      <td>7.5</td>\n",
       "      <td>8.0</td>\n",
       "    </tr>\n",
       "    <tr>\n",
       "      <th>肯尼亚</th>\n",
       "      <td>94.0</td>\n",
       "      <td>4.0</td>\n",
       "      <td>4.0</td>\n",
       "    </tr>\n",
       "    <tr>\n",
       "      <th>荷兰</th>\n",
       "      <td>126.0</td>\n",
       "      <td>10.0</td>\n",
       "      <td>3.5</td>\n",
       "    </tr>\n",
       "    <tr>\n",
       "      <th>阿根廷</th>\n",
       "      <td>109.5</td>\n",
       "      <td>5.0</td>\n",
       "      <td>11.5</td>\n",
       "    </tr>\n",
       "    <tr>\n",
       "      <th>韩国</th>\n",
       "      <td>122.0</td>\n",
       "      <td>9.0</td>\n",
       "      <td>8.0</td>\n",
       "    </tr>\n",
       "  </tbody>\n",
       "</table>\n",
       "</div>"
      ],
      "text/plain": [
       "         扣球    拦网    发球\n",
       "国籍                     \n",
       "中国     92.0  17.0   8.5\n",
       "俄罗斯   107.0  16.0   7.5\n",
       "喀麦隆   129.0   3.0   4.0\n",
       "塞尔维亚  187.0  13.0   9.0\n",
       "多米尼加  149.5  12.5  10.5\n",
       "巴西    139.5  13.0   7.5\n",
       "日本    158.0   3.0   9.0\n",
       "美国    104.0   7.5   8.0\n",
       "肯尼亚    94.0   4.0   4.0\n",
       "荷兰    126.0  10.0   3.5\n",
       "阿根廷   109.5   5.0  11.5\n",
       "韩国    122.0   9.0   8.0"
      ]
     },
     "execution_count": 11,
     "metadata": {},
     "output_type": "execute_result"
    }
   ],
   "source": [
    "grouped.median()       #统计每组各列的中位值"
   ]
  }
 ],
 "metadata": {
  "kernelspec": {
   "display_name": "Python 3 (ipykernel)",
   "language": "python",
   "name": "python3"
  },
  "language_info": {
   "codemirror_mode": {
    "name": "ipython",
    "version": 3
   },
   "file_extension": ".py",
   "mimetype": "text/x-python",
   "name": "python",
   "nbconvert_exporter": "python",
   "pygments_lexer": "ipython3",
   "version": "3.11.0"
  }
 },
 "nbformat": 4,
 "nbformat_minor": 4
}
