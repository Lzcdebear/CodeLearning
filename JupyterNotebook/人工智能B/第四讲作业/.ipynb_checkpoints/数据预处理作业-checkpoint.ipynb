{
 "cells": [
  {
   "cell_type": "markdown",
   "metadata": {},
   "source": [
    "# 数据预处理作业题"
   ]
  },
  {
   "cell_type": "markdown",
   "metadata": {},
   "source": [
    "# 1. 求最大值和最小值\n"
   ]
  },
  {
   "cell_type": "markdown",
   "metadata": {},
   "source": [
    "#导入pandas和numpy包"
   ]
  },
  {
   "cell_type": "code",
   "execution_count": 1,
   "metadata": {},
   "outputs": [],
   "source": [
    "import pandas as pd\n",
    "import numpy as np  #导入numpy包，别名np"
   ]
  },
  {
   "cell_type": "markdown",
   "metadata": {},
   "source": [
    "(1) 创建表示10×10的随机矩阵的DataFrame对象，行索引和列索引都为1-10，元素取值在0-100；"
   ]
  },
  {
   "cell_type": "code",
   "execution_count": 2,
   "metadata": {
    "scrolled": true
   },
   "outputs": [
    {
     "name": "stdout",
     "output_type": "stream",
     "text": [
      "    1   2   3    4   5   6   7   8    9   10\n",
      "1   74   6  87  100  66  90  24  88    0  98\n",
      "2   25  50  76   29  21  83  71  15   53  26\n",
      "3   83  82   7   93  91  33  67  46   25   1\n",
      "4   63  20  74   10  69  66  94  63   37  94\n",
      "5   33  27  25   24  52  62  13  29   86  97\n",
      "6   80  52  25   59  31  94  47  52   72  68\n",
      "7   28  63  47   62  16  47  87  63   20  97\n",
      "8   98  13  33   78  26  35  21  60  100  22\n",
      "9   23  59  72   45   5  66   4   1   75  73\n",
      "10  46  38  90   38  57  50  99  79   62  92\n"
     ]
    }
   ],
   "source": [
    "data = np.random.randint(0,101,(10,10), np.int32)   #创建矩阵作为DF的数据（values）\n",
    "index = np.arange(1, 11, 1)   #创建行列索引\n",
    "matrix = pd.DataFrame(data,index,index)  # 创建DataFrame对象\n",
    "print(matrix)"
   ]
  },
  {
   "cell_type": "markdown",
   "metadata": {},
   "source": [
    "(2)求每列的最大值和最小值。"
   ]
  },
  {
   "cell_type": "code",
   "execution_count": 3,
   "metadata": {},
   "outputs": [
    {
     "name": "stdout",
     "output_type": "stream",
     "text": [
      "1      98\n",
      "2      82\n",
      "3      90\n",
      "4     100\n",
      "5      91\n",
      "6      94\n",
      "7      99\n",
      "8      88\n",
      "9     100\n",
      "10     98\n",
      "dtype: int32\n",
      "1     23\n",
      "2      6\n",
      "3      7\n",
      "4     10\n",
      "5      5\n",
      "6     33\n",
      "7      4\n",
      "8      1\n",
      "9      0\n",
      "10     1\n",
      "dtype: int32\n"
     ]
    }
   ],
   "source": [
    "matrix_max = matrix.max(axis=0)  # 求每列最大值\n",
    "print(matrix_max)\n",
    "matrix_min = matrix.min(axis=0)  # 求每列最小值\n",
    "print(matrix_min)"
   ]
  },
  {
   "cell_type": "markdown",
   "metadata": {},
   "source": [
    "# 2. 缺失数据的处理"
   ]
  },
  {
   "cell_type": "markdown",
   "metadata": {},
   "source": [
    "(1) 读取素材文件fish.csv 创建DataFrame数据对象；"
   ]
  },
  {
   "cell_type": "code",
   "execution_count": 4,
   "metadata": {},
   "outputs": [
    {
     "name": "stdout",
     "output_type": "stream",
     "text": [
      "       品名   最低价    平均价   最高价         规格  单位\n",
      "0      鲤鱼   4.5   4.65   4.8     >1000g NaN\n",
      "1      草鱼   4.4   4.45   4.5      <750g NaN\n",
      "2      鲫鱼   5.0   5.25   5.5  100g-150g NaN\n",
      "3     胖头鱼   6.5   6.75   7.0     >2000g NaN\n",
      "4     武昌鱼   7.5   7.55   7.6        NaN NaN\n",
      "5      鲢鱼   3.0    NaN   NaN     >1500g NaN\n",
      "6      嘎鱼  12.0  12.50  13.0      <100g NaN\n",
      "7   国产白鲴鱼   NaN  11.00  12.0    >250g/冻 NaN\n",
      "8      燕鲅  14.0  14.50  15.0    >300g/冻 NaN\n",
      "9      鲐鲅   3.5   4.00   4.5    <300g/冻 NaN\n",
      "10   左偏口鱼   NaN  21.00  22.0    <600g/冻 NaN\n"
     ]
    }
   ],
   "source": [
    "fish = pd.read_csv(r'F:\\Python\\ECUNworks\\人工智能B\\第四讲数据预处理\\fish.csv', encoding=\"UTF-8\")   #注意文件路径名应与你文件所在位置对应  \n",
    "print(fish)"
   ]
  },
  {
   "cell_type": "markdown",
   "metadata": {},
   "source": [
    "(2) 对全部为缺失值的列进行移除；移除效果直接作用于fish对象"
   ]
  },
  {
   "cell_type": "code",
   "execution_count": 5,
   "metadata": {},
   "outputs": [
    {
     "name": "stdout",
     "output_type": "stream",
     "text": [
      "       品名   最低价    平均价   最高价         规格\n",
      "0      鲤鱼   4.5   4.65   4.8     >1000g\n",
      "1      草鱼   4.4   4.45   4.5      <750g\n",
      "2      鲫鱼   5.0   5.25   5.5  100g-150g\n",
      "3     胖头鱼   6.5   6.75   7.0     >2000g\n",
      "4     武昌鱼   7.5   7.55   7.6        NaN\n",
      "5      鲢鱼   3.0    NaN   NaN     >1500g\n",
      "6      嘎鱼  12.0  12.50  13.0      <100g\n",
      "7   国产白鲴鱼   NaN  11.00  12.0    >250g/冻\n",
      "8      燕鲅  14.0  14.50  15.0    >300g/冻\n",
      "9      鲐鲅   3.5   4.00   4.5    <300g/冻\n",
      "10   左偏口鱼   NaN  21.00  22.0    <600g/冻\n"
     ]
    }
   ],
   "source": [
    "fish.dropna(axis=1, how=all, inplace=True)\n",
    "print(fish)"
   ]
  },
  {
   "cell_type": "markdown",
   "metadata": {},
   "source": [
    "(3)对包含缺失值的行进行移除；移除效果直接作用于fish对象。"
   ]
  },
  {
   "cell_type": "code",
   "execution_count": 6,
   "metadata": {},
   "outputs": [
    {
     "name": "stdout",
     "output_type": "stream",
     "text": [
      "    品名   最低价    平均价   最高价         规格\n",
      "0   鲤鱼   4.5   4.65   4.8     >1000g\n",
      "1   草鱼   4.4   4.45   4.5      <750g\n",
      "2   鲫鱼   5.0   5.25   5.5  100g-150g\n",
      "3  胖头鱼   6.5   6.75   7.0     >2000g\n",
      "6   嘎鱼  12.0  12.50  13.0      <100g\n",
      "8   燕鲅  14.0  14.50  15.0    >300g/冻\n",
      "9   鲐鲅   3.5   4.00   4.5    <300g/冻\n"
     ]
    }
   ],
   "source": [
    "fish.dropna(axis=0,how='any',inplace=True)\n",
    "print(fish)"
   ]
  },
  {
   "cell_type": "markdown",
   "metadata": {},
   "source": [
    "# 3. 重复数据的处理"
   ]
  },
  {
   "cell_type": "markdown",
   "metadata": {},
   "source": [
    "(1) 读取素材文件vegetable.csv 创建DataFrame数据对象；"
   ]
  },
  {
   "cell_type": "code",
   "execution_count": 8,
   "metadata": {},
   "outputs": [
    {
     "name": "stdout",
     "output_type": "stream",
     "text": [
      "   品名  最低价   平均价  最高价  斤\n",
      "0   藕  2.0  2.50  3.0  斤\n",
      "1  韭菜  1.2  1.40  1.6  斤\n",
      "2  蒜苗  2.5  3.75  5.0  斤\n",
      "3  蒜黄  4.0  4.15  4.3  斤\n",
      "4  韭菜  1.2  1.40  1.6  斤\n",
      "5  豆王  2.7  3.60  4.5  斤\n",
      "6  扁豆  2.5  3.25  4.0  斤\n",
      "7  豇豆  3.0  3.25  3.5  斤\n",
      "8  蒜黄  4.0  4.15  4.3  斤\n"
     ]
    }
   ],
   "source": [
    "vegetable = pd.read_csv(r'F:\\Python\\ECUNworks\\人工智能B\\第四讲数据预处理\\vegetable.csv', encoding='UTF-8') \n",
    "print(vegetable)"
   ]
  },
  {
   "cell_type": "markdown",
   "metadata": {},
   "source": [
    "(2) 不改变当前对象，以保留重复行中第一次出现的行的方式删除重复行，将结果存储到新的DataFrame数据对象；"
   ]
  },
  {
   "cell_type": "code",
   "execution_count": 10,
   "metadata": {},
   "outputs": [
    {
     "name": "stdout",
     "output_type": "stream",
     "text": [
      "   品名  最低价   平均价  最高价  斤\n",
      "0   藕  2.0  2.50  3.0  斤\n",
      "1  韭菜  1.2  1.40  1.6  斤\n",
      "2  蒜苗  2.5  3.75  5.0  斤\n",
      "3  蒜黄  4.0  4.15  4.3  斤\n",
      "5  豆王  2.7  3.60  4.5  斤\n",
      "6  扁豆  2.5  3.25  4.0  斤\n",
      "7  豇豆  3.0  3.25  3.5  斤\n"
     ]
    }
   ],
   "source": [
    "vegetable_new1 = vegetable.drop_duplicates(subset = None, keep= 'first', inplace = False)\n",
    "print(vegetable_new1)"
   ]
  },
  {
   "cell_type": "markdown",
   "metadata": {},
   "source": [
    "(3) 不改变当前对象，以保留重复行中最后一次出现的行的方式删除重复行，将结果存储到新的DataFrame数据对象。"
   ]
  },
  {
   "cell_type": "code",
   "execution_count": 11,
   "metadata": {},
   "outputs": [
    {
     "name": "stdout",
     "output_type": "stream",
     "text": [
      "   品名  最低价   平均价  最高价  斤\n",
      "0   藕  2.0  2.50  3.0  斤\n",
      "2  蒜苗  2.5  3.75  5.0  斤\n",
      "4  韭菜  1.2  1.40  1.6  斤\n",
      "5  豆王  2.7  3.60  4.5  斤\n",
      "6  扁豆  2.5  3.25  4.0  斤\n",
      "7  豇豆  3.0  3.25  3.5  斤\n",
      "8  蒜黄  4.0  4.15  4.3  斤\n"
     ]
    }
   ],
   "source": [
    "vegetable_new2 = vegetable.drop_duplicates(subset = None, keep = 'last', inplace = False)\n",
    "print(vegetable_new2)"
   ]
  },
  {
   "cell_type": "markdown",
   "metadata": {},
   "source": [
    "# 4. 分组统计动物的特征数据"
   ]
  },
  {
   "cell_type": "markdown",
   "metadata": {},
   "source": [
    "(1) 创建包含多种动物特征数据的DataFrame数据对象，并按动物种类分组；"
   ]
  },
  {
   "cell_type": "code",
   "execution_count": 12,
   "metadata": {},
   "outputs": [
    {
     "data": {
      "text/html": [
       "<div>\n",
       "<style scoped>\n",
       "    .dataframe tbody tr th:only-of-type {\n",
       "        vertical-align: middle;\n",
       "    }\n",
       "\n",
       "    .dataframe tbody tr th {\n",
       "        vertical-align: top;\n",
       "    }\n",
       "\n",
       "    .dataframe thead th {\n",
       "        text-align: right;\n",
       "    }\n",
       "</style>\n",
       "<table border=\"1\" class=\"dataframe\">\n",
       "  <thead>\n",
       "    <tr style=\"text-align: right;\">\n",
       "      <th></th>\n",
       "      <th>动物</th>\n",
       "      <th>速度</th>\n",
       "      <th>重量</th>\n",
       "      <th>状态</th>\n",
       "    </tr>\n",
       "  </thead>\n",
       "  <tbody>\n",
       "    <tr>\n",
       "      <th>0</th>\n",
       "      <td>游隼</td>\n",
       "      <td>380</td>\n",
       "      <td>3.5</td>\n",
       "      <td>野生</td>\n",
       "    </tr>\n",
       "    <tr>\n",
       "      <th>1</th>\n",
       "      <td>鹦鹉</td>\n",
       "      <td>24</td>\n",
       "      <td>1.0</td>\n",
       "      <td>NaN</td>\n",
       "    </tr>\n",
       "    <tr>\n",
       "      <th>2</th>\n",
       "      <td>猎豹</td>\n",
       "      <td>120</td>\n",
       "      <td>80.0</td>\n",
       "      <td>野生</td>\n",
       "    </tr>\n",
       "    <tr>\n",
       "      <th>3</th>\n",
       "      <td>游隼</td>\n",
       "      <td>370</td>\n",
       "      <td>3.0</td>\n",
       "      <td>豢养</td>\n",
       "    </tr>\n",
       "    <tr>\n",
       "      <th>4</th>\n",
       "      <td>猎豹</td>\n",
       "      <td>130</td>\n",
       "      <td>82.0</td>\n",
       "      <td>野生</td>\n",
       "    </tr>\n",
       "    <tr>\n",
       "      <th>5</th>\n",
       "      <td>游隼</td>\n",
       "      <td>368</td>\n",
       "      <td>NaN</td>\n",
       "      <td>豢养</td>\n",
       "    </tr>\n",
       "  </tbody>\n",
       "</table>\n",
       "</div>"
      ],
      "text/plain": [
       "   动物   速度    重量   状态\n",
       "0  游隼  380   3.5   野生\n",
       "1  鹦鹉   24   1.0  NaN\n",
       "2  猎豹  120  80.0   野生\n",
       "3  游隼  370   3.0   豢养\n",
       "4  猎豹  130  82.0   野生\n",
       "5  游隼  368   NaN   豢养"
      ]
     },
     "execution_count": 12,
     "metadata": {},
     "output_type": "execute_result"
    }
   ],
   "source": [
    "df = pd.DataFrame({'动物':['游隼', '鹦鹉', '猎豹', '游隼', '猎豹','游隼'], \\\n",
    "'速度':[380,24,120,370,130,368], '重量':[3.5,1,80,3,82,np.nan], \\\n",
    "'状态':['野生',np.nan,'野生','豢养','野生','豢养']}) \n",
    "df"
   ]
  },
  {
   "cell_type": "code",
   "execution_count": 13,
   "metadata": {},
   "outputs": [
    {
     "data": {
      "text/plain": [
       "{'游隼': Int64Index([0, 3, 5], dtype='int64'),\n",
       " '猎豹': Int64Index([2, 4], dtype='int64'),\n",
       " '鹦鹉': Int64Index([1], dtype='int64')}"
      ]
     },
     "execution_count": 13,
     "metadata": {},
     "output_type": "execute_result"
    }
   ],
   "source": [
    "#按动物种类分组，并显示\n",
    "grp=df.groupby(by=['动物'])#\n",
    "print(grp.groups)"
   ]
  },
  {
   "cell_type": "markdown",
   "metadata": {},
   "source": [
    "(2) 统计DataFrame数据对象中每组动物的计数（记录数）"
   ]
  },
  {
   "cell_type": "code",
   "execution_count": 14,
   "metadata": {},
   "outputs": [
    {
     "data": {
      "text/plain": [
       "动物\n",
       "游隼    3\n",
       "猎豹    2\n",
       "鹦鹉    1\n",
       "dtype: int64"
      ]
     },
     "execution_count": 14,
     "metadata": {},
     "output_type": "execute_result"
    }
   ],
   "source": [
    "#统计DataFrame数据对象中每组动物的计数（记录数）\n",
    "print(grp['动物'].value_counts())"
   ]
  },
  {
   "cell_type": "code",
   "execution_count": null,
   "metadata": {},
   "outputs": [],
   "source": [
    "# (3)对'重量'列的缺失数据，使用同类动物重量的平均值填充"
   ]
  },
  {
   "cell_type": "code",
   "execution_count": 4,
   "metadata": {},
   "outputs": [
    {
     "data": {
      "text/plain": [
       "动物\n",
       "游隼     3.25\n",
       "猎豹    81.00\n",
       "鹦鹉     1.00\n",
       "Name: 重量, dtype: float64"
      ]
     },
     "execution_count": 4,
     "metadata": {},
     "output_type": "execute_result"
    }
   ],
   "source": [
    "#计算各类动物重量的平均值\n",
    "weight_mean=grp['重量'].mean()  #\n",
    "print(weight_mean)"
   ]
  },
  {
   "cell_type": "code",
   "execution_count": 2,
   "metadata": {},
   "outputs": [
    {
     "ename": "NameError",
     "evalue": "name 'df' is not defined",
     "output_type": "error",
     "traceback": [
      "\u001b[1;31m---------------------------------------------------------------------------\u001b[0m",
      "\u001b[1;31mNameError\u001b[0m                                 Traceback (most recent call last)",
      "Cell \u001b[1;32mIn[2], line 2\u001b[0m\n\u001b[0;32m      1\u001b[0m \u001b[38;5;66;03m#找出重量值缺失的动物\u001b[39;00m\n\u001b[1;32m----> 2\u001b[0m mask\u001b[38;5;241m=\u001b[39m\u001b[43mdf\u001b[49m[\u001b[38;5;124m'\u001b[39m\u001b[38;5;124m重量\u001b[39m\u001b[38;5;124m'\u001b[39m]\u001b[38;5;241m.\u001b[39misnull()\n\u001b[0;32m      3\u001b[0m an\u001b[38;5;241m=\u001b[39mdf\u001b[38;5;241m.\u001b[39mloc[mask,[\u001b[38;5;124m'\u001b[39m\u001b[38;5;124m动物\u001b[39m\u001b[38;5;124m'\u001b[39m]]   \u001b[38;5;66;03m#\u001b[39;00m\n\u001b[0;32m      4\u001b[0m \u001b[38;5;28mprint\u001b[39m(an)\n",
      "\u001b[1;31mNameError\u001b[0m: name 'df' is not defined"
     ]
    }
   ],
   "source": [
    "#找出重量值缺失的动物\n",
    "mask=df['重量'].isnull()\n",
    "an=df.loc[mask,['动物']]   #\n",
    "print(an)"
   ]
  },
  {
   "cell_type": "code",
   "execution_count": 3,
   "metadata": {},
   "outputs": [
    {
     "ename": "NameError",
     "evalue": "name 'weight_mean' is not defined",
     "output_type": "error",
     "traceback": [
      "\u001b[1;31m---------------------------------------------------------------------------\u001b[0m",
      "\u001b[1;31mNameError\u001b[0m                                 Traceback (most recent call last)",
      "Cell \u001b[1;32mIn[3], line 2\u001b[0m\n\u001b[0;32m      1\u001b[0m \u001b[38;5;66;03m#重量的缺失数据用同类动物重量的平均值填充\u001b[39;00m\n\u001b[1;32m----> 2\u001b[0m df\u001b[38;5;241m.\u001b[39mloc[mask,[\u001b[38;5;124m'\u001b[39m\u001b[38;5;124m重量\u001b[39m\u001b[38;5;124m'\u001b[39m]] \u001b[38;5;241m=\u001b[39m \u001b[43mweight_mean\u001b[49m[an[\u001b[38;5;124m'\u001b[39m\u001b[38;5;124m动物\u001b[39m\u001b[38;5;124m'\u001b[39m]]  \u001b[38;5;66;03m#\u001b[39;00m\n\u001b[0;32m      3\u001b[0m \u001b[38;5;28mprint\u001b[39m(df)\n",
      "\u001b[1;31mNameError\u001b[0m: name 'weight_mean' is not defined"
     ]
    }
   ],
   "source": [
    "#重量的缺失数据用同类动物重量的平均值填充\n",
    "df.loc[mask,['重量']] = weight_mean[an['动物']]  #\n",
    "print(df)"
   ]
  },
  {
   "cell_type": "code",
   "execution_count": null,
   "metadata": {},
   "outputs": [],
   "source": []
  },
  {
   "cell_type": "code",
   "execution_count": null,
   "metadata": {},
   "outputs": [],
   "source": []
  },
  {
   "cell_type": "code",
   "execution_count": null,
   "metadata": {},
   "outputs": [],
   "source": []
  },
  {
   "cell_type": "code",
   "execution_count": null,
   "metadata": {},
   "outputs": [],
   "source": []
  },
  {
   "cell_type": "code",
   "execution_count": null,
   "metadata": {},
   "outputs": [],
   "source": []
  },
  {
   "cell_type": "code",
   "execution_count": null,
   "metadata": {},
   "outputs": [],
   "source": []
  },
  {
   "cell_type": "code",
   "execution_count": null,
   "metadata": {},
   "outputs": [],
   "source": []
  },
  {
   "cell_type": "code",
   "execution_count": null,
   "metadata": {},
   "outputs": [],
   "source": []
  },
  {
   "cell_type": "code",
   "execution_count": null,
   "metadata": {},
   "outputs": [],
   "source": []
  }
 ],
 "metadata": {
  "kernelspec": {
   "display_name": "Python 3 (ipykernel)",
   "language": "python",
   "name": "python3"
  },
  "language_info": {
   "codemirror_mode": {
    "name": "ipython",
    "version": 3
   },
   "file_extension": ".py",
   "mimetype": "text/x-python",
   "name": "python",
   "nbconvert_exporter": "python",
   "pygments_lexer": "ipython3",
   "version": "3.11.0"
  }
 },
 "nbformat": 4,
 "nbformat_minor": 4
}
