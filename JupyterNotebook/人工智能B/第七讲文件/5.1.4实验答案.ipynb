{
 "cells": [
  {
   "cell_type": "markdown",
   "metadata": {
    "nteract": {
     "transient": {
      "deleting": false
     }
    }
   },
   "source": [
    "## 5.1.4 评价指标\n",
    "&emsp;&emsp;对模型的评价，有助于了解其性能，通过优化可以获得更好模型，而对于不同类型的模型所采用的评价指标也不尽相同。scikit-learn中metrics模块提供了为特定目标计算评价指标的功能， 主要有分类、回归和聚类等几种。分类常用的评价指标有混淆矩阵 (Confusion Matrix) 、精确率 (Precision)、召回率 (Recall)、F1分数 (F1 Score)和准确率 (Accuracy)等，回归主要评价指标有平均绝对误差(MAE，Mean Absolute Error)、均方误差(MSE，Mean Squared Error)、均方根误差(RMSE，Root Mean Squared Error)、R^2等。\n",
    "\n",
    "### 1. 分类评价指标\n",
    "\n",
    "&emsp;&emsp;将数据集中的样本输入到分类器得到的预测值，和样本的真实值对比可以得到如下四种关系：\n",
    "- 真正类（TP，True Positive）：预测正确，预测该样本为正类，真实类别为正类；\n",
    "- 假正类（FP，False Positive）：预测错误，预测该样本为正类，真实类别为负类；\n",
    "- 假负类（FN，False Negative）：预测错误，预测该样本为负类，真实类别为正类；\n",
    "- 真负类（TN，True Negative）：预测正确，预测该样本为负类，真实类别为负类。\n",
    "\n",
    "&emsp;&emsp;计算每一类出现的数目，就得到了混淆矩阵，如图表5-1-3所示。混淆矩阵表示样本的预测值与真实值之间的关系。\n",
    "<center>表5-1-3 预测值与真实值之间的四种关系</center>\n",
    "\n",
    "<style>table {margin: auto;}</style>\n",
    "|真实\\预测|Positive|Negative|\n",
    "|:-:|:-:|:-:|\n",
    "|Positive|TP|FN|\n",
    "|Negative|FP|TN|\n",
    "<br>\n",
    "\n",
    "&emsp;&emsp;在表格中，TP表示真正类样本的数目，FP表示假正类样本的数目，FN表示假负类样本的数目，TN表示真负类样本的数目。其中TP、TN预测正确，FP、FN预测错误。通过混淆矩阵，可以很方便的计算出分类常用的评价指标。\n",
    "<br>\n",
    "&emsp;&emsp;**准确率（Accuracy）**是分类问题中最为常用的评价指标，准确率的定义是预测正确的样本数占总样本数的比例，其计算公式为：\n",
    "$$\n",
    "ACC=\\frac{TP+TN}{TP+TN+FP+FN}\n",
    "$$\n",
    "&emsp;&emsp;准确率评价算法有一个明显的弊端问题，就是在数据的类别不均衡，特别是有极偏的数据存在的情况下，准确率这个评价指标是不能客观评价算法的优劣的。在需要特别关注某一特定类别的预测能力时，精确率、召回率和F1分数的评价算法更为有效。\n",
    "<br>\n",
    "&emsp;&emsp;**精确率（Precision）**又叫查准率，它是针对预测结果而言的，它的含义是在所有被预测为正的样本中实际为正的样本比例，其计算公式为：\n",
    "$$\n",
    "P=\\frac{TP}{TP+FP}\n",
    "$$\n",
    "&emsp;&emsp;**召回率（Recall）**又叫查全率，它是针对原样本而言的，它的含义是在实际为正的样本中被预测为正样本的比例，其公式如下：\n",
    "$$\n",
    "R=\\frac{TP}{TP+FN}\n",
    "$$\n",
    "&emsp;&emsp;**F1分数（F1 Score）**是一个综合精确率和召回率的评价指标，当模型的精确率和召回率冲突时，可以采用该指标来衡量模型的优劣，其计算公式为：\n",
    "$$\n",
    "F1=\\frac{2·P·R}{P+R}\n",
    "$$\n",
    "&emsp;&emsp;下面通过一个简单的例子来理解分类的各个评价指标的计算过程：\n",
    "<center>表5-1-4 猫狗数据的真实值与预测值</center>\n",
    "\n",
    "|y_true|猫|猫|猫|猫|猫|狗|狗|狗|狗|狗|\n",
    "|-|-|-|-|-|-|-|-|-|-|-|\n",
    "|y_pred|猫|猫|猫|猫|狗|猫|狗|狗|猫|狗|\n",
    "<br>\n",
    "\n",
    "&emsp;&emsp;其中，y_true代表样本的真实值，y_pred代表该样本的模型预测值，所以，TP=4，TN=3，FP=2，FN=1。因此通过上述公式，可以计算出相关评价指标：\n",
    "$$\n",
    "P=\\frac{4}{4+2}≈0.67\\\\\n",
    "R=\\frac{4}{4+1}=0.8\\\\\n",
    "F1=\\frac{2·P·R}{P+R}≈0.73\\\\\n",
    "ACC=\\frac{4+3}{4+3+1+2}=0.7\n",
    "$$\n",
    "&emsp;&emsp;下面代码是验证该例子的评价指标是否计算正确。\n",
    "<br>\n",
    "\n",
    "&emsp;&emsp;**例5-1-7** 分类模型评价指标的计算。"
   ]
  },
  {
   "cell_type": "code",
   "execution_count": 1,
   "metadata": {
    "execution": {
     "iopub.execute_input": "2021-01-25T14:48:09.757Z",
     "iopub.status.busy": "2021-01-25T14:48:09.746Z",
     "iopub.status.idle": "2021-01-25T14:48:12.699Z",
     "shell.execute_reply": "2021-01-25T14:48:12.702Z"
    },
    "jupyter": {
     "outputs_hidden": false,
     "source_hidden": false
    },
    "nteract": {
     "transient": {
      "deleting": false
     }
    }
   },
   "outputs": [],
   "source": [
    "from sklearn import metrics\n",
    "from sklearn.preprocessing import LabelBinarizer\n",
    "lb = LabelBinarizer()\n",
    "y_true = ['猫', '猫', '猫', '猫', '猫', '狗', '狗', '狗', '狗', '狗']\n",
    "y_pred = ['猫', '猫', '猫', '猫', '狗', '猫', '狗', '狗', '猫', '狗']"
   ]
  },
  {
   "cell_type": "markdown",
   "metadata": {
    "nteract": {
     "transient": {
      "deleting": false
     }
    }
   },
   "source": [
    "#### （1）计算混淆矩阵\n",
    "&emsp;&emsp;scikit-learn.metrics中的confusion_matrix()函数用来计算混淆矩阵，从而得出TP=4，TN=3，FP=2，FN=1，与计算结果相同。"
   ]
  },
  {
   "cell_type": "code",
   "execution_count": 2,
   "metadata": {
    "execution": {
     "iopub.execute_input": "2021-01-25T14:48:54.638Z",
     "iopub.status.busy": "2021-01-25T14:48:54.633Z",
     "iopub.status.idle": "2021-01-25T14:48:54.658Z",
     "shell.execute_reply": "2021-01-25T14:48:54.664Z"
    },
    "jupyter": {
     "outputs_hidden": false,
     "source_hidden": false
    },
    "nteract": {
     "transient": {
      "deleting": false
     }
    }
   },
   "outputs": [
    {
     "name": "stdout",
     "output_type": "stream",
     "text": [
      "Confusion Matrix：\n",
      "[[4 1]\n",
      " [2 3]]\n"
     ]
    }
   ],
   "source": [
    "# （1）计算混淆矩阵\n",
    "print('Confusion Matrix：')\n",
    "print(metrics.confusion_matrix(y_true, y_pred, labels=['猫', '狗']))"
   ]
  },
  {
   "cell_type": "markdown",
   "metadata": {
    "nteract": {
     "transient": {
      "deleting": false
     }
    }
   },
   "source": [
    "#### （2）利用LabelBinarizer对象将标签二值化，再分别计算精确率、召回率、F1分数和准确率 \n",
    "&emsp;&emsp;标签是字符串，需要将其转换为整数才可以运行程序。通过创建sklearn.preprocessing的LabelBinarizer对象，调用fit_transform 方法进行将标签转换为0和1。然后利用scikit-learn.metrics中的precision_score()、recall_score()、f1_score()和accuracy_score()函数分别计算精确率、召回率、F1分数和准确率，得到的结果与计算结果相同。"
   ]
  },
  {
   "cell_type": "code",
   "execution_count": 3,
   "metadata": {
    "execution": {
     "iopub.execute_input": "2021-01-25T14:49:01.747Z",
     "iopub.status.busy": "2021-01-25T14:49:01.738Z",
     "iopub.status.idle": "2021-01-25T14:49:01.773Z",
     "shell.execute_reply": "2021-01-25T14:49:01.778Z"
    },
    "jupyter": {
     "outputs_hidden": false,
     "source_hidden": false
    },
    "nteract": {
     "transient": {
      "deleting": false
     }
    }
   },
   "outputs": [
    {
     "name": "stdout",
     "output_type": "stream",
     "text": [
      "精确率： 0.6666666666666666\n",
      "召回率： 0.8\n",
      "F1分数：0.7272727272727272\n",
      "准确率： 0.7\n"
     ]
    }
   ],
   "source": [
    "# （2）利用LabelBinarizer对象将标签二值化，再分别计算精确率、召回率、F1分数和准确率\n",
    "y_true_binarized = lb.fit_transform(y_true)\n",
    "y_pred_binarized = lb.fit_transform(y_pred)\n",
    "print('精确率： %s' % metrics.precision_score(y_true_binarized, y_pred_binarized))\n",
    "print('召回率： %s' % metrics.recall_score(y_true_binarized, y_pred_binarized))\n",
    "print('F1分数：%s' % metrics.f1_score(y_true_binarized, y_pred_binarized))\n",
    "print('准确率： %s' % metrics.accuracy_score(y_true_binarized, y_pred_binarized))"
   ]
  },
  {
   "cell_type": "markdown",
   "metadata": {
    "nteract": {
     "transient": {
      "deleting": false
     }
    }
   },
   "source": [
    "#### （3）利用classification_report()函数实现对精确率、召回率、F1分数和准确率的计算\n",
    "&emsp;&emsp;scikit-learn.metrics中的classification_report()函数可以同时生成精确率、召回率、F1分数和准确率等评价指标。"
   ]
  },
  {
   "cell_type": "code",
   "execution_count": 4,
   "metadata": {
    "execution": {
     "iopub.execute_input": "2021-01-25T14:49:10.787Z",
     "iopub.status.busy": "2021-01-25T14:49:10.780Z",
     "iopub.status.idle": "2021-01-25T14:49:10.802Z",
     "shell.execute_reply": "2021-01-25T14:49:10.833Z"
    },
    "jupyter": {
     "outputs_hidden": false,
     "source_hidden": false
    },
    "nteract": {
     "transient": {
      "deleting": false
     }
    }
   },
   "outputs": [
    {
     "name": "stdout",
     "output_type": "stream",
     "text": [
      "Classification Report：\n",
      "              precision    recall  f1-score   support\n",
      "\n",
      "           狗       0.75      0.60      0.67         5\n",
      "           猫       0.67      0.80      0.73         5\n",
      "\n",
      "    accuracy                           0.70        10\n",
      "   macro avg       0.71      0.70      0.70        10\n",
      "weighted avg       0.71      0.70      0.70        10\n",
      "\n"
     ]
    }
   ],
   "source": [
    "# （3）利用classification_report()函数实现对精确率、召回率、F1分数和准确率的计算\n",
    "print('Classification Report：')\n",
    "print(metrics.classification_report(y_true, y_pred))"
   ]
  },
  {
   "cell_type": "markdown",
   "metadata": {
    "nteract": {
     "transient": {
      "deleting": false
     }
    }
   },
   "source": [
    "### 2. 回归评价指标 \n",
    "&emsp;&emsp;**MAE（平均绝对误差）**：对于回归模型性能评估最直观的思路是利用模型的预测值与真实值的差值来衡量，误差越小，回归模型的拟合程度就越好，其计算公式为：\n",
    "$$MAE=\\frac{1}{n}\\sum_{i=1}^n|y_i-\\hat{y_i}|$$\n",
    "&emsp;&emsp;其中，$n$为样本的个数，$y_i$为第$i$个样本的真实值，$\\hat{y_i}$为第$i$个样本的模型预测值。  \n",
    "&emsp;&emsp;**MSE（均方误差）**：它是一种常用的回归损失函数，计算方法是求误差的平方和，由这两个指标的原理可知MSE比MAE对异常值更敏感，其计算公式为：\n",
    "$$MSE=\\frac{1}{n}\\sum_{i=1}^n(y_i-\\hat{y_i})^2$$\n",
    "&emsp;&emsp;**RMSE（均方根误差）**：对均方误差进行开平方运算。  \n",
    "&emsp;&emsp;**决定系数$R^2$**：由MAE和MSE的公式可知，随着样本数量的增加，这两个指标也会随之增大，而且针对不同量纲的数据集，其计算结果也有差异，所以很难直接用这些评价指标来衡量模型的优劣，可以使用决定系数$R^2$来评价回归模型的预测能力，$R^2$计算公式为：\n",
    "$$R^2=1-\\sum_{i=1}^n\\frac{(y_i-\\hat{y_i})^2}{(y_i-\\bar{y})^2}$$\n",
    "$$\\bar{y}=\\frac{1}{n}\\sum_{i=1}^ny_i$$\n",
    "&emsp;&emsp;其中，$\\bar{y}$表示$y$的均值。$R^2$取值范围一般是0~1，越接近1，回归的拟合程度就越好。但当回归模型的拟合效果差于取平均值时的效果时，也可能为负数。  \n",
    "&emsp;&emsp;下面通过一个简单的例子来理解分类的各个评价指标的计算过程：\n",
    "<center>表5-1-5 真实值与预测值</center>\n",
    "\n",
    "<style>table {margin: auto;}</style>\n",
    "|y_true|1|2|3|\n",
    "|-|-|-|-|\n",
    "|y_pred|2|3|4|\n",
    "|y_pred2|1|3|5|\n",
    "&emsp;&emsp;其中，y_true代表样本的真实值，y_pred代表该样本的模型预测值，y_pred2代表该样本的第二个模型的预测值，所以通过上述公式以y_true和y_pred2为例计算出相关评价指标：\n",
    "$$MAE=\\frac{|1-1|+|2-3|+|3-5|}{3}=1$$\n",
    "$$MSE=\\frac{(1-1)^2+(2-3)^2+(3-5)^2}{3}=\\frac{5}{3}\\approx1.67$$\n",
    "$$\\bar{y}=\\frac{1+2+3}{3}=2$$\n",
    "$$R^2=1-\\frac{(1-1)^2+(2-3)^2+(3-5)^2}{(1-2)^2+(2-2)^2+(3-2)^2}=1-\\frac{5}{2}=-1.5$$\n",
    "\n",
    "下面代码是验证计算该例子的评价指标。  \n",
    "\n",
    "\n",
    "&emsp;&emsp;**例5-1-8** 回归模型评价指标的计算"
   ]
  },
  {
   "cell_type": "code",
   "execution_count": 5,
   "metadata": {
    "execution": {
     "iopub.execute_input": "2021-01-27T14:49:05.643Z",
     "iopub.status.busy": "2021-01-27T14:49:05.633Z",
     "iopub.status.idle": "2021-01-27T14:49:08.098Z",
     "shell.execute_reply": "2021-01-27T14:49:08.110Z"
    },
    "jupyter": {
     "outputs_hidden": false,
     "source_hidden": false
    },
    "nteract": {
     "transient": {
      "deleting": false
     }
    }
   },
   "outputs": [],
   "source": [
    "from sklearn import metrics"
   ]
  },
  {
   "cell_type": "code",
   "execution_count": 6,
   "metadata": {
    "execution": {
     "iopub.execute_input": "2021-01-27T14:49:08.370Z",
     "iopub.status.busy": "2021-01-27T14:49:08.363Z",
     "iopub.status.idle": "2021-01-27T14:49:08.380Z",
     "shell.execute_reply": "2021-01-27T14:49:08.391Z"
    },
    "jupyter": {
     "outputs_hidden": false,
     "source_hidden": false
    },
    "nteract": {
     "transient": {
      "deleting": false
     }
    }
   },
   "outputs": [],
   "source": [
    "y_true = [1, 2, 3]\n",
    "y_pred = [2, 3, 4]\n",
    "y_pred2 = [1, 3, 5]"
   ]
  },
  {
   "cell_type": "markdown",
   "metadata": {
    "nteract": {
     "transient": {
      "deleting": false
     }
    }
   },
   "source": [
    "#### （1）计算MAE\n",
    "&emsp;&emsp;scikit-learn.metrics中的mean_squared_error()函数用来计算平均绝对误差，由下面的运行结果可以得出这两个模型的平均绝对误差相同，无法评价这两个模型的优劣。"
   ]
  },
  {
   "cell_type": "code",
   "execution_count": 7,
   "metadata": {
    "execution": {
     "iopub.execute_input": "2021-01-27T14:49:16.833Z",
     "iopub.status.busy": "2021-01-27T14:49:16.823Z",
     "iopub.status.idle": "2021-01-27T14:49:16.850Z",
     "shell.execute_reply": "2021-01-27T14:49:16.854Z"
    },
    "jupyter": {
     "outputs_hidden": false,
     "source_hidden": false
    },
    "nteract": {
     "transient": {
      "deleting": false
     }
    }
   },
   "outputs": [
    {
     "name": "stdout",
     "output_type": "stream",
     "text": [
      "MAE：\n",
      "y_pred MAE： 1.0\n",
      "y_pred2 MAE：1.0\n"
     ]
    }
   ],
   "source": [
    "# （1）计算MAE\n",
    "print('MAE：')\n",
    "print('y_pred MAE： %s' % metrics.mean_absolute_error(y_true, y_pred))\n",
    "print('y_pred2 MAE：%s' % metrics.mean_absolute_error(y_true, y_pred2))"
   ]
  },
  {
   "cell_type": "markdown",
   "metadata": {
    "nteract": {
     "transient": {
      "deleting": false
     }
    }
   },
   "source": [
    "#### （2）计算MSE\n",
    "&emsp;&emsp;利用scikit-learn.metrics中的mean_squared_error()函数计算均方误差。在MAE指标相同的情况下，由下面的运行结果可以得出这两个模型的均方误差不同，y_pred比y_pred2要低，表明MAE比MSE对于异常点表现更佳，MSE给与了异常点更大的权重导致其对异常点敏感。因此可以依据不同的目的选择相应的评价指标。"
   ]
  },
  {
   "cell_type": "code",
   "execution_count": 8,
   "metadata": {
    "execution": {
     "iopub.execute_input": "2021-01-27T14:49:23.622Z",
     "iopub.status.busy": "2021-01-27T14:49:23.607Z",
     "iopub.status.idle": "2021-01-27T14:49:23.647Z",
     "shell.execute_reply": "2021-01-27T14:49:23.661Z"
    },
    "jupyter": {
     "outputs_hidden": false,
     "source_hidden": false
    },
    "nteract": {
     "transient": {
      "deleting": false
     }
    }
   },
   "outputs": [
    {
     "name": "stdout",
     "output_type": "stream",
     "text": [
      "MSE：\n",
      "y_pred MSE： 1.0\n",
      "y_pred2 MSE：1.6666666666666667\n"
     ]
    }
   ],
   "source": [
    "# （2）计算MSE\n",
    "print('MSE：')\n",
    "print('y_pred MSE： %s' % metrics.mean_squared_error(y_true, y_pred))\n",
    "print('y_pred2 MSE：%s' % metrics.mean_squared_error(y_true, y_pred2))"
   ]
  },
  {
   "cell_type": "markdown",
   "metadata": {
    "nteract": {
     "transient": {
      "deleting": false
     }
    }
   },
   "source": [
    "#### （3）计算决定系数\n",
    "&emsp;&emsp;scikit-learn.metrics中的r2_score()函数可以计算均方误差决定系数$R^2$。"
   ]
  },
  {
   "cell_type": "code",
   "execution_count": 9,
   "metadata": {
    "execution": {
     "iopub.execute_input": "2021-01-27T14:49:39.720Z",
     "iopub.status.busy": "2021-01-27T14:49:39.714Z",
     "iopub.status.idle": "2021-01-27T14:49:39.731Z",
     "shell.execute_reply": "2021-01-27T14:49:39.744Z"
    },
    "jupyter": {
     "outputs_hidden": false,
     "source_hidden": false
    },
    "nteract": {
     "transient": {
      "deleting": false
     }
    }
   },
   "outputs": [
    {
     "name": "stdout",
     "output_type": "stream",
     "text": [
      "R2：\n",
      "y_pred R2： -0.5\n",
      "y_pred2 R2：-1.5\n"
     ]
    }
   ],
   "source": [
    "# （3）计算决定系数\n",
    "print('R2：')\n",
    "print('y_pred R2： %s' % metrics.r2_score(y_true, y_pred))\n",
    "print('y_pred2 R2：%s' % metrics.r2_score(y_true, y_pred2))"
   ]
  }
 ],
 "metadata": {
  "kernel_info": {
   "name": "python3"
  },
  "kernelspec": {
   "display_name": "Python 3",
   "language": "python",
   "name": "python3"
  },
  "language_info": {
   "codemirror_mode": {
    "name": "ipython",
    "version": 3
   },
   "file_extension": ".py",
   "mimetype": "text/x-python",
   "name": "python",
   "nbconvert_exporter": "python",
   "pygments_lexer": "ipython3",
   "version": "3.8.3"
  },
  "nteract": {
   "version": "0.28.0"
  }
 },
 "nbformat": 4,
 "nbformat_minor": 1
}
