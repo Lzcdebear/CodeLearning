{
 "cells": [
  {
   "cell_type": "markdown",
   "metadata": {},
   "source": [
    "# 逻辑回归 "
   ]
  },
  {
   "cell_type": "markdown",
   "metadata": {},
   "source": [
    "## 1 逻辑函数sigmod"
   ]
  },
  {
   "cell_type": "markdown",
   "metadata": {},
   "source": [
    "import numpy as np \n",
    "<br>\n",
    "已知 x = np.arange(-50,51)\n",
    "<br>\n",
    "请定义sigmod函数, 利用sigmod函数，生成数组y，y的元素为x的每个元素的sigmod函数值。\n",
    "<br>\n",
    "绘制x，y折线图"
   ]
  },
  {
   "cell_type": "code",
   "execution_count": null,
   "metadata": {},
   "outputs": [],
   "source": []
  },
  {
   "cell_type": "markdown",
   "metadata": {},
   "source": [
    "## 2 鉴别男女\n",
    "<br>\n",
    "列表x为记录的男生女生身高（cm）和体重（kg），列表y为对应列表x的男女类别。\n",
    "<br>\n",
    "x = [ [158, 64], [170, 86], [183, 84], [191, 80], [155, 49], [163, 59], [180, 67], [158, 54], [170, 67] ]\n",
    "<br>\n",
    "y_labels = ['男', '男', '男', '男', '女', '女', '女', '女', '女']\n",
    "\n",
    "x_test为测量的4人的身高和体重，利用逻辑回归模型LogisticRegression，预测其性别，并输出结果。\n",
    "<br>\n",
    "x_test = [  [168, 65],  [180, 96],  [160, 52],  [169, 67] ]\n",
    "<br>"
   ]
  },
  {
   "cell_type": "code",
   "execution_count": null,
   "metadata": {},
   "outputs": [],
   "source": []
  },
  {
   "cell_type": "markdown",
   "metadata": {},
   "source": [
    "## 鸢尾花分类器"
   ]
  },
  {
   "cell_type": "markdown",
   "metadata": {},
   "source": [
    "## （1）加载鸢尾花数据\n",
    "<br>\n",
    "使用datasets.load_iris加载鸢尾花数据集\n",
    "<br>"
   ]
  },
  {
   "cell_type": "code",
   "execution_count": null,
   "metadata": {},
   "outputs": [],
   "source": []
  },
  {
   "cell_type": "markdown",
   "metadata": {},
   "source": [
    "## （2）将数据集划分为两部分，训练数据集和测试数据集，测试数据集占总的数据集的0.2\n"
   ]
  },
  {
   "cell_type": "code",
   "execution_count": null,
   "metadata": {},
   "outputs": [],
   "source": []
  },
  {
   "cell_type": "markdown",
   "metadata": {},
   "source": [
    "## （3） 建立LogisticRegression模型，并训练"
   ]
  },
  {
   "cell_type": "code",
   "execution_count": null,
   "metadata": {},
   "outputs": [],
   "source": []
  },
  {
   "cell_type": "markdown",
   "metadata": {},
   "source": [
    "## （4） 利用训练好的模型预测x_test, 并输出预测结果与真实值的正确率、精确率、召回率和F1-score"
   ]
  },
  {
   "cell_type": "code",
   "execution_count": null,
   "metadata": {},
   "outputs": [],
   "source": []
  }
 ],
 "metadata": {
  "kernelspec": {
   "display_name": "Python 3",
   "language": "python",
   "name": "python3"
  },
  "language_info": {
   "codemirror_mode": {
    "name": "ipython",
    "version": 3
   },
   "file_extension": ".py",
   "mimetype": "text/x-python",
   "name": "python",
   "nbconvert_exporter": "python",
   "pygments_lexer": "ipython3",
   "version": "3.8.5"
  }
 },
 "nbformat": 4,
 "nbformat_minor": 2
}
