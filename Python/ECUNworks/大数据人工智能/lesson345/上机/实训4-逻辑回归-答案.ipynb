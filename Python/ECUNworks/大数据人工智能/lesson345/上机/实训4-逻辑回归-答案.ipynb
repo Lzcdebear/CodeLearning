{
 "cells": [
  {
   "cell_type": "markdown",
   "metadata": {},
   "source": [
    "# 逻辑回归 "
   ]
  },
  {
   "cell_type": "markdown",
   "metadata": {},
   "source": [
    "## 1 逻辑函数sigmod"
   ]
  },
  {
   "cell_type": "markdown",
   "metadata": {},
   "source": [
    "import numpy as np \n",
    "<br>\n",
    "已知 x = np.arange(-50,51)\n",
    "<br>\n",
    "请定义sigmod函数, 利用sigmod函数，生成数组y，y的元素为x的每个元素的sigmod函数值。\n",
    "<br>\n",
    "绘制x，y折线图"
   ]
  },
  {
   "cell_type": "code",
   "execution_count": 2,
   "metadata": {},
   "outputs": [
    {
     "data": {
      "image/png": "[encoded data removed]",
      "text/plain": [
       "<Figure size 432x288 with 1 Axes>"
      ]
     },
     "metadata": {
      "needs_background": "light"
     },
     "output_type": "display_data"
    }
   ],
   "source": [
    "import numpy as np\n",
    "import matplotlib.pyplot as plt\n",
    "def sigmod(x):\n",
    "    return 1/(1+np.exp(-x))\n",
    "x = np.arange(-50,51)\n",
    "y = [sigmod(item) for item in x ]\n",
    "plt.plot(x, y)\n",
    "plt.show()\n",
    "    "
   ]
  },
  {
   "cell_type": "markdown",
   "metadata": {},
   "source": [
    "## 2 鉴别男女\n",
    "<br>\n",
    "列表x为记录的男生女生身高（cm）和体重（kg），列表y为对应列表x的男女类别。\n",
    "<br>\n",
    "x = [ [158, 64], [170, 86], [183, 84], [191, 80], [155, 49], [163, 59], [180, 67], [158, 54], [170, 67] ]\n",
    "<br>\n",
    "y_labels = ['男', '男', '男', '男', '女', '女', '女', '女', '女']\n",
    "\n",
    "x_test为测量的4人的身高和体重，利用逻辑回归模型LogisticRegression，预测其性别，并输出结果。\n",
    "<br>\n",
    "x_test = [  [168, 65],  [180, 96],  [160, 52],  [169, 67] ]\n",
    "<br>"
   ]
  },
  {
   "cell_type": "code",
   "execution_count": 4,
   "metadata": {},
   "outputs": [
    {
     "name": "stdout",
     "output_type": "stream",
     "text": [
      "预测标签:['女' '男' '女' '女']\n"
     ]
    },
    {
     "name": "stderr",
     "output_type": "stream",
     "text": [
      "C:\\Users\\chenyouguang\\.conda\\envs\\python37\\lib\\site-packages\\sklearn\\linear_model\\logistic.py:433: FutureWarning: Default solver will be changed to 'lbfgs' in 0.22. Specify a solver to silence this warning.\n",
      "  FutureWarning)\n",
      "C:\\Users\\chenyouguang\\.conda\\envs\\python37\\lib\\site-packages\\sklearn\\utils\\validation.py:761: DataConversionWarning: A column-vector y was passed when a 1d array was expected. Please change the shape of y to (n_samples, ), for example using ravel().\n",
      "  y = column_or_1d(y, warn=True)\n"
     ]
    }
   ],
   "source": [
    "from sklearn.linear_model import LogisticRegression\n",
    "import numpy as np\n",
    "from sklearn.preprocessing import LabelBinarizer\n",
    "x = [ [158, 64], [170, 86], [183, 84], [191, 80], [155, 49], [163, 59], [180, 67], [158, 54], [170, 67] ]\n",
    "y_labels = ['男', '男', '男', '男', '女', '女', '女', '女', '女']\n",
    "lb = LabelBinarizer()\n",
    "x_train = np.array(x)\n",
    "y_train = lb.fit_transform(y_labels)\n",
    "knn = LogisticRegression()\n",
    "knn.fit(x_train, y_train)\n",
    "x_test = [ [168, 65], [180, 96], [160, 52], [169, 67] ]\n",
    "x_test = np.array(x_test)\n",
    "pre_test = knn.predict(x_test)\n",
    "pre_labels = lb.inverse_transform(pre_test)\n",
    "print(f'预测标签:{pre_labels}' )"
   ]
  },
  {
   "cell_type": "markdown",
   "metadata": {},
   "source": [
    "## 鸢尾花分类器"
   ]
  },
  {
   "cell_type": "markdown",
   "metadata": {},
   "source": [
    "## （1）加载鸢尾花数据\n",
    "<br>\n",
    "使用datasets.load_iris加载鸢尾花数据集\n",
    "<br>"
   ]
  },
  {
   "cell_type": "code",
   "execution_count": 5,
   "metadata": {},
   "outputs": [],
   "source": [
    "from sklearn.linear_model import LogisticRegression\n",
    "from sklearn import datasets\n",
    "from sklearn.model_selection import train_test_split\n",
    "from sklearn import metrics\n",
    "\n",
    "loaded_data = datasets.load_iris()\n",
    "data_X = loaded_data.data\n",
    "data_y = loaded_data.target"
   ]
  },
  {
   "cell_type": "markdown",
   "metadata": {},
   "source": [
    "## （2）将数据集划分为两部分，训练数据集和测试数据集，测试数据集占总的数据集的0.2\n"
   ]
  },
  {
   "cell_type": "code",
   "execution_count": 6,
   "metadata": {},
   "outputs": [],
   "source": [
    "X_train, X_test, y_train, y_test = train_test_split(data_X, data_y, test_size=0.2)\n"
   ]
  },
  {
   "cell_type": "markdown",
   "metadata": {},
   "source": [
    "## （3） 建立LogisticRegression模型，并训练"
   ]
  },
  {
   "cell_type": "code",
   "execution_count": 7,
   "metadata": {},
   "outputs": [
    {
     "name": "stderr",
     "output_type": "stream",
     "text": [
      "C:\\Users\\chenyouguang\\.conda\\envs\\python37\\lib\\site-packages\\sklearn\\linear_model\\logistic.py:433: FutureWarning: Default solver will be changed to 'lbfgs' in 0.22. Specify a solver to silence this warning.\n",
      "  FutureWarning)\n",
      "C:\\Users\\chenyouguang\\.conda\\envs\\python37\\lib\\site-packages\\sklearn\\linear_model\\logistic.py:460: FutureWarning: Default multi_class will be changed to 'auto' in 0.22. Specify the multi_class option to silence this warning.\n",
      "  \"this warning.\", FutureWarning)\n"
     ]
    },
    {
     "data": {
      "text/plain": [
       "LogisticRegression(C=1.0, class_weight=None, dual=False, fit_intercept=True,\n",
       "          intercept_scaling=1, max_iter=100, multi_class='warn',\n",
       "          n_jobs=None, penalty='l2', random_state=None, solver='warn',\n",
       "          tol=0.0001, verbose=0, warm_start=False)"
      ]
     },
     "execution_count": 7,
     "metadata": {},
     "output_type": "execute_result"
    }
   ],
   "source": [
    "model = LogisticRegression()\n",
    "model.fit(X_train,y_train) "
   ]
  },
  {
   "cell_type": "markdown",
   "metadata": {},
   "source": [
    "## （4） 利用训练好的模型预测x_test, 并输出预测结果与真实值的正确率、精确率、召回率和F1-score (注意，设置精确率、召回率和F1的函数参数average='micro')"
   ]
  },
  {
   "cell_type": "code",
   "execution_count": 9,
   "metadata": {},
   "outputs": [
    {
     "name": "stdout",
     "output_type": "stream",
     "text": [
      "正确率: 0.9666666666666667\n",
      "精确率: 0.9666666666666667\n",
      "召回率: 0.9666666666666667\n",
      "F1 score: 0.9666666666666667\n"
     ]
    }
   ],
   "source": [
    "y_pred = model.predict(X_test)\n",
    "A = metrics.accuracy_score(y_test, y_pred)\n",
    "print(f'正确率: {A}')\n",
    "P = metrics.precision_score(y_test, y_pred, average='micro')\n",
    "print(f'精确率: {P}')\n",
    "R = metrics.recall_score(y_test, y_pred,average='micro')\n",
    "print(f'召回率: {R}' )\n",
    "f1 = metrics.f1_score(y_test, y_pred, average='micro')\n",
    "print(f'F1 score: {f1}' )"
   ]
  },
  {
   "cell_type": "code",
   "execution_count": null,
   "metadata": {},
   "outputs": [],
   "source": []
  }
 ],
 "metadata": {
  "kernelspec": {
   "display_name": "Python 3",
   "language": "python",
   "name": "python3"
  },
  "language_info": {
   "codemirror_mode": {
    "name": "ipython",
    "version": 3
   },
   "file_extension": ".py",
   "mimetype": "text/x-python",
   "name": "python",
   "nbconvert_exporter": "python",
   "pygments_lexer": "ipython3",
   "version": "3.7.3"
  }
 },
 "nbformat": 4,
 "nbformat_minor": 2
}
