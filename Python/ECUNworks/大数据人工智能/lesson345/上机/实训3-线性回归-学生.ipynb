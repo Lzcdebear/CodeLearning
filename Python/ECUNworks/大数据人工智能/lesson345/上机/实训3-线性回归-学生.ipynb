{
 "cells": [
  {
   "cell_type": "markdown",
   "metadata": {},
   "source": [
    "# 线性回归 - 实验1"
   ]
  },
  {
   "cell_type": "markdown",
   "metadata": {},
   "source": [
    "## 最小二乘法"
   ]
  },
  {
   "cell_type": "markdown",
   "metadata": {},
   "source": [
    "大学生便利店销售额和大学生人数的关系如下面两个列表所示，\n",
    "\n",
    "列表x是在采集的不同高校大学生人数列表，\n",
    "\n",
    "列表y是便利店对应的月销售额\n",
    "\n",
    "x = [5.2, 20.1, 12.6, 26.5, 17.7, 8.7, 11.4, 23.2, 30.3, 9.4]\n",
    "\n",
    "y=[50, 208, 140, 243, 195, 80, 115, 218, 270, 108]\n",
    "\n",
    "假设 用y与x关系可以用直线 y=a0 + a1x\n"
   ]
  },
  {
   "cell_type": "markdown",
   "metadata": {},
   "source": [
    "## 1 请用最小二乘法，拟合直线y=a0 + a1x，并预测在校大学生x=10万人时，大学生便利店销售额y的值  "
   ]
  },
  {
   "cell_type": "code",
   "execution_count": 5,
   "metadata": {},
   "outputs": [
    {
     "name": "stdout",
     "output_type": "stream",
     "text": [
      "[[ 1.   5.2]\n",
      " [ 1.  20.1]\n",
      " [ 1.  12.6]\n",
      " [ 1.  26.5]\n",
      " [ 1.  17.7]\n",
      " [ 1.   8.7]\n",
      " [ 1.  11.4]\n",
      " [ 1.  23.2]\n",
      " [ 1.  30.3]\n",
      " [ 1.   9.4]]\n",
      "[[ 50]\n",
      " [208]\n",
      " [140]\n",
      " [243]\n",
      " [195]\n",
      " [ 80]\n",
      " [115]\n",
      " [218]\n",
      " [270]\n",
      " [108]]\n",
      "[[18.67519039]\n",
      " [ 8.72348938]]\n",
      "[105.91008416]\n"
     ]
    }
   ],
   "source": [
    "import pandas as pd\n",
    "import numpy as np\n",
    "x = [5.2, 20.1, 12.6, 26.5, 17.7, 8.7, 11.4, 23.2, 30.3, 9.4]\n",
    "y = [50, 208, 140, 243, 195, 80, 115, 218, 270, 108]\n",
    "x = np.array(x)\n",
    "y = np.array(y)\n",
    "Y = y.reshape(-1, 1)\n",
    "x = x.reshape(-1, 1)\n",
    "ones = np.ones((len(x), 1))\n",
    "X = np.hstack((ones, x))\n",
    "print(X)\n",
    "print(Y)\n",
    "\n",
    "#计算数组X的转置与数组Y乘积\n",
    "# 数组的乘使用 dot函数\n",
    "# 计算X.T.dot(Y)\n",
    "B = _______\n",
    "\n",
    "#计算X.T.dot(X)的逆矩阵\n",
    "A = np.linalg.______(X.T.dot(X))\n",
    "\n",
    "theta = A.dot(B)\n",
    "print(theta)\n",
    "test_x = 10\n",
    "pre_y = theta[0] + theta[1]*test_x\n",
    "print(pre_y)"
   ]
  },
  {
   "cell_type": "markdown",
   "metadata": {},
   "source": [
    "## 2  使用sklearn.linear_model 的LinearRegression模型对大学生便利店的销售额进行预测，预测并输出在校大学生10万人时的便利店的销售额。"
   ]
  },
  {
   "cell_type": "code",
   "execution_count": 25,
   "metadata": {},
   "outputs": [
    {
     "name": "stdout",
     "output_type": "stream",
     "text": [
      "105.91008415768489\n"
     ]
    }
   ],
   "source": [
    "import numpy as np\n",
    "from sklearn.linear_model import LinearRegression\n",
    "\n",
    "x = [5.2, 20.1, 12.6, 26.5, 17.7, 8.7, 11.4, 23.2, 30.3, 9.4]\n",
    "y = [50, 208, 140, 243, 195, 80, 115, 218, 270, 108]\n",
    "\n",
    "X = np.array(x).reshape(-1,1)\n",
    "\n",
    "Y = np.array(y)\n",
    "\n",
    "model = ____________\n",
    "\n",
    "# Fit the model on the training data\n",
    "model.__________\n",
    "\n",
    "test = [[10]]\n",
    "pre_money = __________________\n",
    "\n",
    "print(pre_money)"
   ]
  },
  {
   "cell_type": "markdown",
   "metadata": {},
   "source": [
    "# 3 使用sklearn.linear_model的随机下降模型SGDRegressor，预测并输出在校大学生10万人时的便利店的销售额\n",
    "   "
   ]
  },
  {
   "cell_type": "code",
   "execution_count": 26,
   "metadata": {},
   "outputs": [
    {
     "name": "stdout",
     "output_type": "stream",
     "text": [
      "105.28561270476223\n"
     ]
    },
    {
     "name": "stderr",
     "output_type": "stream",
     "text": [
      "C:\\Users\\chenyouguang\\.conda\\envs\\python37\\lib\\site-packages\\sklearn\\linear_model\\stochastic_gradient.py:183: FutureWarning: max_iter and tol parameters have been added in SGDRegressor in 0.19. If max_iter is set but tol is left unset, the default value for tol in 0.19 and 0.20 will be None (which is equivalent to -infinity, so it has no effect) but will change in 0.21 to 1e-3. Specify tol to silence this warning.\n",
      "  FutureWarning)\n"
     ]
    }
   ],
   "source": [
    "import numpy as np\n",
    "from sklearn.linear_model import SGDRegressor\n",
    "\n",
    "x = [5.2, 20.1, 12.6, 26.5, 17.7, 8.7, 11.4, 23.2, 30.3, 9.4]\n",
    "y = [50, 208, 140, 243, 195, 80, 115, 218, 270, 108]\n",
    "\n",
    "X = np.array(x).reshape(-1,1)\n",
    "\n",
    "Y = np.array(y)\n",
    "\n",
    "#创建SGDRegressor模型\n",
    "__________________________\n",
    "# 训练模型\n",
    "_________________________\n",
    "\n",
    "test = [[10]]\n",
    "\n",
    "#预测test\n",
    "pre_money = _______________________\n",
    "\n",
    "print(pre_money)\n"
   ]
  },
  {
   "cell_type": "markdown",
   "metadata": {},
   "source": [
    "# 利用模型计算x的预测值 并在同一子图中绘制x与y的曲线和x与预测结果的曲线"
   ]
  },
  {
   "cell_type": "code",
   "execution_count": 29,
   "metadata": {},
   "outputs": [
    {
     "data": {
      "text/plain": [
       "Text(0, 0.5, '月销售额')"
      ]
     },
     "execution_count": 29,
     "metadata": {},
     "output_type": "execute_result"
    },
    {
     "data": {
      "image/png": "[encoded data removed]",
      "text/plain": [
       "<Figure size 432x288 with 1 Axes>"
      ]
     },
     "metadata": {
      "needs_background": "light"
     },
     "output_type": "display_data"
    }
   ],
   "source": [
    "pre_y =  model.predict(X)\n",
    "import matplotlib.pyplot as plt\n",
    "\n",
    "plt.rcParams['font.sans-serif'] = ['KaiTi']\n",
    "# 绘出已知样本的散点图\n",
    "plt._______(X, Y, color='g', s=100)\n",
    "# 绘出X与预测值pre_y得折线图\n",
    "plt.___________(X,pre_y, color='r', linewidth=3)\n",
    "# 绘出预测直线\n",
    "# 绘图设置\n",
    "plt.xticks(fontproperties='Times New Roman', size=18)\n",
    "plt.yticks(fontproperties='Times New Roman', size=18)\n",
    "plt.title('线性回归模型', size=20)\n",
    "plt.xlabel('学生人数', size=20)\n",
    "plt.ylabel('月销售额', size=20)\n"
   ]
  },
  {
   "cell_type": "markdown",
   "metadata": {},
   "source": [
    "## 线性回归 -- 实验2"
   ]
  },
  {
   "cell_type": "code",
   "execution_count": 30,
   "metadata": {},
   "outputs": [],
   "source": [
    "#（1）导入库\n",
    "import numpy as np\n",
    "import matplotlib.pyplot as plt\n",
    "from sklearn import datasets\n",
    "from sklearn import metrics\n",
    "from sklearn.model_selection import train_test_split\n",
    "from sklearn.linear_model import LinearRegression"
   ]
  },
  {
   "cell_type": "markdown",
   "metadata": {},
   "source": [
    "## （1）加载波士顿房价数据\n",
    "<br>\n",
    "使用datasets.load_boston加载波士顿房价数据\n",
    "<br>"
   ]
  },
  {
   "cell_type": "code",
   "execution_count": 31,
   "metadata": {},
   "outputs": [],
   "source": []
  },
  {
   "cell_type": "markdown",
   "metadata": {},
   "source": [
    "## （2）将数据集划分为两部分，训练数据集和测试数据集，测试数据集占总的数据集的0.2\n"
   ]
  },
  {
   "cell_type": "code",
   "execution_count": 32,
   "metadata": {},
   "outputs": [
    {
     "name": "stdout",
     "output_type": "stream",
     "text": [
      "(404, 13)\n",
      "(102, 13)\n"
     ]
    }
   ],
   "source": []
  },
  {
   "cell_type": "markdown",
   "metadata": {},
   "source": [
    "## （3） 建立LinearRegression模型，并训练"
   ]
  },
  {
   "cell_type": "code",
   "execution_count": 33,
   "metadata": {},
   "outputs": [
    {
     "data": {
      "text/plain": [
       "LinearRegression(copy_X=True, fit_intercept=True, n_jobs=None,\n",
       "         normalize=False)"
      ]
     },
     "execution_count": 33,
     "metadata": {},
     "output_type": "execute_result"
    }
   ],
   "source": []
  },
  {
   "cell_type": "markdown",
   "metadata": {},
   "source": [
    "## （4） 打印出线性方程中13个特征值各自的系数以及截距"
   ]
  },
  {
   "cell_type": "code",
   "execution_count": 34,
   "metadata": {},
   "outputs": [
    {
     "name": "stdout",
     "output_type": "stream",
     "text": [
      "[-1.02320968e-01  4.62680133e-02 -1.26199208e-02  3.70894509e+00\n",
      " -1.42093495e+01  3.94430494e+00 -1.25057621e-02 -1.41051054e+00\n",
      "  2.81299564e-01 -1.34097591e-02 -8.97816764e-01  8.58664117e-03\n",
      " -4.46954290e-01]\n",
      "33.447614662470954\n"
     ]
    }
   ],
   "source": []
  },
  {
   "cell_type": "markdown",
   "metadata": {},
   "source": [
    "## （5） 利用训练好的模型预测x_test, 并输出预测结果与真实值的MSE"
   ]
  },
  {
   "cell_type": "code",
   "execution_count": 35,
   "metadata": {},
   "outputs": [
    {
     "name": "stdout",
     "output_type": "stream",
     "text": [
      "MSE: 28.01471556711817\n"
     ]
    }
   ],
   "source": [
    "\n"
   ]
  },
  {
   "cell_type": "markdown",
   "metadata": {},
   "source": [
    "## （6）假设波士顿某房屋参数如下\n",
    "<br>\n",
    "x_sample = [[0.00632,18.0,2.31,0.0,0.538,6.575,65.2,4.09,1.0,296.0,15.3,396.9,4.98]]\n",
    "<br>\n",
    "利用上面模型预测其房价，并输出"
   ]
  },
  {
   "cell_type": "code",
   "execution_count": 41,
   "metadata": {},
   "outputs": [
    {
     "name": "stdout",
     "output_type": "stream",
     "text": [
      "x=[[0.00632, 18.0, 2.31, 0.0, 0.538, 6.575, 65.2, 4.09, 1.0, 296.0, 15.3, 396.9, 4.98]]\n",
      "预测房价为29.713071235133718\n"
     ]
    }
   ],
   "source": []
  },
  {
   "cell_type": "markdown",
   "metadata": {},
   "source": [
    "##  线性回归--非线性拟合 -- 实验3（*选做）"
   ]
  },
  {
   "cell_type": "markdown",
   "metadata": {},
   "source": [
    "##  假设函数y  = x ** 2 - 5 * x - 3，利用线性回归拟合该曲线\n"
   ]
  },
  {
   "cell_type": "markdown",
   "metadata": {},
   "source": [
    "## （1）导入模块"
   ]
  },
  {
   "cell_type": "code",
   "execution_count": 42,
   "metadata": {},
   "outputs": [],
   "source": [
    "import numpy as np\n",
    "import pandas as pd\n",
    "from sklearn.linear_model import LinearRegression\n",
    "import matplotlib.pyplot as plt\n",
    "from sklearn.preprocessing import PolynomialFeatures"
   ]
  },
  {
   "cell_type": "markdown",
   "metadata": {},
   "source": [
    "## （2） 令x = np.sort(np.linspace(0, 7, 9))生成训练集"
   ]
  },
  {
   "cell_type": "code",
   "execution_count": 44,
   "metadata": {},
   "outputs": [],
   "source": [
    "x = np.sort(np.linspace(0, 7, 9))\n",
    "y = x ** 2 - 5 * x - 3 \n",
    "\n",
    "x = x.reshape(-1, 1)\n",
    "y = y.reshape(-1, 1)\n"
   ]
  },
  {
   "cell_type": "markdown",
   "metadata": {},
   "source": [
    "## （3） 设定degree=2，利用多项式特征函数PolynomialFeatures，生成多项式特征"
   ]
  },
  {
   "cell_type": "code",
   "execution_count": 45,
   "metadata": {},
   "outputs": [],
   "source": [
    "#创建PolynomialFeatures\n",
    "PF = ________________________\n",
    "#计算多项式特征\n",
    "x_poly = PF._______________(x)"
   ]
  },
  {
   "cell_type": "markdown",
   "metadata": {},
   "source": [
    "## （4）创建线性回归模型LinearRegression，并训练"
   ]
  },
  {
   "cell_type": "code",
   "execution_count": 49,
   "metadata": {},
   "outputs": [
    {
     "data": {
      "text/plain": [
       "LinearRegression(copy_X=True, fit_intercept=True, n_jobs=None,\n",
       "         normalize=False)"
      ]
     },
     "execution_count": 49,
     "metadata": {},
     "output_type": "execute_result"
    }
   ],
   "source": []
  },
  {
   "cell_type": "markdown",
   "metadata": {},
   "source": [
    "## （5）生成测试集 x_test = np.linspace(x.min(), x.max(), num=100).reshape(-1, 1)，并利用训练好的模型得到预测值y_pred"
   ]
  },
  {
   "cell_type": "code",
   "execution_count": 50,
   "metadata": {},
   "outputs": [],
   "source": [
    "x_test = np.linspace(x.min(), x.max(), num=100).reshape(-1, 1)\n",
    "\n",
    "x_test_poly = _____________________\n",
    "y_pred = ________________________"
   ]
  },
  {
   "cell_type": "markdown",
   "metadata": {},
   "source": [
    "## (6) 绘制x，y散点图和x_test,y_pred的折线图"
   ]
  },
  {
   "cell_type": "code",
   "execution_count": 52,
   "metadata": {},
   "outputs": [
    {
     "data": {
      "image/png": "[encoded data removed]",
      "text/plain": [
       "<Figure size 432x288 with 1 Axes>"
      ]
     },
     "metadata": {
      "needs_background": "light"
     },
     "output_type": "display_data"
    }
   ],
   "source": [
    "\n",
    "# 绘制原始数据x，y的散点图\n",
    "plt.________(x, y, color='g', s=100, zorder=5)\n",
    "# 绘制测试数据x_test和预测值y_pred的折线图\n",
    "plt.________(x_test, y_pred, color='r', label=(f'{2}次项'))\n",
    "\n",
    "# 常规绘图项\n",
    "plt.legend(loc='upper left', fontsize=14)\n",
    "plt.xticks(fontproperties='Times New Roman', size=18)\n",
    "plt.yticks(fontproperties='Times New Roman', size=18)\n",
    "plt.title('多次项线性回归模型', size=20)\n",
    "plt.xlabel('x', size=24)\n",
    "plt.ylabel('y', size=24)\n",
    "plt.tight_layout()    \n",
    "plt.show()\n"
   ]
  },
  {
   "cell_type": "markdown",
   "metadata": {},
   "source": [
    "## 线性回归——实验3\n",
    "Energy Efficiency数据集（ ENB2012_data.xlsx）记录不同房屋的制热能源消耗和制冷能源消耗。包括768条记录，8个特征属性，两个预测值。具体说明见ENB2012.names。\n",
    "（1）在全数据集上训练线性回归模型预测制热能耗。  \n",
    "（2）计算模型性能：RMSE以及R2；  \n",
    "（3）将数据集划分训练集和测试集，在训练集上训练线性回归模型，分析模型在训练集和测试集上的性能。 \n",
    "Energy Efficiency数据集说明\n",
    "https://code.datasciencedojo.com/datasciencedojo/datasets/blob/master/Energy%20Efficiency/README.md"
   ]
  },
  {
   "cell_type": "code",
   "execution_count": null,
   "metadata": {},
   "outputs": [],
   "source": []
  }
 ],
 "metadata": {
  "kernelspec": {
   "display_name": "Python 3",
   "language": "python",
   "name": "python3"
  },
  "language_info": {
   "codemirror_mode": {
    "name": "ipython",
    "version": 3
   },
   "file_extension": ".py",
   "mimetype": "text/x-python",
   "name": "python",
   "nbconvert_exporter": "python",
   "pygments_lexer": "ipython3",
   "version": "3.8.5"
  }
 },
 "nbformat": 4,
 "nbformat_minor": 2
}
