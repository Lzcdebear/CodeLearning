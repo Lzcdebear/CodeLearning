{
 "cells": [
  {
   "cell_type": "markdown",
   "metadata": {
    "nteract": {
     "transient": {
      "deleting": false
     }
    }
   },
   "source": [
    "## 5.3.4 线性回归综合实践\n",
    "&emsp;&emsp;利用Python实现线性回归分析的基本步骤如下：  \n",
    "&emsp;&emsp;（1）依次导入相关库。  \n",
    "&emsp;&emsp;（2）数据预处理：导入或者读取数据集，必要时将分类数据数字化，划分数据集为训练集和测试集。  \n",
    "&emsp;&emsp;（3）在训练集上训练线性回归模型。  \n",
    "&emsp;&emsp;（4）在测试集上预测结果。  \n",
    "&emsp;&emsp;（5）模型评估。  \n",
    "&emsp;&emsp;（6）结果可视化对比。"
   ]
  },
  {
   "cell_type": "markdown",
   "metadata": {
    "nteract": {
     "transient": {
      "deleting": false
     }
    }
   },
   "source": [
    "&emsp;&emsp;**例5-3-1** 利用糖尿病数据集，实现一元线性回归分析。 \n",
    "\n",
    "&emsp;&emsp;糖尿病数据集由sklearn提供，该数据集包含442个糖尿病病例的10项检查数据，以及这些病例检查后一年疾病进展的定量测量结果。 数据集有442行记录，11列。其中前10列为10个特征的检查数据，10个特征分别为：年龄，性别，体重指数，平均血压，以及6个血清学测量值S1，S2，S3，S4，S5，S6，特征取值范围为(-0.2,0.2)。第11列标签列为一年后的定量测量值。标签取值范围是\\[25,346]。我们可以通过以下代码加载和查看该数据集："
   ]
  },
  {
   "cell_type": "code",
   "execution_count": 1,
   "metadata": {
    "execution": {
     "iopub.execute_input": "2021-01-28T18:52:54.760Z",
     "iopub.status.busy": "2021-01-28T18:52:54.745Z",
     "iopub.status.idle": "2021-01-28T18:52:57.223Z",
     "shell.execute_reply": "2021-01-28T18:52:57.280Z"
    },
    "jupyter": {
     "outputs_hidden": false,
     "source_hidden": false
    },
    "nteract": {
     "transient": {
      "deleting": false
     }
    }
   },
   "outputs": [
    {
     "name": "stdout",
     "output_type": "stream",
     "text": [
      "【描述】\n",
      " .. _diabetes_dataset:\n",
      "\n",
      "Diabetes dataset\n",
      "----------------\n",
      "\n",
      "Ten baseline variables, age, sex, body mass index, average blood\n",
      "pressure, and six blood serum measurements were obtained for each of n =\n",
      "442 diabetes patients, as well as the response of interest, a\n",
      "quantitative measure of disease progression one year after baseline.\n",
      "\n",
      "**Data Set Characteristics:**\n",
      "\n",
      "  :Number of Instances: 442\n",
      "\n",
      "  :Number of Attributes: First 10 columns are numeric predictive values\n",
      "\n",
      "  :Target: Column 11 is a quantitative measure of disease progression one year after baseline\n",
      "\n",
      "  :Attribute Information:\n",
      "      - age     age in years\n",
      "      - sex\n",
      "      - bmi     body mass index\n",
      "      - bp      average blood pressure\n",
      "      - s1      tc, T-Cells (a type of white blood cells)\n",
      "      - s2      ldl, low-density lipoproteins\n",
      "      - s3      hdl, high-density lipoproteins\n",
      "      - s4      tch, thyroid stimulating hormone\n",
      "      - s5      ltg, lamotrigine\n",
      "      - s6      glu, blood sugar level\n",
      "\n",
      "Note: Each of these 10 feature variables have been mean centered and scaled by the standard deviation times `n_samples` (i.e. the sum of squares of each column totals 1).\n",
      "\n",
      "Source URL:\n",
      "https://www4.stat.ncsu.edu/~boos/var.select/diabetes.html\n",
      "\n",
      "For more information see:\n",
      "Bradley Efron, Trevor Hastie, Iain Johnstone and Robert Tibshirani (2004) \"Least Angle Regression,\" Annals of Statistics (with discussion), 407-499.\n",
      "(https://web.stanford.edu/~hastie/Papers/LARS/LeastAngle_2002.pdf)\n",
      "【特征名称】\n",
      " ['age', 'sex', 'bmi', 'bp', 's1', 's2', 's3', 's4', 's5', 's6']\n",
      "【数据】\n",
      " [[ 0.03807591  0.05068012  0.06169621 ... -0.00259226  0.01990842\n",
      "  -0.01764613]\n",
      " [-0.00188202 -0.04464164 -0.05147406 ... -0.03949338 -0.06832974\n",
      "  -0.09220405]\n",
      " [ 0.08529891  0.05068012  0.04445121 ... -0.00259226  0.00286377\n",
      "  -0.02593034]\n",
      " ...\n",
      " [ 0.04170844  0.05068012 -0.01590626 ... -0.01107952 -0.04687948\n",
      "   0.01549073]\n",
      " [-0.04547248 -0.04464164  0.03906215 ...  0.02655962  0.04452837\n",
      "  -0.02593034]\n",
      " [-0.04547248 -0.04464164 -0.0730303  ... -0.03949338 -0.00421986\n",
      "   0.00306441]]\n",
      "【目标值】\n",
      " [151.  75. 141. 206. 135.  97. 138.  63. 110. 310. 101.  69. 179. 185.\n",
      " 118. 171. 166. 144.  97. 168.  68.  49.  68. 245. 184. 202. 137.  85.\n",
      " 131. 283. 129.  59. 341.  87.  65. 102. 265. 276. 252.  90. 100.  55.\n",
      "  61.  92. 259.  53. 190. 142.  75. 142. 155. 225.  59. 104. 182. 128.\n",
      "  52.  37. 170. 170.  61. 144.  52. 128.  71. 163. 150.  97. 160. 178.\n",
      "  48. 270. 202. 111.  85.  42. 170. 200. 252. 113. 143.  51.  52. 210.\n",
      "  65. 141.  55. 134.  42. 111.  98. 164.  48.  96.  90. 162. 150. 279.\n",
      "  92.  83. 128. 102. 302. 198.  95.  53. 134. 144. 232.  81. 104.  59.\n",
      " 246. 297. 258. 229. 275. 281. 179. 200. 200. 173. 180.  84. 121. 161.\n",
      "  99. 109. 115. 268. 274. 158. 107.  83. 103. 272.  85. 280. 336. 281.\n",
      " 118. 317. 235.  60. 174. 259. 178. 128.  96. 126. 288.  88. 292.  71.\n",
      " 197. 186.  25.  84.  96. 195.  53. 217. 172. 131. 214.  59.  70. 220.\n",
      " 268. 152.  47.  74. 295. 101. 151. 127. 237. 225.  81. 151. 107.  64.\n",
      " 138. 185. 265. 101. 137. 143. 141.  79. 292. 178.  91. 116.  86. 122.\n",
      "  72. 129. 142.  90. 158.  39. 196. 222. 277.  99. 196. 202. 155.  77.\n",
      " 191.  70.  73.  49.  65. 263. 248. 296. 214. 185.  78.  93. 252. 150.\n",
      "  77. 208.  77. 108. 160.  53. 220. 154. 259.  90. 246. 124.  67.  72.\n",
      " 257. 262. 275. 177.  71.  47. 187. 125.  78.  51. 258. 215. 303. 243.\n",
      "  91. 150. 310. 153. 346.  63.  89.  50.  39. 103. 308. 116. 145.  74.\n",
      "  45. 115. 264.  87. 202. 127. 182. 241.  66.  94. 283.  64. 102. 200.\n",
      " 265.  94. 230. 181. 156. 233.  60. 219.  80.  68. 332. 248.  84. 200.\n",
      "  55.  85.  89.  31. 129.  83. 275.  65. 198. 236. 253. 124.  44. 172.\n",
      " 114. 142. 109. 180. 144. 163. 147.  97. 220. 190. 109. 191. 122. 230.\n",
      " 242. 248. 249. 192. 131. 237.  78. 135. 244. 199. 270. 164.  72.  96.\n",
      " 306.  91. 214.  95. 216. 263. 178. 113. 200. 139. 139.  88. 148.  88.\n",
      " 243.  71.  77. 109. 272.  60.  54. 221.  90. 311. 281. 182. 321.  58.\n",
      " 262. 206. 233. 242. 123. 167.  63. 197.  71. 168. 140. 217. 121. 235.\n",
      " 245.  40.  52. 104. 132.  88.  69. 219.  72. 201. 110.  51. 277.  63.\n",
      " 118.  69. 273. 258.  43. 198. 242. 232. 175.  93. 168. 275. 293. 281.\n",
      "  72. 140. 189. 181. 209. 136. 261. 113. 131. 174. 257.  55.  84.  42.\n",
      " 146. 212. 233.  91. 111. 152. 120.  67. 310.  94. 183.  66. 173.  72.\n",
      "  49.  64.  48. 178. 104. 132. 220.  57.]\n"
     ]
    }
   ],
   "source": [
    "from sklearn import datasets  \n",
    "# 加载数据集\n",
    "diabetes = datasets.load_diabetes() \n",
    "# 显示其描述\n",
    "print(\"【描述】\\n\", diabetes.DESCR)\n",
    "# 显示其特征名称\n",
    "print(\"【特征名称】\\n\", diabetes.feature_names)\n",
    "# 显示其特征数据\n",
    "print(\"【数据】\\n\", diabetes.data)\n",
    "# 显示其标签数据\n",
    "print(\"【目标值】\\n\", diabetes.target)"
   ]
  },
  {
   "cell_type": "markdown",
   "metadata": {
    "nteract": {
     "transient": {
      "deleting": false
     }
    }
   },
   "source": [
    "&emsp;&emsp;本例利用糖尿病数据集中的第三个特征数据，拟合回归模型，拟合出的直线使数据集中观察到的真实值与预测值之间的残差平方和最小。并输出均方差、决定系数，将结果进行可视化对比。\n",
    "\n",
    "&emsp;&emsp;程序实现代码如下："
   ]
  },
  {
   "cell_type": "markdown",
   "metadata": {
    "nteract": {
     "transient": {
      "deleting": false
     }
    }
   },
   "source": [
    "#### （1）导入库\n",
    "&emsp;&emsp;matplotlib.pyplot用于可视化图表，sklearn.datasets用于导入数据加载器，sklearn.linear_model用于建立回归模型，sklearn.metrics.mean_squared_error用于计算均方差，sklearn.metrics.r2_score用于计算决定系数$R^2$。"
   ]
  },
  {
   "cell_type": "code",
   "execution_count": 2,
   "metadata": {
    "execution": {
     "iopub.execute_input": "2021-01-28T18:54:28.559Z",
     "iopub.status.busy": "2021-01-28T18:54:28.536Z",
     "iopub.status.idle": "2021-01-28T18:54:29.158Z",
     "shell.execute_reply": "2021-01-28T18:54:29.145Z"
    },
    "jupyter": {
     "outputs_hidden": false,
     "source_hidden": false
    },
    "nteract": {
     "transient": {
      "deleting": false
     }
    }
   },
   "outputs": [],
   "source": [
    "# （1）导入库\n",
    "import matplotlib.pyplot as plt\n",
    "import numpy as np\n",
    "from sklearn import datasets, linear_model\n",
    "from sklearn.metrics import mean_squared_error, r2_score"
   ]
  },
  {
   "cell_type": "markdown",
   "metadata": {
    "nteract": {
     "transient": {
      "deleting": false
     }
    }
   },
   "source": [
    "#### （2）导入数据集并划分数据集\n",
    "&emsp;&emsp;语句diabetes_X, diabetes_y = datasets.load_diabetes(return_X_y=True)，加载糖尿病数据集所有数据到变量diabetes_X和diabetes_y。\n",
    "\n",
    "&emsp;&emsp;语句diabetes_X = diabetes_X\\[:, np.newaxis, 2]，只选取数据集的第三个特征存入变量diabetes_X；diabetes_X数据集共有442行10列\n",
    "（442\\*10），参数np.newaxis的功能是插入一个新的维度。此处把diabetes_X数据集转换成442\\*1\\*10，在第三个维度中的10个系列中选取第一个特征列（442\\*1）。  \n",
    "\n",
    "&emsp;&emsp;语句diabetes_X_train = diabetes_X\\[:-20]，使用数组切片设置数据diabetes_X前422个病例数据为训练集diabetes_X_train。  \n",
    "\n",
    "&emsp;&emsp;语句diabetes_X_test = diabetes_X\\[-20:]，使用数组切片设置数据diabetes_X后20个病例数据为测试集diabetes_X_test。  \n",
    "\n",
    "&emsp;&emsp;语句diabetes_y_train = diabetes_y\\[:-20]，使用数组切片设置目标数据diabetes_y前422个病例数据为目标训练集diabetes_y_train。 \n",
    "\n",
    "&emsp;&emsp;语句diabetes_y_test = diabetes_y\\[-20:]，使用数组切片设置目标数据diabetes_y后20个病例数据为目标测试集diabetes_y_test。\n",
    "- 参数np.newaxis的用法补充解释\n",
    "\n",
    "&emsp;&emsp;np.newaxis功能是索引多维数组的某一列时，返回的是一个行向量。如对于数组X，  \n",
    "\n",
    "&emsp;&emsp;设X = np.array(\\[\\[1, 2, 3, 4],  \n",
    "&emsp;&emsp;&emsp;&emsp;&emsp;&emsp;&emsp;&emsp;&emsp;&emsp;&emsp;&ensp;\\[5, 6, 7, 8],  \n",
    "&emsp;&emsp;&emsp;&emsp;&emsp;&emsp;&emsp;&emsp;&emsp;&emsp;&emsp;&ensp;\\[9, 10, 11, 12]  \n",
    "&emsp;&emsp;&emsp;&emsp;&emsp;&emsp;&emsp;&emsp;&emsp;&emsp;&emsp;&ensp;])，  \n",
    "\n",
    "&emsp;&emsp;则X\\[:, 2]为\\[3  7  11]，X\\[:, 2]把X中的第三列数据显示为了一行。但是，如果索引多维数组的某一列，想要返回的仍然是列的结构时，可以采用：X\\[:, 2]\\[:, np.newaxis]或X\\[:,np.newaxis,2]，获得如下形式的结果：  \n",
    "\\[\\[3]  \n",
    "&nbsp;\\[7]   \n",
    "&nbsp;\\[11]]  "
   ]
  },
  {
   "cell_type": "code",
   "execution_count": 3,
   "metadata": {
    "execution": {
     "iopub.execute_input": "2021-01-28T18:54:45.152Z",
     "iopub.status.busy": "2021-01-28T18:54:45.136Z",
     "iopub.status.idle": "2021-01-28T18:54:45.170Z",
     "shell.execute_reply": "2021-01-28T18:54:45.177Z"
    },
    "jupyter": {
     "outputs_hidden": false,
     "source_hidden": false
    },
    "nteract": {
     "transient": {
      "deleting": false
     }
    }
   },
   "outputs": [],
   "source": [
    "# （2）加载糖尿病数据集 \n",
    "diabetes_X, diabetes_y = datasets.load_diabetes(return_X_y=True)\n",
    "# 只使用糖尿病数据集的第三个特征\n",
    "diabetes_X = diabetes_X[:, np.newaxis, 2]\n",
    "# 分割数据为训练集和测试集\n",
    "diabetes_X_train = diabetes_X[:-20]\n",
    "diabetes_X_test = diabetes_X[-20:]\n",
    "# 分割目标数据为训练集和测试集\n",
    "diabetes_y_train = diabetes_y[:-20]\n",
    "diabetes_y_test = diabetes_y[-20:]"
   ]
  },
  {
   "cell_type": "markdown",
   "metadata": {
    "nteract": {
     "transient": {
      "deleting": false
     }
    }
   },
   "source": [
    "#### （3）创建回归模型对象并训练模型\n",
    "&emsp;&emsp;语句regr = linear_model.LinearRegression()，实例化线性回归对象regr。 \n",
    "\n",
    "&emsp;&emsp;语句regr.fit(diabetes_X_train, diabetes_y_train)，调用对象regr的fit方法使用训练集训练模型，求出了系数矩阵coefficient，并计算出了均方误差和方差。"
   ]
  },
  {
   "cell_type": "code",
   "execution_count": 4,
   "metadata": {
    "execution": {
     "iopub.execute_input": "2021-01-28T18:55:09.272Z",
     "iopub.status.busy": "2021-01-28T18:55:09.260Z",
     "iopub.status.idle": "2021-01-28T18:55:09.390Z",
     "shell.execute_reply": "2021-01-28T18:55:09.403Z"
    },
    "jupyter": {
     "outputs_hidden": false,
     "source_hidden": false
    },
    "nteract": {
     "transient": {
      "deleting": false
     }
    }
   },
   "outputs": [
    {
     "data": {
      "text/plain": [
       "LinearRegression()"
      ]
     },
     "execution_count": 4,
     "metadata": {},
     "output_type": "execute_result"
    }
   ],
   "source": [
    "#（3）创建线性回归模型对象\n",
    "regr = linear_model.LinearRegression()\n",
    "#使用训练集训练模型，拟合直线\n",
    "regr.fit(diabetes_X_train, diabetes_y_train)"
   ]
  },
  {
   "cell_type": "markdown",
   "metadata": {
    "nteract": {
     "transient": {
      "deleting": false
     }
    }
   },
   "source": [
    "#### （4）使用测试集实现预测\n",
    "&emsp;&emsp;语句diabetes\\_y\\_pred = regr.predict(diabetes\\_X\\_test)，基于测试集进行预测，计算出预测目标值。 \n",
    "\n",
    "&emsp;&emsp;语句print('Coefficients: \\n', regr.coef\\_)，输出回归系数regr.coef_。"
   ]
  },
  {
   "cell_type": "code",
   "execution_count": 5,
   "metadata": {
    "execution": {
     "iopub.execute_input": "2021-01-28T18:55:24.006Z",
     "iopub.status.busy": "2021-01-28T18:55:23.987Z",
     "iopub.status.idle": "2021-01-28T18:55:24.031Z",
     "shell.execute_reply": "2021-01-28T18:55:24.056Z"
    },
    "jupyter": {
     "outputs_hidden": false,
     "source_hidden": false
    },
    "nteract": {
     "transient": {
      "deleting": false
     }
    }
   },
   "outputs": [
    {
     "name": "stdout",
     "output_type": "stream",
     "text": [
      "Coefficients: [938.23786125]\n"
     ]
    }
   ],
   "source": [
    "#（4）使用测试集实现预测\n",
    "diabetes_y_pred = regr.predict(diabetes_X_test)\n",
    "#输出回归系数\n",
    "print('Coefficients:', regr.coef_)"
   ]
  },
  {
   "cell_type": "markdown",
   "metadata": {
    "nteract": {
     "transient": {
      "deleting": false
     }
    }
   },
   "source": [
    "#### （5）模型评估\n",
    "&emsp;&emsp;语句print('Mean squared error: %.2f' % mean_squared_error(diabetes_y_test, diabetes_y_pred))和语句print('Coefficient of determination: %.2f' % r2_score(diabetes_y_test, diabetes_y_pred))，分别计算并输出均方误差（MSE）和决定系数$R^2$。"
   ]
  },
  {
   "cell_type": "code",
   "execution_count": 6,
   "metadata": {
    "execution": {
     "iopub.execute_input": "2021-01-28T18:55:43.324Z",
     "iopub.status.busy": "2021-01-28T18:55:43.310Z",
     "iopub.status.idle": "2021-01-28T18:55:43.351Z",
     "shell.execute_reply": "2021-01-28T18:55:43.360Z"
    },
    "jupyter": {
     "outputs_hidden": false,
     "source_hidden": false
    },
    "nteract": {
     "transient": {
      "deleting": false
     }
    }
   },
   "outputs": [
    {
     "name": "stdout",
     "output_type": "stream",
     "text": [
      "Mean squared error: 2548.07\n",
      "Coefficient of determination: 0.47\n"
     ]
    }
   ],
   "source": [
    "#（5）模型评估\n",
    "# 计算并输出均方差\n",
    "print('Mean squared error: %.2f' % mean_squared_error(diabetes_y_test, diabetes_y_pred))\n",
    "# 计算并输出决定系数R2 \n",
    "print('Coefficient of determination: %.2f' % r2_score(diabetes_y_test, diabetes_y_pred))"
   ]
  },
  {
   "cell_type": "markdown",
   "metadata": {
    "nteract": {
     "transient": {
      "deleting": false
     }
    }
   },
   "source": [
    "#### （6）绘图输出\n",
    "&emsp;&emsp;语句plt.scatter(diabetes_X_test, diabetes_y_test, color='black')，绘制黑色散点图。\n",
    "\n",
    "&emsp;&emsp;语句plt.plot(diabetes_X_test, diabetes_y_pred, color='blue', linewidth=3)，绘制蓝色、线宽为3的折线图。"
   ]
  },
  {
   "cell_type": "code",
   "execution_count": 7,
   "metadata": {
    "execution": {
     "iopub.execute_input": "2021-01-28T18:55:55.886Z",
     "iopub.status.busy": "2021-01-28T18:55:55.861Z",
     "iopub.status.idle": "2021-01-28T18:55:56.079Z",
     "shell.execute_reply": "2021-01-28T18:55:56.202Z"
    },
    "jupyter": {
     "outputs_hidden": false,
     "source_hidden": false
    },
    "nteract": {
     "transient": {
      "deleting": false
     }
    }
   },
   "outputs": [
    {
     "data": {
      "image/png": "[encoded data removed]",
      "text/plain": [
       "<Figure size 432x288 with 1 Axes>"
      ]
     },
     "metadata": {
      "needs_background": "light"
     },
     "output_type": "display_data"
    }
   ],
   "source": [
    "#（6）绘图输出\n",
    "plt.scatter(diabetes_X_test, diabetes_y_test, color='black')\n",
    "plt.plot(diabetes_X_test, diabetes_y_pred, color='blue', linewidth=3)\n",
    "plt.show()"
   ]
  },
  {
   "cell_type": "markdown",
   "metadata": {
    "nteract": {
     "transient": {
      "deleting": false
     }
    }
   },
   "source": [
    "&emsp;&emsp;**例5-3-2** 利用波士顿房价数据集，实现多元线性回归分析。\n",
    "\n",
    "&emsp;&emsp;sklearn也提供了波士顿房价数据集。该数据集包含506条记录，13个特征指标，第14列通常为目标列房价。试图能找到那些指标与房价的关系。13个特征依次为：城镇人均犯罪率CRIM、超过2.5万平方英尺的住宅用地比例ZN、城镇非零售商业面积比例INDUS、是否靠近Charles河CHAS、氮氧化物浓度NOX、每户住宅的平均房间数RM、1940年以前建造的自住单位比例AGE、到波士顿五个就业中心的加权距离DIS、到高速公路的可达性指数RAD、每万元全额物业税税率TAX、城镇师生比例PTRATIO、与黑人相关的指标B、低地位人口率LSTAT、业主自住房屋的均值MEDV。  \n",
    "\n",
    "&emsp;&emsp;本例首先将506组数据的数据集划分为训练集和测试集，其中404是训练样本，剩下的102组数据作为验证样本。然后构建回归模型并训练模型，查看模型的13个特征的系数以及截距，获取模型的预测结果与测试集的值，最后绘制折线图对比预测值和真实值。 \n",
    "\n",
    "&emsp;&emsp;程序实现代码如下："
   ]
  },
  {
   "cell_type": "markdown",
   "metadata": {
    "nteract": {
     "transient": {
      "deleting": false
     }
    }
   },
   "source": [
    "#### （1）导入库\n",
    "&emsp;&emsp;sklearn.datasets用于导入数据加载器，sklearn.model_selection用于数据选择，sklearn.linear_model用于建立回归模型，matplotlib.pyplot和rcParams用于可视化图表。"
   ]
  },
  {
   "cell_type": "code",
   "execution_count": 8,
   "metadata": {
    "execution": {
     "iopub.execute_input": "2021-01-28T19:38:18.282Z",
     "iopub.status.busy": "2021-01-28T19:38:18.257Z",
     "iopub.status.idle": "2021-01-28T19:38:20.687Z",
     "shell.execute_reply": "2021-01-28T19:38:20.673Z"
    },
    "jupyter": {
     "outputs_hidden": false,
     "source_hidden": false
    },
    "nteract": {
     "transient": {
      "deleting": false
     }
    }
   },
   "outputs": [],
   "source": [
    "# （1）导入库\n",
    "from sklearn.datasets import load_boston\n",
    "from sklearn.model_selection import train_test_split\n",
    "from sklearn.linear_model import LinearRegression\n",
    "import matplotlib.pyplot as plt\n",
    "from matplotlib import rcParams"
   ]
  },
  {
   "cell_type": "markdown",
   "metadata": {
    "nteract": {
     "transient": {
      "deleting": false
     }
    }
   },
   "source": [
    "#### （2）加载数据集并划分数据集\n",
    "&emsp;&emsp;语句load_boston()，加载波士顿房价数据集，该数据集包含13个特征506条记录。\n",
    "\n",
    "&emsp;&emsp;语句x=boston\\['data']，获取数据集的所有数据赋给变量x。\n",
    "\n",
    "&emsp;&emsp;语句y=boston\\['target']，获取数据集的目标值赋给变量y。 \n",
    "\n",
    "&emsp;&emsp;语句names=boston\\['feature_names']，获取数据集的特征名称赋给变量names。  \n",
    "\n",
    "&emsp;&emsp;语句x_train,x_test,y_train,y_test=train_test_split(x,y,test_size=0.2,random_state=22)，划分数据集为训练集和测试集，语句中x_train表示划分出的训练集数据（返回值）；x_test表示划分出的测试集数据（返回值）；y_train表示划分出的训练集标签（返回值）；y_test表示划分出的测试集标签（返回值）。该例中测试集数据为所有数据的20%共102条，训练集数据为404条。  \n",
    "\n",
    "&emsp;&emsp;语句print('x_train前3行数据为：', x_train\\[0:3],'\\n', 'y_train前3行数据为：',y_train\\[0:3]),运行结果如下所示。"
   ]
  },
  {
   "cell_type": "code",
   "execution_count": 9,
   "metadata": {
    "execution": {
     "iopub.execute_input": "2021-01-28T19:38:30.950Z",
     "iopub.status.busy": "2021-01-28T19:38:30.931Z",
     "iopub.status.idle": "2021-01-28T19:38:30.985Z",
     "shell.execute_reply": "2021-01-28T19:38:30.994Z"
    },
    "jupyter": {
     "outputs_hidden": false,
     "source_hidden": false
    },
    "nteract": {
     "transient": {
      "deleting": false
     }
    }
   },
   "outputs": [
    {
     "name": "stdout",
     "output_type": "stream",
     "text": [
      "x_train前3行数据为： [[2.24236e+00 0.00000e+00 1.95800e+01 0.00000e+00 6.05000e-01 5.85400e+00\n",
      "  9.18000e+01 2.42200e+00 5.00000e+00 4.03000e+02 1.47000e+01 3.95110e+02\n",
      "  1.16400e+01]\n",
      " [2.61690e-01 0.00000e+00 9.90000e+00 0.00000e+00 5.44000e-01 6.02300e+00\n",
      "  9.04000e+01 2.83400e+00 4.00000e+00 3.04000e+02 1.84000e+01 3.96300e+02\n",
      "  1.17200e+01]\n",
      " [6.89900e-02 0.00000e+00 2.56500e+01 0.00000e+00 5.81000e-01 5.87000e+00\n",
      "  6.97000e+01 2.25770e+00 2.00000e+00 1.88000e+02 1.91000e+01 3.89150e+02\n",
      "  1.43700e+01]] \n",
      " y_train前3行数据为： [22.7 19.4 22. ]\n"
     ]
    }
   ],
   "source": [
    "# （2）加载数据集 \n",
    "boston=load_boston()\n",
    "x=boston['data']\n",
    "y=boston['target']\n",
    "names=boston['feature_names']\n",
    "# 分割数据为训练集和测试集\n",
    "x_train,x_test,y_train,y_test=train_test_split(x,y,test_size=0.2,random_state=22)\n",
    "print('x_train前3行数据为：', x_train[0:3],'\\n', 'y_train前3行数据为：',y_train[0:3])"
   ]
  },
  {
   "cell_type": "markdown",
   "metadata": {
    "nteract": {
     "transient": {
      "deleting": false
     }
    }
   },
   "source": [
    "#### （3）创建线性回归模型对象并训练模型\n",
    "&emsp;&emsp;语句lr=LinearRegression()，实例化线性回归对象。\n",
    "\n",
    "&emsp;&emsp;语句lr.fit(x\\_train,y\\_train)，使用训练集训练模型。\n",
    "\n",
    "&emsp;&emsp;语句print(lr)与语句print(lr.coef\\_)及语句print(lr.intercept_)，分别输出与模型及13个特征的系数以及截距。"
   ]
  },
  {
   "cell_type": "code",
   "execution_count": 10,
   "metadata": {
    "execution": {
     "iopub.execute_input": "2021-01-28T19:39:01.131Z",
     "iopub.status.busy": "2021-01-28T19:39:01.110Z",
     "iopub.status.idle": "2021-01-28T19:39:01.153Z",
     "shell.execute_reply": "2021-01-28T19:39:01.163Z"
    },
    "jupyter": {
     "outputs_hidden": false,
     "source_hidden": false
    },
    "nteract": {
     "transient": {
      "deleting": false
     }
    }
   },
   "outputs": [
    {
     "name": "stdout",
     "output_type": "stream",
     "text": [
      "LinearRegression()\n",
      "[-1.01199845e-01  4.67962110e-02 -2.06902678e-02  3.58072311e+00\n",
      " -1.71288922e+01  3.92207267e+00 -5.67997339e-03 -1.54862273e+00\n",
      "  2.97156958e-01 -1.00709587e-02 -7.78761318e-01  9.87125185e-03\n",
      " -5.25319199e-01]\n",
      "32.42825286699149\n"
     ]
    }
   ],
   "source": [
    "# （3）创建线性回归模型对象\n",
    "lr=LinearRegression()\n",
    "#使用训练集训练模型\n",
    "lr.fit(x_train,y_train)\n",
    "#显示模型\n",
    "print(lr)\n",
    "#显示模型13个系数\n",
    "print(lr.coef_)\n",
    "#显示模型截距\n",
    "print(lr.intercept_ )"
   ]
  },
  {
   "cell_type": "markdown",
   "metadata": {
    "nteract": {
     "transient": {
      "deleting": false
     }
    }
   },
   "source": [
    "#### （4）使用测试集实现预测\n",
    "&emsp;&emsp;语句print(lr.predict(x_test\\[:5]))，基于测试集中的前5个样本进行预测，输出前5个预测值。"
   ]
  },
  {
   "cell_type": "code",
   "execution_count": 11,
   "metadata": {
    "execution": {
     "iopub.execute_input": "2021-01-28T19:39:14.018Z",
     "iopub.status.busy": "2021-01-28T19:39:14.006Z",
     "iopub.status.idle": "2021-01-28T19:39:14.046Z",
     "shell.execute_reply": "2021-01-28T19:39:14.053Z"
    },
    "jupyter": {
     "outputs_hidden": false,
     "source_hidden": false
    },
    "nteract": {
     "transient": {
      "deleting": false
     }
    }
   },
   "outputs": [
    {
     "name": "stdout",
     "output_type": "stream",
     "text": [
      "[27.99617259 31.37458822 21.16274236 32.97684211 19.85350998]\n"
     ]
    }
   ],
   "source": [
    "# （4）使用测试集获取预测结果\n",
    "print(lr.predict(x_test[:5]))"
   ]
  },
  {
   "cell_type": "markdown",
   "metadata": {
    "nteract": {
     "transient": {
      "deleting": false
     }
    }
   },
   "source": [
    "#### （5）模型评估\n",
    "&emsp;&emsp;语句print(lr.score(x_test,y_test))，计算并输出决定系数$R^2$。"
   ]
  },
  {
   "cell_type": "code",
   "execution_count": 12,
   "metadata": {
    "execution": {
     "iopub.execute_input": "2021-01-28T19:39:24.408Z",
     "iopub.status.busy": "2021-01-28T19:39:24.389Z",
     "iopub.status.idle": "2021-01-28T19:39:24.449Z",
     "shell.execute_reply": "2021-01-28T19:39:24.477Z"
    },
    "jupyter": {
     "outputs_hidden": false,
     "source_hidden": false
    },
    "nteract": {
     "transient": {
      "deleting": false
     }
    }
   },
   "outputs": [
    {
     "name": "stdout",
     "output_type": "stream",
     "text": [
      "0.7657465943591123\n"
     ]
    }
   ],
   "source": [
    "# （5）模型评估\n",
    "# 计算并输出决定系数R2\n",
    "print(lr.score(x_test,y_test))"
   ]
  },
  {
   "cell_type": "markdown",
   "metadata": {
    "nteract": {
     "transient": {
      "deleting": false
     }
    }
   },
   "source": [
    "#### （6）绘图对比\n",
    "&emsp;&emsp;语句plt.plot(range(y_test.shape\\[0]),y_test,color=\"blue\",linewidth=1.5,linestyle=\"-\")和语句plt.plot(range(y_test.shape\\[0]),y_pred,color=\"red\",linewidth=1.5,linestyle=\"-.\")，使用matplotlib.pyplot对象绘制预测值和真实值对比的折线图。"
   ]
  },
  {
   "cell_type": "code",
   "execution_count": 13,
   "metadata": {
    "execution": {
     "iopub.execute_input": "2021-01-28T19:39:55.903Z",
     "iopub.status.busy": "2021-01-28T19:39:55.890Z",
     "iopub.status.idle": "2021-01-28T19:39:56.207Z",
     "shell.execute_reply": "2021-01-28T19:39:56.331Z"
    },
    "jupyter": {
     "outputs_hidden": false,
     "source_hidden": false
    },
    "nteract": {
     "transient": {
      "deleting": false
     }
    }
   },
   "outputs": [
    {
     "data": {
      "image/png": "[encoded data removed]",
      "text/plain": [
       "<Figure size 720x432 with 1 Axes>"
      ]
     },
     "metadata": {
      "needs_background": "light"
     },
     "output_type": "display_data"
    }
   ],
   "source": [
    "# （6）绘图对比预测值和真实值\n",
    "rcParams['font.sans-serif']='SimHei'\n",
    "fig=plt.figure(figsize=(10,6))\n",
    "y_pred=lr.predict(x_test)\n",
    "plt.plot(range(y_test.shape[0]),y_test,color=\"blue\",linewidth=1.5,linestyle=\"-\")\n",
    "plt.plot(range(y_test.shape[0]),y_pred,color=\"red\",linewidth=1.5,linestyle=\"-.\")\n",
    "plt.legend(['真实值','预测值'])\n",
    "plt.show()"
   ]
  }
 ],
 "metadata": {
  "kernel_info": {
   "name": "python3"
  },
  "kernelspec": {
   "display_name": "Python 3",
   "language": "python",
   "name": "python3"
  },
  "language_info": {
   "codemirror_mode": {
    "name": "ipython",
    "version": 3
   },
   "file_extension": ".py",
   "mimetype": "text/x-python",
   "name": "python",
   "nbconvert_exporter": "python",
   "pygments_lexer": "ipython3",
   "version": "3.8.3"
  },
  "nteract": {
   "version": "0.28.0"
  }
 },
 "nbformat": 4,
 "nbformat_minor": 1
}
