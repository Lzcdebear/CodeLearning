{
 "cells": [
  {
   "cell_type": "markdown",
   "metadata": {},
   "source": [
    "# 实验八（面向对象）作业"
   ]
  },
  {
   "cell_type": "markdown",
   "metadata": {},
   "source": [
    "#### 一、\t请创建一个Circle（圆）类，该类有一个属性：半径r；有一个构造方法，可接收外界传入的参数设置到属性r中；另外定义了４个方法，方法area用于计算面积，方法girth用于计算周长，方法setR用于设置半径r，方法getR用于读取半径r。\n",
    "（π常量可用math.pi。用于测设Circle类的主程序已给出。）"
   ]
  },
  {
   "cell_type": "code",
   "execution_count": 3,
   "metadata": {},
   "outputs": [
    {
     "name": "stdout",
     "output_type": "stream",
     "text": [
      "半径为5.00的圆的周长是：31.42，面积是：78.54\n",
      "\n",
      "半径为8.00的圆的周长是：50.27，面积是：201.06\n",
      "\n"
     ]
    }
   ],
   "source": [
    "import math\n",
    "class Circle:\n",
    "#你的代码\n",
    "\n",
    "\n",
    "\n",
    "\n",
    "#主程序\n",
    "r = 5.0;\n",
    "cc = Circle(r);\n",
    "print(\"半径为%.2f的圆的周长是：%.2f，面积是：%.2f\\n\"%(r,cc.girth(),cc.area()));\n",
    "cc.setR(8.0);\n",
    "print(\"半径为%.2f的圆的周长是：%.2f，面积是：%.2f\\n\"%(cc.getR(),cc.girth(),cc.area()));"
   ]
  },
  {
   "cell_type": "markdown",
   "metadata": {},
   "source": [
    "#### 二、\t请定义Employee类和其子类Manager类。Employee类包含三个属性：雇员姓名（name），年龄（age），业绩评等（grade），业绩评等从高到低为A,B,C,D四等。Manager类继承Employee类，并定义了两个新属性：department代表该 Manager所管辖部门（字符串类型），subm代表该Manager管理的所有Employee（列表类型）。主程序已给出。"
   ]
  },
  {
   "cell_type": "code",
   "execution_count": 4,
   "metadata": {},
   "outputs": [
    {
     "name": "stdout",
     "output_type": "stream",
     "text": [
      "经理姓名为王五，年龄为42，业绩评等为A，所管理部门为财务部\n",
      "下属雇员有： 张三,李四,"
     ]
    }
   ],
   "source": [
    "class Employee:\n",
    "    #类体\n",
    "    \n",
    "    \n",
    "class Manager(Employee):\n",
    "    #类体\n",
    "\n",
    "    \n",
    "person1 = Employee(\"张三\",35,'A')\n",
    "person2 = Employee(\"李四\",28,'B')\n",
    "manager1 = Manager(\"王五\",42,'A',\"财务部\",[person1,person2])\n",
    "print(\"经理姓名为%s，年龄为%d，业绩评等为%s，所管理部门为%s\"%(manager1.name,manager1.age,manager1.grade,manager1.department))\n",
    "print(\"下属雇员有：\",end=\" \")\n",
    "for i in range(len(manager1.subm)):\n",
    "    print(manager1.subm[i].name,end=\",\")"
   ]
  },
  {
   "cell_type": "markdown",
   "metadata": {},
   "source": [
    "#### 三．请完成下列程序中的划线部分，使程序能够输出正确的结果。"
   ]
  },
  {
   "cell_type": "code",
   "execution_count": 1,
   "metadata": {},
   "outputs": [
    {
     "data": {
      "text/html": [
       "<div>\n",
       "<style scoped>\n",
       "    .dataframe tbody tr th:only-of-type {\n",
       "        vertical-align: middle;\n",
       "    }\n",
       "\n",
       "    .dataframe tbody tr th {\n",
       "        vertical-align: top;\n",
       "    }\n",
       "\n",
       "    .dataframe thead th {\n",
       "        text-align: right;\n",
       "    }\n",
       "</style>\n",
       "<table border=\"1\" class=\"dataframe\">\n",
       "  <thead>\n",
       "    <tr style=\"text-align: right;\">\n",
       "      <th></th>\n",
       "      <th>公司</th>\n",
       "      <th>第一季度</th>\n",
       "      <th>第二季度</th>\n",
       "      <th>第三季度</th>\n",
       "      <th>第四季度</th>\n",
       "    </tr>\n",
       "  </thead>\n",
       "  <tbody>\n",
       "    <tr>\n",
       "      <th>1</th>\n",
       "      <td>Apple</td>\n",
       "      <td>51.9</td>\n",
       "      <td>57.9</td>\n",
       "      <td>48.7</td>\n",
       "      <td>50.4</td>\n",
       "    </tr>\n",
       "    <tr>\n",
       "      <th>2</th>\n",
       "      <td>Samsung</td>\n",
       "      <td>69.7</td>\n",
       "      <td>64.6</td>\n",
       "      <td>41.7</td>\n",
       "      <td>51.7</td>\n",
       "    </tr>\n",
       "    <tr>\n",
       "      <th>3</th>\n",
       "      <td>Huawei</td>\n",
       "      <td>31.7</td>\n",
       "      <td>58.6</td>\n",
       "      <td>59.2</td>\n",
       "      <td>47.9</td>\n",
       "    </tr>\n",
       "    <tr>\n",
       "      <th>4</th>\n",
       "      <td>Mi</td>\n",
       "      <td>41.7</td>\n",
       "      <td>38.6</td>\n",
       "      <td>58.0</td>\n",
       "      <td>58.9</td>\n",
       "    </tr>\n",
       "    <tr>\n",
       "      <th>5</th>\n",
       "      <td>OPPO</td>\n",
       "      <td>69.8</td>\n",
       "      <td>31.1</td>\n",
       "      <td>58.7</td>\n",
       "      <td>30.4</td>\n",
       "    </tr>\n",
       "  </tbody>\n",
       "</table>\n",
       "</div>"
      ],
      "text/plain": [
       "        公司  第一季度  第二季度  第三季度  第四季度\n",
       "1    Apple  51.9  57.9  48.7  50.4\n",
       "2  Samsung  69.7  64.6  41.7  51.7\n",
       "3   Huawei  31.7  58.6  59.2  47.9\n",
       "4       Mi  41.7  38.6  58.0  58.9\n",
       "5     OPPO  69.8  31.1  58.7  30.4"
      ]
     },
     "execution_count": 1,
     "metadata": {},
     "output_type": "execute_result"
    }
   ],
   "source": [
    "import pandas as pd\n",
    "import numpy as np\n",
    "title = [\"公司\",\"第一季度\",\"第二季度\",\"第三季度\",\"第四季度\"]\n",
    "recs = [[\"Apple\",51.9,57.9,48.7,50.4],[\"Samsung\",69.7,64.6,41.7,51.7], \\\n",
    "[\"Huawei\",31.7,58.6,59.2,47.9], [\"Mi\",41.7,38.6,58.0,58.9],[\"OPPO\",69.8,31.1,58.7,30.4]]\n",
    "phone =  pd.DataFrame(recs,index=range(1,6),columns=title)\n",
    "phone"
   ]
  },
  {
   "cell_type": "code",
   "execution_count": 2,
   "metadata": {},
   "outputs": [
    {
     "name": "stdout",
     "output_type": "stream",
     "text": [
      "DataFrame:\n",
      "         公司  第一季度  第二季度  第三季度  第四季度\n",
      "1    Apple  51.9  57.9  48.7  50.4\n",
      "2  Samsung  69.7  64.6  41.7  51.7\n",
      "3   Huawei  31.7  58.6  59.2  47.9\n",
      "4       Mi  41.7  38.6  58.0  58.9\n",
      "5     OPPO  69.8  31.1  58.7  30.4\n",
      "Index:\n",
      " RangeIndex(start=1, stop=6, step=1)\n",
      "Columns:\n",
      " Index(['公司', '第一季度', '第二季度', '第三季度', '第四季度'], dtype='object')\n",
      "Values:\n",
      " [['Apple' 51.9 57.9 48.7 50.4]\n",
      " ['Samsung' 69.7 64.6 41.7 51.7]\n",
      " ['Huawei' 31.7 58.6 59.2 47.9]\n",
      " ['Mi' 41.7 38.6 58.0 58.9]\n",
      " ['OPPO' 69.8 31.1 58.7 30.4]]\n",
      "公司:\n",
      " 1      Apple\n",
      "2    Samsung\n",
      "3     Huawei\n",
      "4         Mi\n",
      "5       OPPO\n",
      "Name: 公司, dtype: object\n",
      "Samsung公司第四季度的手机出货量:\n",
      "    第四季度\n",
      "2  51.7\n"
     ]
    }
   ],
   "source": [
    "print(\"DataFrame:\\n\", _____________)   #输出DataFrame对象\n",
    "print(\"Index:\\n\",___________)   #输出DataFrame对象的index属性\n",
    "print(\"Columns:\\n\",__________)  #输出DataFrame对象的columns属性\n",
    "print(\"Values:\\n\",____________)   #输出DataFrame对象的values属性\n",
    "print(\"公司:\\n\",_____________)  #以面向对象方式输出DataFrame对象的‘公司’列\n",
    "print(\"Samsung公司第四季度的手机出货量:\\n\",_________________)    #输出Samsung公司第四季度的手机出货量"
   ]
  },
  {
   "cell_type": "markdown",
   "metadata": {},
   "source": [
    "#### 四. 面向对象编程综合题"
   ]
  },
  {
   "cell_type": "markdown",
   "metadata": {},
   "source": [
    "（1）请定义student类，包含三个属性：stu_no（学号）、math（数学成绩）和chinese（语文成绩）；有对应的getStuNo()、getMath()和getChinese()方法获取对应的属性并返回；有一个构造方法用于从外界接收三个参数并设置到三个属性中；另外还有一个avg_score()方法计算该学生语文、数学两门课的平均分（保留1位小数）并返回。"
   ]
  },
  {
   "cell_type": "code",
   "execution_count": 1,
   "metadata": {},
   "outputs": [],
   "source": [
    "class student:  #类student\n",
    "    def __init__(__________________):  #构造方法    ###\n",
    "        ______________    ###\n",
    "        ______________    ###\n",
    "        ______________    ###\n",
    "    def getStuNo(self):  #方法：返回学号\n",
    "        return self.stu_no\n",
    "    def getMath(self):  #方法：返回数学分\n",
    "        return self.math\n",
    "    def getChinese(self):  #方法：返回语文分\n",
    "        return self.chinese\n",
    "    def avg_score(self):  #方法：返回平均分\n",
    "        return ______________________       ###"
   ]
  },
  {
   "cell_type": "markdown",
   "metadata": {},
   "source": [
    "（2）读入文本文件stu_score.txt，该文件存放着某班学生的学号、数学课成绩和语文课成绩。请将文件中的学生信息导入已经定义好的student类的对象的列表。"
   ]
  },
  {
   "cell_type": "code",
   "execution_count": 2,
   "metadata": {},
   "outputs": [
    {
     "data": {
      "text/html": [
       "<div>\n",
       "<style scoped>\n",
       "    .dataframe tbody tr th:only-of-type {\n",
       "        vertical-align: middle;\n",
       "    }\n",
       "\n",
       "    .dataframe tbody tr th {\n",
       "        vertical-align: top;\n",
       "    }\n",
       "\n",
       "    .dataframe thead th {\n",
       "        text-align: right;\n",
       "    }\n",
       "</style>\n",
       "<table border=\"1\" class=\"dataframe\">\n",
       "  <thead>\n",
       "    <tr style=\"text-align: right;\">\n",
       "      <th></th>\n",
       "      <th>学号</th>\n",
       "      <th>数学成绩</th>\n",
       "      <th>语文成绩</th>\n",
       "    </tr>\n",
       "  </thead>\n",
       "  <tbody>\n",
       "    <tr>\n",
       "      <th>0</th>\n",
       "      <td>10101611101</td>\n",
       "      <td>75</td>\n",
       "      <td>69</td>\n",
       "    </tr>\n",
       "    <tr>\n",
       "      <th>1</th>\n",
       "      <td>10101611102</td>\n",
       "      <td>52</td>\n",
       "      <td>45</td>\n",
       "    </tr>\n",
       "    <tr>\n",
       "      <th>2</th>\n",
       "      <td>10101611103</td>\n",
       "      <td>81</td>\n",
       "      <td>76</td>\n",
       "    </tr>\n",
       "    <tr>\n",
       "      <th>3</th>\n",
       "      <td>10101611104</td>\n",
       "      <td>77</td>\n",
       "      <td>71</td>\n",
       "    </tr>\n",
       "    <tr>\n",
       "      <th>4</th>\n",
       "      <td>10101611105</td>\n",
       "      <td>78</td>\n",
       "      <td>73</td>\n",
       "    </tr>\n",
       "    <tr>\n",
       "      <th>5</th>\n",
       "      <td>10101611106</td>\n",
       "      <td>76</td>\n",
       "      <td>80</td>\n",
       "    </tr>\n",
       "    <tr>\n",
       "      <th>6</th>\n",
       "      <td>10101611107</td>\n",
       "      <td>65</td>\n",
       "      <td>69</td>\n",
       "    </tr>\n",
       "    <tr>\n",
       "      <th>7</th>\n",
       "      <td>10101611108</td>\n",
       "      <td>74</td>\n",
       "      <td>50</td>\n",
       "    </tr>\n",
       "    <tr>\n",
       "      <th>8</th>\n",
       "      <td>10101611109</td>\n",
       "      <td>80</td>\n",
       "      <td>28</td>\n",
       "    </tr>\n",
       "    <tr>\n",
       "      <th>9</th>\n",
       "      <td>10101611110</td>\n",
       "      <td>80</td>\n",
       "      <td>60</td>\n",
       "    </tr>\n",
       "    <tr>\n",
       "      <th>10</th>\n",
       "      <td>10101611111</td>\n",
       "      <td>96</td>\n",
       "      <td>90</td>\n",
       "    </tr>\n",
       "    <tr>\n",
       "      <th>11</th>\n",
       "      <td>10101611112</td>\n",
       "      <td>67</td>\n",
       "      <td>85</td>\n",
       "    </tr>\n",
       "    <tr>\n",
       "      <th>12</th>\n",
       "      <td>10101611113</td>\n",
       "      <td>78</td>\n",
       "      <td>93</td>\n",
       "    </tr>\n",
       "    <tr>\n",
       "      <th>13</th>\n",
       "      <td>10101611114</td>\n",
       "      <td>71</td>\n",
       "      <td>61</td>\n",
       "    </tr>\n",
       "    <tr>\n",
       "      <th>14</th>\n",
       "      <td>10101611115</td>\n",
       "      <td>91</td>\n",
       "      <td>90</td>\n",
       "    </tr>\n",
       "    <tr>\n",
       "      <th>15</th>\n",
       "      <td>10101611116</td>\n",
       "      <td>75</td>\n",
       "      <td>75</td>\n",
       "    </tr>\n",
       "    <tr>\n",
       "      <th>16</th>\n",
       "      <td>10101611117</td>\n",
       "      <td>81</td>\n",
       "      <td>71</td>\n",
       "    </tr>\n",
       "    <tr>\n",
       "      <th>17</th>\n",
       "      <td>10101611118</td>\n",
       "      <td>77</td>\n",
       "      <td>90</td>\n",
       "    </tr>\n",
       "    <tr>\n",
       "      <th>18</th>\n",
       "      <td>10101611119</td>\n",
       "      <td>63</td>\n",
       "      <td>80</td>\n",
       "    </tr>\n",
       "    <tr>\n",
       "      <th>19</th>\n",
       "      <td>10101611120</td>\n",
       "      <td>64</td>\n",
       "      <td>96</td>\n",
       "    </tr>\n",
       "    <tr>\n",
       "      <th>20</th>\n",
       "      <td>10101611121</td>\n",
       "      <td>66</td>\n",
       "      <td>93</td>\n",
       "    </tr>\n",
       "    <tr>\n",
       "      <th>21</th>\n",
       "      <td>10101611122</td>\n",
       "      <td>68</td>\n",
       "      <td>95</td>\n",
       "    </tr>\n",
       "  </tbody>\n",
       "</table>\n",
       "</div>"
      ],
      "text/plain": [
       "             学号  数学成绩  语文成绩\n",
       "0   10101611101    75    69\n",
       "1   10101611102    52    45\n",
       "2   10101611103    81    76\n",
       "3   10101611104    77    71\n",
       "4   10101611105    78    73\n",
       "5   10101611106    76    80\n",
       "6   10101611107    65    69\n",
       "7   10101611108    74    50\n",
       "8   10101611109    80    28\n",
       "9   10101611110    80    60\n",
       "10  10101611111    96    90\n",
       "11  10101611112    67    85\n",
       "12  10101611113    78    93\n",
       "13  10101611114    71    61\n",
       "14  10101611115    91    90\n",
       "15  10101611116    75    75\n",
       "16  10101611117    81    71\n",
       "17  10101611118    77    90\n",
       "18  10101611119    63    80\n",
       "19  10101611120    64    96\n",
       "20  10101611121    66    93\n",
       "21  10101611122    68    95"
      ]
     },
     "execution_count": 2,
     "metadata": {},
     "output_type": "execute_result"
    }
   ],
   "source": [
    "import numpy as np\n",
    "import pandas as pd\n",
    "df=pd.read_csv(r'_____________\\stu_score.txt',sep=' ',encoding='UTF-8')  ###\n",
    "df"
   ]
  },
  {
   "cell_type": "code",
   "execution_count": 3,
   "metadata": {},
   "outputs": [],
   "source": [
    "stu_list=[]\n",
    "num=df.shape[0]  #学生人数\n",
    "L1=np.array(df['学号'].values)\n",
    "L2=np.array(df['数学成绩'].values)\n",
    "L3=np.array(df['语文成绩'].values)\n",
    "\n",
    "#构造student类并加入列表stu_list\n",
    "###\n",
    "\n"
   ]
  },
  {
   "cell_type": "markdown",
   "metadata": {},
   "source": [
    "（3）找出两门课的平均分在90分以上的学生，输出他们的学号和各科成绩。"
   ]
  },
  {
   "cell_type": "code",
   "execution_count": 5,
   "metadata": {},
   "outputs": [
    {
     "name": "stdout",
     "output_type": "stream",
     "text": [
      "学号：10101611111，数学成绩：96，语文成绩：90\n",
      "学号：10101611115，数学成绩：91，语文成绩：90\n"
     ]
    }
   ],
   "source": [
    "###\n",
    "\n",
    "\n"
   ]
  }
 ],
 "metadata": {
  "kernelspec": {
   "display_name": "Python 3",
   "language": "python",
   "name": "python3"
  },
  "language_info": {
   "codemirror_mode": {
    "name": "ipython",
    "version": 3
   },
   "file_extension": ".py",
   "mimetype": "text/x-python",
   "name": "python",
   "nbconvert_exporter": "python",
   "pygments_lexer": "ipython3",
   "version": "3.8.3"
  }
 },
 "nbformat": 4,
 "nbformat_minor": 4
}
