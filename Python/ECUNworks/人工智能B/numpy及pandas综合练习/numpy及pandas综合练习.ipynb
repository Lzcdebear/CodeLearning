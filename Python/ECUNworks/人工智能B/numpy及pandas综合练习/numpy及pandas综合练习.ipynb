{
 "cells": [
  {
   "cell_type": "markdown",
   "metadata": {},
   "source": [
    "# numpy和pandas综合练习（作业）"
   ]
  },
  {
   "cell_type": "markdown",
   "metadata": {},
   "source": [
    "第一部分：Numpy"
   ]
  },
  {
   "cell_type": "raw",
   "metadata": {},
   "source": [
    "1. 归一化问题\n",
    "(1)创建一个由10到20（不含）之间的随机整数组成的5*5二维NumPy数组Z；\n",
    "(2)将数组元素归一化到0~1，即最小的变成0，最大的变成1。"
   ]
  },
  {
   "cell_type": "code",
   "execution_count": 1,
   "metadata": {},
   "outputs": [
    {
     "name": "stdout",
     "output_type": "stream",
     "text": [
      "矩阵 Z=\n",
      " [[18 11 15 13 10]\n",
      " [11 15 17 11 11]\n",
      " [15 17 11 13 10]\n",
      " [16 15 13 17 19]\n",
      " [18 15 13 10 19]]\n",
      "归一化后的Z：\n",
      " [[0.88888889 0.11111111 0.55555556 0.33333333 0.        ]\n",
      " [0.11111111 0.55555556 0.77777778 0.11111111 0.11111111]\n",
      " [0.55555556 0.77777778 0.11111111 0.33333333 0.        ]\n",
      " [0.66666667 0.55555556 0.33333333 0.77777778 1.        ]\n",
      " [0.88888889 0.55555556 0.33333333 0.         1.        ]]\n"
     ]
    }
   ],
   "source": [
    "import numpy as np\n",
    "Z = np._________________  #创建一个由10到20之间的随机整数组成的5*5二维NumPy数组Z\n",
    "print(\"矩阵 Z=\\n\", Z)\n",
    "Zmin = Z.________  #取最小值\n",
    "Zmax = Z.________  #取最大值\n",
    "Z = (Z - Zmin) / (Zmax - Zmin)\n",
    "print(\"归一化后的Z：\\n\", Z)"
   ]
  },
  {
   "cell_type": "raw",
   "metadata": {},
   "source": [
    "2. 二维数组的查询\n",
    "(1)创建一个由1~16的整数按顺序组成的一维NumPy数组对象,再变换为4*4二维数组对象arr；\n",
    "(2)使用索引的方式获取arr数组中第二行第一列和第三行第二列的数据；\n",
    "(3)使用切片方式获取arr数组中除了第一列和第一行以外的数据；\n",
    "(4)使用布尔运算方式将arr数组中为奇数的数据都置为零。"
   ]
  },
  {
   "cell_type": "code",
   "execution_count": 2,
   "metadata": {},
   "outputs": [
    {
     "name": "stdout",
     "output_type": "stream",
     "text": [
      "[[ 1.  2.  3.  4.]\n",
      " [ 5.  6.  7.  8.]\n",
      " [ 9. 10. 11. 12.]\n",
      " [13. 14. 15. 16.]]\n",
      "5.0 10.0\n",
      "[[ 6.  7.  8.]\n",
      " [10. 11. 12.]\n",
      " [14. 15. 16.]]\n",
      "[[ 0.  2.  0.  4.]\n",
      " [ 0.  6.  0.  8.]\n",
      " [ 0. 10.  0. 12.]\n",
      " [ 0. 14.  0. 16.]]\n"
     ]
    }
   ],
   "source": [
    "import numpy as np\n",
    "arr = np._________________.reshape(4, 4)    #创建一个由1~16的整数组成的一维NumPy数组对象,再变换为4*4二维数组对象arr\n",
    "print(arr)\n",
    "num_1 = arr[_______]  #获取arr数组中第二行（行位置索引为1）第一列元素（列位置索引为0）\n",
    "num_2 = arr[_______]  ##获取arr数组中第三行第二列元素\n",
    "print(num_1, num_2)\n",
    "arr2 = arr[______________]  #获取arr数组中除了第一列和第一行以外的数据；\n",
    "print(arr2)\n",
    "mask = (_______________)  #使用布尔运算方式找出arr数组中为奇数的数据\n",
    "arr[_________] = 0  #将arr数组中为奇数的数据都置为零\n",
    "print(arr)"
   ]
  },
  {
   "cell_type": "raw",
   "metadata": {},
   "source": [
    "3. 二维数组的统计分析\n",
    "(1)创建20到40（不含）之间均匀分布的4*5二维NumPy数组对象；\n",
    "(2)计算数组中每行的平均值;计算数组中每列的最大值；\n",
    "(3)返回数组中最小值的索引。"
   ]
  },
  {
   "cell_type": "code",
   "execution_count": 3,
   "metadata": {},
   "outputs": [
    {
     "name": "stdout",
     "output_type": "stream",
     "text": [
      "[[37.10107009 35.44080985 37.12194036 28.25104284 28.95777257]\n",
      " [39.11298622 23.82313286 21.39324598 35.51087423 21.7627372 ]\n",
      " [34.53068559 29.30399945 29.2085531  29.52306091 32.21076152]\n",
      " [31.94231065 27.51663931 26.21442091 39.08212609 23.27088909]]\n",
      "[33.37452714 28.3205953  30.95541211 29.60527721]\n",
      "[39.11298622 35.44080985 37.12194036 39.08212609 32.21076152]\n",
      "7\n"
     ]
    }
   ],
   "source": [
    "import numpy as np\n",
    "arr = np.__________________  #创建20到40之间均匀分布的4*5二维NumPy数组对象\n",
    "print(arr)\n",
    "row_mean = arr.______(axis=____)  #计算数组中每行的平均值\n",
    "col_max = arr._______(axis=____)  #计算数组中每列的最大值\n",
    "index_max = arr.__________  #返回数组中最小值的索引\n",
    "print(row_mean)\n",
    "print(col_max)\n",
    "print(index_max)"
   ]
  },
  {
   "cell_type": "markdown",
   "metadata": {},
   "source": [
    "第二部分：Pandas"
   ]
  },
  {
   "cell_type": "raw",
   "metadata": {},
   "source": [
    "1. Series对象的修改\n",
    "(1)创建一个存储了21~30的整数的Series对象，索引值为1~10；\n",
    "(2)将其中小于等于25的元素赋值为0。"
   ]
  },
  {
   "cell_type": "code",
   "execution_count": 4,
   "metadata": {},
   "outputs": [
    {
     "name": "stdout",
     "output_type": "stream",
     "text": [
      "1     21\n",
      "2     22\n",
      "3     23\n",
      "4     24\n",
      "5     25\n",
      "6     26\n",
      "7     27\n",
      "8     28\n",
      "9     29\n",
      "10    30\n",
      "dtype: int32\n",
      "1      0\n",
      "2      0\n",
      "3      0\n",
      "4      0\n",
      "5      0\n",
      "6     26\n",
      "7     27\n",
      "8     28\n",
      "9     29\n",
      "10    30\n",
      "dtype: int32\n"
     ]
    }
   ],
   "source": [
    "import pandas as pd\n",
    "import numpy as np\n",
    "data = np.__________________ #创建一个存储了21~30的整数的一维数组；\n",
    "index = np.arange(1, 11, 1)\n",
    "num = pd.Series(____________________) #创建一个存储了21~30的整数的Series对象，索引值为1~10；\n",
    "print(num)\n",
    "num[_______________] = 0   #将其中小于等于25的元素赋值为0\n",
    "print(num)"
   ]
  },
  {
   "cell_type": "raw",
   "metadata": {},
   "source": [
    "2. DataFrame对象的访问和文件写入\n",
    "(1)创建一个存储了用户记账金额的DataFrame对象，行索引为1月~12月，列索引为‘收入’和‘支出’，元素值为5000~10000的随机数；\n",
    "(2)取出‘支出’列作为新的DataFrame对象；\n",
    "(3)将该数据从新的DataFrame对象写入到CSV文件。"
   ]
  },
  {
   "cell_type": "code",
   "execution_count": 5,
   "metadata": {},
   "outputs": [
    {
     "name": "stdout",
     "output_type": "stream",
     "text": [
      "       收入    支出\n",
      "1月   6866  7558\n",
      "2月   8761  9046\n",
      "3月   6143  5772\n",
      "4月   7445  8184\n",
      "5月   8003  5632\n",
      "6月   7232  6644\n",
      "7月   8547  9745\n",
      "8月   7018  7408\n",
      "9月   5274  7913\n",
      "10月  6744  5964\n",
      "11月  5644  5931\n",
      "12月  6302  6196\n",
      "1月     7558\n",
      "2月     9046\n",
      "3月     5772\n",
      "4月     8184\n",
      "5月     5632\n",
      "6月     6644\n",
      "7月     9745\n",
      "8月     7408\n",
      "9月     7913\n",
      "10月    5964\n",
      "11月    5931\n",
      "12月    6196\n",
      "Name: 支出, dtype: int32\n"
     ]
    }
   ],
   "source": [
    "import pandas as pd\n",
    "import numpy as np\n",
    "month = ['1月', '2月', '3月', '4月', '5月', '6月', '7月', '8月', '9月', '10月', '11月', '12月']\n",
    "money = np._______________________________ #生成尺寸为12*2的二维随机整数数组,元素值为5000~10000的随机数\n",
    "account = pd.DataFrame(________, ___________, columns=['收入', '支出'])  # 创建DataFrame对象\n",
    "print(account)\n",
    "account_new = ________________ #取出‘支出’列作为新的DataFrame对象\n",
    "print(account_new)\n",
    "# 从DataFrame对象写入数据到CSV文件\n",
    "account_new.__________(r'______\\account.csv')  #DataFrame对象写入到CSV文件"
   ]
  },
  {
   "cell_type": "raw",
   "metadata": {},
   "source": [
    "3. DataFrame对象的删改和文件读取\n",
    "(1)读取波士顿房价数据文件Boston_pandas.csv创建DataFrame数据对象；\n",
    "(2)删除行索引为1~3的数据内容；修改 'MEDV' 列的数据内容为15。"
   ]
  },
  {
   "cell_type": "code",
   "execution_count": 6,
   "metadata": {},
   "outputs": [
    {
     "name": "stdout",
     "output_type": "stream",
     "text": [
      "      CRIM    NOX     RM   AGE  LSTAT  MEDV\n",
      "0  0.08829  0.524  6.012  66.6  12.43  22.9\n",
      "1  0.14455    NaN  6.172  96.1  19.15  27.1\n",
      "2  0.21124  0.524    NaN   NaN  29.93  16.5\n",
      "3  0.17004    NaN  6.004  85.9  17.10  18.9\n",
      "4  0.22489  0.524  6.377  94.3  20.45  15.0\n",
      "5  0.22489  0.524  6.377  94.3  20.45  15.0\n",
      "      CRIM    NOX     RM   AGE  LSTAT  MEDV\n",
      "0  0.08829  0.524  6.012  66.6  12.43  22.9\n",
      "4  0.22489  0.524  6.377  94.3  20.45  15.0\n",
      "5  0.22489  0.524  6.377  94.3  20.45  15.0\n",
      "      CRIM    NOX     RM   AGE  LSTAT  MEDV\n",
      "0  0.08829  0.524  6.012  66.6  12.43    15\n",
      "4  0.22489  0.524  6.377  94.3  20.45    15\n",
      "5  0.22489  0.524  6.377  94.3  20.45    15\n"
     ]
    }
   ],
   "source": [
    "import pandas as pd\n",
    "# 从CSV文件读取数据到DataFrame对象\n",
    "boston = pd._______________(r'__________\\Boston_pandas.csv')  #\n",
    "print(boston)\n",
    "# 删除行索引值为1、2和3的元素\n",
    "boston = boston.______([1, 2, 3], axis=____)  #\n",
    "print(boston)\n",
    "# 修改 'MEDV' 列的数据内容为15\n",
    "boston[________] = 15   #\n",
    "print(boston)"
   ]
  }
 ],
 "metadata": {
  "kernelspec": {
   "display_name": "Python 3",
   "language": "python",
   "name": "python3"
  },
  "language_info": {
   "codemirror_mode": {
    "name": "ipython",
    "version": 3
   },
   "file_extension": ".py",
   "mimetype": "text/x-python",
   "name": "python",
   "nbconvert_exporter": "python",
   "pygments_lexer": "ipython3",
   "version": "3.8.3"
  }
 },
 "nbformat": 4,
 "nbformat_minor": 4
}
