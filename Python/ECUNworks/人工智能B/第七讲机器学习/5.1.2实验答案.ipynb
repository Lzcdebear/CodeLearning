{
 "cells": [
  {
   "cell_type": "markdown",
   "metadata": {
    "nteract": {
     "transient": {
      "deleting": false
     }
    }
   },
   "source": [
    "## 5.1.2 scikit-learn简介\n",
    "&emsp;&emsp;scikit-learn，又写作sklearn，是一个开源的基于Python语言的机器学习工具包，它实现了高效的算法应用，并且涵盖了几乎所有主流机器学习算法。sklearn中常用的模块有分类、回归、聚类、降维、模型选择、预处理等，具体可以参考官方网站（http://scikit-learn.org/stable/)。\n",
    "\n",
    "### 1. sklearn内置数据集\n",
    "\n",
    "&emsp;&emsp;sklearn中内置了多种数据集，只需调用对应的数据导入方法，即可完成数据的加载。这些数据导入方法的命名规则是：**sklearn.datasets.load_<name\\>**，这里的<name\\>就是对应的数据集名称。sklearn内置的数据集如表5-1-1所示。\n",
    "\n",
    "<center>表5-1-1 sklearn内置数据集</center>\n",
    "\n",
    "<style>table {margin: auto;}</style>\n",
    "|导入数据的函数名称|对应的数据集|\n",
    "|:-:|:-:|\n",
    "|load_boston()|波士顿房价数据集|\n",
    "|load_breast_cancer()|乳腺癌数据集|\n",
    "|load_iris()|鸢尾花数据集|\n",
    "|load_diabetes()|糖尿病数据集|\n",
    "|load_digits()|手写数字数据集|\n",
    "|load_linnerud()|体能训练数据集|\n",
    "|load_wine()|红酒品类数据集|\n",
    "<br>\n",
    "\n",
    "&emsp;&emsp;**例5-1-1** 导入sklearn内置boston数据集并打印其前5行5列数据。"
   ]
  },
  {
   "cell_type": "code",
   "execution_count": 1,
   "metadata": {
    "execution": {
     "iopub.execute_input": "2021-01-23T13:05:37.044Z",
     "iopub.status.busy": "2021-01-23T13:05:37.033Z",
     "iopub.status.idle": "2021-01-23T13:05:38.367Z",
     "shell.execute_reply": "2021-01-23T13:05:38.359Z"
    },
    "jupyter": {
     "outputs_hidden": false,
     "source_hidden": false
    },
    "nteract": {
     "transient": {
      "deleting": false
     }
    }
   },
   "outputs": [],
   "source": [
    "# 导入scikit-learn库中的load_boston函数\n",
    "from sklearn.datasets import load_boston"
   ]
  },
  {
   "cell_type": "code",
   "execution_count": 2,
   "metadata": {
    "execution": {
     "iopub.execute_input": "2021-01-23T13:05:40.691Z",
     "iopub.status.busy": "2021-01-23T13:05:40.680Z",
     "iopub.status.idle": "2021-01-23T13:05:40.715Z",
     "shell.execute_reply": "2021-01-23T13:05:40.720Z"
    },
    "jupyter": {
     "outputs_hidden": false,
     "source_hidden": false
    },
    "nteract": {
     "transient": {
      "deleting": false
     }
    }
   },
   "outputs": [
    {
     "name": "stdout",
     "output_type": "stream",
     "text": [
      "[[6.320e-03 1.800e+01 2.310e+00 0.000e+00 5.380e-01]\n",
      " [2.731e-02 0.000e+00 7.070e+00 0.000e+00 4.690e-01]\n",
      " [2.729e-02 0.000e+00 7.070e+00 0.000e+00 4.690e-01]\n",
      " [3.237e-02 0.000e+00 2.180e+00 0.000e+00 4.580e-01]\n",
      " [6.905e-02 0.000e+00 2.180e+00 0.000e+00 4.580e-01]]\n"
     ]
    }
   ],
   "source": [
    "# 导入数据集\n",
    "boston = load_boston()\n",
    "X = boston.data[:5, :5]\n",
    "print(X)"
   ]
  },
  {
   "cell_type": "markdown",
   "metadata": {
    "nteract": {
     "transient": {
      "deleting": false
     }
    }
   },
   "source": [
    "### 2. 数据的归一化\n",
    "\n",
    "&emsp;&emsp;同一数据集中，不同列的数据往往有着完全不同的含义，数值大小差异很大，可能会影响数据处理的最终结果，因此常常需要把每列数据都映射到0-1范围之内处理，即归一化。scikit-learn库提供了对数据进行归一化的处理，其中preprocessing.MinMaxScaler类实现了将数据缩放到一个指定的最大值和最小值（通常是1-0）之间的功能。它又被称为离差标准化，是对原始数据的线性变换。\n",
    "\n",
    "&emsp;&emsp;MinMaxScaler类的fit_transform()函数用于把转换器实例应用到数据上，并返回转换后的数据，其格式如下：fit_transform(X,...)，其中，X可以表示数组、稀疏矩阵或DataFrame。\n",
    "\n",
    "&emsp;&emsp;**例5-1-2** 对boston数据集的前5行5列数据进行归一化并打印显示。"
   ]
  },
  {
   "cell_type": "code",
   "execution_count": 3,
   "metadata": {
    "execution": {
     "iopub.execute_input": "2021-01-23T13:31:33.177Z",
     "iopub.status.busy": "2021-01-23T13:31:33.149Z",
     "iopub.status.idle": "2021-01-23T13:31:34.670Z",
     "shell.execute_reply": "2021-01-23T13:31:34.660Z"
    },
    "jupyter": {
     "outputs_hidden": false,
     "source_hidden": false
    },
    "nteract": {
     "transient": {
      "deleting": false
     }
    }
   },
   "outputs": [],
   "source": [
    "# 导入库\n",
    "from sklearn.datasets import load_boston\n",
    "from sklearn.preprocessing import MinMaxScaler"
   ]
  },
  {
   "cell_type": "code",
   "execution_count": 4,
   "metadata": {
    "execution": {
     "iopub.execute_input": "2021-01-23T13:31:38.163Z",
     "iopub.status.busy": "2021-01-23T13:31:38.159Z",
     "iopub.status.idle": "2021-01-23T13:31:38.171Z",
     "shell.execute_reply": "2021-01-23T13:31:38.177Z"
    },
    "jupyter": {
     "outputs_hidden": false,
     "source_hidden": false
    },
    "nteract": {
     "transient": {
      "deleting": false
     }
    }
   },
   "outputs": [],
   "source": [
    "# 导入数据集\n",
    "boston = load_boston()\n",
    "X = boston.data[:5, :5]"
   ]
  },
  {
   "cell_type": "code",
   "execution_count": 5,
   "metadata": {
    "execution": {
     "iopub.execute_input": "2021-01-23T13:31:48.170Z",
     "iopub.status.busy": "2021-01-23T13:31:48.160Z",
     "iopub.status.idle": "2021-01-23T13:31:48.181Z",
     "shell.execute_reply": "2021-01-23T13:31:48.189Z"
    },
    "jupyter": {
     "outputs_hidden": false,
     "source_hidden": false
    },
    "nteract": {
     "transient": {
      "deleting": false
     }
    }
   },
   "outputs": [],
   "source": [
    "# 转换器实例化\n",
    "minmax_scaler = MinMaxScaler()"
   ]
  },
  {
   "cell_type": "code",
   "execution_count": 6,
   "metadata": {
    "execution": {
     "iopub.execute_input": "2021-01-23T13:31:57.567Z",
     "iopub.status.busy": "2021-01-23T13:31:57.556Z",
     "iopub.status.idle": "2021-01-23T13:31:57.584Z",
     "shell.execute_reply": "2021-01-23T13:31:57.594Z"
    },
    "jupyter": {
     "outputs_hidden": false,
     "source_hidden": false
    },
    "nteract": {
     "transient": {
      "deleting": false
     }
    }
   },
   "outputs": [
    {
     "name": "stdout",
     "output_type": "stream",
     "text": [
      "[[0.         1.         0.02658487 0.         1.        ]\n",
      " [0.33460864 0.         1.         0.         0.1375    ]\n",
      " [0.33428981 0.         1.         0.         0.1375    ]\n",
      " [0.4152718  0.         0.         0.         0.        ]\n",
      " [1.         0.         0.         0.         0.        ]]\n"
     ]
    }
   ],
   "source": [
    "# 数据归一化\n",
    "boston_minmax = minmax_scaler.fit_transform(X)\n",
    "print(boston_minmax)"
   ]
  },
  {
   "cell_type": "markdown",
   "metadata": {
    "nteract": {
     "transient": {
      "deleting": false
     }
    }
   },
   "source": [
    "### 3. 数据的标准化\n",
    "\n",
    "&emsp;&emsp;scikit-learn库提供了对数据进行标准化处理的函数，包括Z-score标准化、稀疏数据标准化和带离群值的标准化。其中，Z-Score方法可以在大多数类型的数据上得到较好的应用，标准化后得到的数据是以0为均值，1为方差的正态分布。但由于它是一种中心化的方法，将会对原始数据的分布结构产生改变。scikit-learn库中preprocessing.StandardScaler类实现了Z-Score标准化。\n",
    "\n",
    "&emsp;&emsp;**例5-1-3** 对boston数据集的前5行5列数据进行Z-Score标准化并打印显示。"
   ]
  },
  {
   "cell_type": "code",
   "execution_count": 7,
   "metadata": {
    "execution": {
     "iopub.execute_input": "2021-01-24T14:58:46.396Z",
     "iopub.status.busy": "2021-01-24T14:58:46.384Z",
     "iopub.status.idle": "2021-01-24T14:58:48.022Z",
     "shell.execute_reply": "2021-01-24T14:58:48.080Z"
    },
    "jupyter": {
     "outputs_hidden": false,
     "source_hidden": false
    },
    "nteract": {
     "transient": {
      "deleting": false
     }
    }
   },
   "outputs": [],
   "source": [
    "# 导入库\n",
    "from sklearn.datasets import load_boston\n",
    "from sklearn.preprocessing import StandardScaler"
   ]
  },
  {
   "cell_type": "code",
   "execution_count": 8,
   "metadata": {
    "execution": {
     "iopub.execute_input": "2021-01-24T14:58:48.042Z",
     "iopub.status.busy": "2021-01-24T14:58:48.033Z",
     "iopub.status.idle": "2021-01-24T14:58:48.073Z",
     "shell.execute_reply": "2021-01-24T14:58:48.083Z"
    },
    "jupyter": {
     "outputs_hidden": false,
     "source_hidden": false
    },
    "nteract": {
     "transient": {
      "deleting": false
     }
    }
   },
   "outputs": [],
   "source": [
    "# 导入数据集\n",
    "boston = load_boston()\n",
    "X = boston.data[:5, :5]"
   ]
  },
  {
   "cell_type": "code",
   "execution_count": 9,
   "metadata": {
    "execution": {
     "iopub.execute_input": "2021-01-24T14:58:54.244Z",
     "iopub.status.busy": "2021-01-24T14:58:54.237Z",
     "iopub.status.idle": "2021-01-24T14:58:54.258Z",
     "shell.execute_reply": "2021-01-24T14:58:54.269Z"
    },
    "jupyter": {
     "outputs_hidden": false,
     "source_hidden": false
    },
    "nteract": {
     "transient": {
      "deleting": false
     }
    }
   },
   "outputs": [],
   "source": [
    "# 转换器实例化\n",
    "standerd_scaler = StandardScaler()"
   ]
  },
  {
   "cell_type": "code",
   "execution_count": 10,
   "metadata": {
    "execution": {
     "iopub.execute_input": "2021-01-24T14:59:03.242Z",
     "iopub.status.busy": "2021-01-24T14:59:03.228Z",
     "iopub.status.idle": "2021-01-24T14:59:03.260Z",
     "shell.execute_reply": "2021-01-24T14:59:03.273Z"
    },
    "jupyter": {
     "outputs_hidden": false,
     "source_hidden": false
    },
    "nteract": {
     "transient": {
      "deleting": false
     }
    }
   },
   "outputs": [
    {
     "name": "stdout",
     "output_type": "stream",
     "text": [
      "[[-1.2834352   2.         -0.77983987  0.          1.97329359]\n",
      " [-0.25317266 -0.5         1.22450018  0.         -0.31122416]\n",
      " [-0.25415433 -0.5         1.22450018  0.         -0.31122416]\n",
      " [-0.00481018 -0.5        -0.83458025  0.         -0.67542264]\n",
      " [ 1.79557237 -0.5        -0.83458025  0.         -0.67542264]]\n"
     ]
    }
   ],
   "source": [
    "# 数据标准化\n",
    "boston_standerd = standerd_scaler.fit_transform(X)\n",
    "print(boston_standerd)"
   ]
  },
  {
   "cell_type": "markdown",
   "metadata": {
    "nteract": {
     "transient": {
      "deleting": false
     }
    }
   },
   "source": [
    "### 4. 数据的正则化\n",
    "\n",
    "&emsp;&emsp;scikit-learn库提供了对数据进行正则化处理的函数，其中preprocessing.Normalizer类实现了将单个样本缩放到单位范数的功能。在数据集之间各个指标有共同重要比率的关系时，正则化处理有比较好的效果。\n",
    "\n",
    "&emsp;&emsp;**例5-1-4** 对boston数据集的前5行5列数据进行正则化并打印显示。"
   ]
  },
  {
   "cell_type": "code",
   "execution_count": 11,
   "metadata": {
    "execution": {
     "iopub.execute_input": "2021-01-23T13:35:43.317Z",
     "iopub.status.busy": "2021-01-23T13:35:43.304Z",
     "iopub.status.idle": "2021-01-23T13:35:45.141Z",
     "shell.execute_reply": "2021-01-23T13:35:45.182Z"
    },
    "jupyter": {
     "outputs_hidden": false,
     "source_hidden": false
    },
    "nteract": {
     "transient": {
      "deleting": false
     }
    }
   },
   "outputs": [],
   "source": [
    "# 导入库\n",
    "from sklearn.datasets import load_boston\n",
    "from sklearn.preprocessing import Normalizer"
   ]
  },
  {
   "cell_type": "code",
   "execution_count": 12,
   "metadata": {
    "execution": {
     "iopub.execute_input": "2021-01-23T13:35:45.154Z",
     "iopub.status.busy": "2021-01-23T13:35:45.148Z",
     "iopub.status.idle": "2021-01-23T13:35:45.169Z",
     "shell.execute_reply": "2021-01-23T13:35:45.188Z"
    },
    "jupyter": {
     "outputs_hidden": false,
     "source_hidden": false
    },
    "nteract": {
     "transient": {
      "deleting": false
     }
    }
   },
   "outputs": [],
   "source": [
    "# 导入数据集\n",
    "boston = load_boston()\n",
    "X = boston.data[:5, :5]"
   ]
  },
  {
   "cell_type": "code",
   "execution_count": 13,
   "metadata": {
    "execution": {
     "iopub.execute_input": "2021-01-23T13:35:49.072Z",
     "iopub.status.busy": "2021-01-23T13:35:49.065Z",
     "iopub.status.idle": "2021-01-23T13:35:49.083Z",
     "shell.execute_reply": "2021-01-23T13:35:49.089Z"
    },
    "jupyter": {
     "outputs_hidden": false,
     "source_hidden": false
    },
    "nteract": {
     "transient": {
      "deleting": false
     }
    }
   },
   "outputs": [],
   "source": [
    "# 转换器实例化\n",
    "normalizer_scaler = Normalizer()"
   ]
  },
  {
   "cell_type": "code",
   "execution_count": 14,
   "metadata": {
    "execution": {
     "iopub.execute_input": "2021-01-23T13:35:56.409Z",
     "iopub.status.busy": "2021-01-23T13:35:56.402Z",
     "iopub.status.idle": "2021-01-23T13:35:56.423Z",
     "shell.execute_reply": "2021-01-23T13:35:56.443Z"
    },
    "jupyter": {
     "outputs_hidden": false,
     "source_hidden": false
    },
    "nteract": {
     "transient": {
      "deleting": false
     }
    }
   },
   "outputs": [
    {
     "name": "stdout",
     "output_type": "stream",
     "text": [
      "[[3.48102083e-04 9.91429984e-01 1.27233515e-01 0.00000000e+00\n",
      "  2.96327406e-02]\n",
      " [3.85430066e-03 0.00000000e+00 9.97799549e-01 0.00000000e+00\n",
      "  6.61906632e-02]\n",
      " [3.85147808e-03 0.00000000e+00 9.97799560e-01 0.00000000e+00\n",
      "  6.61906639e-02]\n",
      " [1.45298555e-02 0.00000000e+00 9.78532126e-01 0.00000000e+00\n",
      "  2.05581520e-01]\n",
      " [3.09827227e-02 0.00000000e+00 9.78165612e-01 0.00000000e+00\n",
      "  2.05504518e-01]]\n"
     ]
    }
   ],
   "source": [
    "# 数据正则化\n",
    "boston_normalizer = normalizer_scaler.fit_transform(X)\n",
    "print(boston_normalizer)"
   ]
  },
  {
   "cell_type": "markdown",
   "metadata": {
    "nteract": {
     "transient": {
      "deleting": false
     }
    }
   },
   "source": [
    "### 5. 标签二值化\n",
    "\n",
    "&emsp;&emsp;二值化指将数值特征向量转换为布尔类型向量。通过人为设定阈值的方式，将大于阈值的数值映射为1，而小于或等于阈值的数值映射为0。标签二值化是二值化的重要应用之一，标签二值化可以把非数字化的数据标签转化为数字化形式的数据标签，例如可把“Yes”和“No”等文本标签转化为“1”和“0”的数字化形式。\n",
    "<br>\n",
    "&emsp;&emsp;scikit-learn库提供了对标签二值化处理的函数，其中preprocessing.LabelBinarizer类实现了标签二值化处理的功能。在机器学习的应用中，标签二值化常用于文本类型的数据标签的处理。\n",
    "\n",
    "&emsp;&emsp;**例5-1-5** 对“Yes”、“No”两类标签进行二值化处理并打印显示。"
   ]
  },
  {
   "cell_type": "code",
   "execution_count": 15,
   "metadata": {
    "execution": {
     "iopub.execute_input": "2021-01-23T13:36:58.501Z",
     "iopub.status.busy": "2021-01-23T13:36:58.488Z",
     "iopub.status.idle": "2021-01-23T13:37:00.268Z",
     "shell.execute_reply": "2021-01-23T13:37:00.255Z"
    },
    "jupyter": {
     "outputs_hidden": false,
     "source_hidden": false
    },
    "nteract": {
     "transient": {
      "deleting": false
     }
    }
   },
   "outputs": [],
   "source": [
    "# 导入库\n",
    "from sklearn import preprocessing"
   ]
  },
  {
   "cell_type": "code",
   "execution_count": 16,
   "metadata": {
    "execution": {
     "iopub.execute_input": "2021-01-23T13:37:00.284Z",
     "iopub.status.busy": "2021-01-23T13:37:00.278Z",
     "iopub.status.idle": "2021-01-23T13:37:00.295Z",
     "shell.execute_reply": "2021-01-23T13:37:00.308Z"
    },
    "jupyter": {
     "outputs_hidden": false,
     "source_hidden": false
    },
    "nteract": {
     "transient": {
      "deleting": false
     }
    }
   },
   "outputs": [],
   "source": [
    "# 设置数据集\n",
    "label = ['Yes', 'No', 'Yes', 'No', 'No']"
   ]
  },
  {
   "cell_type": "code",
   "execution_count": 17,
   "metadata": {
    "execution": {
     "iopub.execute_input": "2021-01-23T13:37:05.327Z",
     "iopub.status.busy": "2021-01-23T13:37:05.320Z",
     "iopub.status.idle": "2021-01-23T13:37:05.337Z",
     "shell.execute_reply": "2021-01-23T13:37:05.341Z"
    },
    "jupyter": {
     "outputs_hidden": false,
     "source_hidden": false
    },
    "nteract": {
     "transient": {
      "deleting": false
     }
    }
   },
   "outputs": [],
   "source": [
    "# 转换器实例化\n",
    "lb = preprocessing.LabelBinarizer()"
   ]
  },
  {
   "cell_type": "code",
   "execution_count": 18,
   "metadata": {
    "execution": {
     "iopub.execute_input": "2021-01-23T13:37:12.175Z",
     "iopub.status.busy": "2021-01-23T13:37:12.166Z",
     "iopub.status.idle": "2021-01-23T13:37:12.188Z",
     "shell.execute_reply": "2021-01-23T13:37:12.200Z"
    },
    "jupyter": {
     "outputs_hidden": false,
     "source_hidden": false
    },
    "nteract": {
     "transient": {
      "deleting": false
     }
    }
   },
   "outputs": [
    {
     "name": "stdout",
     "output_type": "stream",
     "text": [
      "[[1]\n",
      " [0]\n",
      " [1]\n",
      " [0]\n",
      " [0]]\n"
     ]
    }
   ],
   "source": [
    "# 标签数据二值化\n",
    "label_bin = lb.fit_transform(label)\n",
    "print(label_bin)"
   ]
  }
 ],
 "metadata": {
  "kernel_info": {
   "name": "python3"
  },
  "kernelspec": {
   "display_name": "Python 3",
   "language": "python",
   "name": "python3"
  },
  "language_info": {
   "codemirror_mode": {
    "name": "ipython",
    "version": 3
   },
   "file_extension": ".py",
   "mimetype": "text/x-python",
   "name": "python",
   "nbconvert_exporter": "python",
   "pygments_lexer": "ipython3",
   "version": "3.8.3"
  },
  "nteract": {
   "version": "0.22.0"
  }
 },
 "nbformat": 4,
 "nbformat_minor": 1
}
