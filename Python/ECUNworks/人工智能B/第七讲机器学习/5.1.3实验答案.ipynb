{
 "cells": [
  {
   "cell_type": "markdown",
   "metadata": {
    "nteract": {
     "transient": {
      "deleting": false
     }
    }
   },
   "source": [
    "## 5.1.3 训练相关概念\n",
    "### 1. 特征与标签\n",
    "&emsp;&emsp;机器学习的数据一般是由特征（feature）和标签（label）两部分组成。\n",
    "\n",
    "### 2. 训练集、测试集与验证集\n",
    "&emsp;&emsp;为了更好的评测模型的效果，通常将原始数据集划分为训练集（train set）和测试集（test set）两部分：**训练集**是训练机器学习算法的数据集；**测试集**是用来评估经训练后的模型性能的数据集。scikit-learn.model_selection中的train_test_split()函数提供了将数据集进行切分的功能，其格式如下所示：\n",
    "\n",
    "&emsp;&emsp;**X_train, X_test, y_train, y_test = train_test_split(X, y, test_size, random_state, shuffle)**\n",
    "\n",
    "&emsp;&emsp;其中X是特征集，y是标签集，X_train和y_train分别代表训练集的特征和标签，X_test和y_test分别代表测试集的特征和标签，test_size表示测试集所占数据集的比例，取值范围为0~1，random_state表示随机数种子。shuffle表示数据集在切分前是否需要重排，默认True。\n",
    "\n",
    "&emsp;&emsp;**例5-1-6** 划分训练集和测试集示例。"
   ]
  },
  {
   "cell_type": "code",
   "execution_count": 1,
   "metadata": {
    "execution": {
     "iopub.execute_input": "2021-01-25T13:32:35.489Z",
     "iopub.status.busy": "2021-01-25T13:32:35.476Z",
     "iopub.status.idle": "2021-01-25T13:32:37.570Z",
     "shell.execute_reply": "2021-01-25T13:32:37.584Z"
    },
    "jupyter": {
     "outputs_hidden": false,
     "source_hidden": false
    },
    "nteract": {
     "transient": {
      "deleting": false
     }
    }
   },
   "outputs": [],
   "source": [
    "# 导入库\n",
    "from sklearn.model_selection import train_test_split"
   ]
  },
  {
   "cell_type": "code",
   "execution_count": 2,
   "metadata": {
    "execution": {
     "iopub.execute_input": "2021-01-25T13:33:01.176Z",
     "iopub.status.busy": "2021-01-25T13:33:01.169Z",
     "iopub.status.idle": "2021-01-25T13:33:01.190Z",
     "shell.execute_reply": "2021-01-25T13:33:01.196Z"
    },
    "jupyter": {
     "outputs_hidden": false,
     "source_hidden": false
    },
    "nteract": {
     "transient": {
      "deleting": false
     }
    }
   },
   "outputs": [],
   "source": [
    "# 设置数据集\n",
    "X, y = ['我', '是', '中', '国', '人'], range(5)"
   ]
  },
  {
   "cell_type": "markdown",
   "metadata": {
    "nteract": {
     "transient": {
      "deleting": false
     }
    }
   },
   "source": [
    "#### （1）参数shuffle的作用，打印测试集的结果\n",
    "&emsp;&emsp;shuffle=False表明数据集中的记录顺序在切分前不需要重排，运行多次的结果也是一样，若shuffle=True，则数据集中的记录顺序在切分前顺序被打乱，得到的测试集的结果是随机的，但通过设置random_state可以获得同样的切分结果。"
   ]
  },
  {
   "cell_type": "code",
   "execution_count": 3,
   "metadata": {
    "execution": {
     "iopub.execute_input": "2021-01-25T13:33:18.398Z",
     "iopub.status.busy": "2021-01-25T13:33:18.390Z",
     "iopub.status.idle": "2021-01-25T13:33:18.431Z",
     "shell.execute_reply": "2021-01-25T13:33:18.435Z"
    },
    "jupyter": {
     "outputs_hidden": false,
     "source_hidden": false
    },
    "nteract": {
     "transient": {
      "deleting": false
     }
    }
   },
   "outputs": [
    {
     "name": "stdout",
     "output_type": "stream",
     "text": [
      "['国', '人']\n",
      "['国', '人']\n",
      "['是', '我']\n"
     ]
    }
   ],
   "source": [
    "# （1）参数shuffle的作用，打印测试集的结果\n",
    "X_train, X_test, y_train, y_test = train_test_split(X, y, test_size=0.4, shuffle=False)\n",
    "print(X_test)\n",
    "X_train, X_test, y_train, y_test = train_test_split(X, y, test_size=0.4, shuffle=False)\n",
    "print(X_test)\n",
    "X_train, X_test, y_train, y_test = train_test_split(X, y, test_size=0.4, shuffle=True)\n",
    "print(X_test)"
   ]
  },
  {
   "cell_type": "markdown",
   "metadata": {
    "nteract": {
     "transient": {
      "deleting": false
     }
    }
   },
   "source": [
    "#### （2）参数random_state的作用，打印测试集的结果\n",
    "&emsp;&emsp;random_state的值是该组随机数的编号。当值相同时，在重复试验中可保证得到相同的切分结果(random_state=8的两段代码输出测试集结果相同)；当随机数种子不同时，切分结果也不同(random_state=8和random_state=10的两段代码输出测试集的结果不同)。"
   ]
  },
  {
   "cell_type": "code",
   "execution_count": 4,
   "metadata": {
    "execution": {
     "iopub.execute_input": "2021-01-25T13:33:35.572Z",
     "iopub.status.busy": "2021-01-25T13:33:35.568Z",
     "iopub.status.idle": "2021-01-25T13:33:35.586Z",
     "shell.execute_reply": "2021-01-25T13:33:35.600Z"
    },
    "jupyter": {
     "outputs_hidden": false,
     "source_hidden": false
    },
    "nteract": {
     "transient": {
      "deleting": false
     }
    }
   },
   "outputs": [
    {
     "name": "stdout",
     "output_type": "stream",
     "text": [
      "['人', '中']\n",
      "['中', '国']\n",
      "['人', '中']\n"
     ]
    }
   ],
   "source": [
    "# （2）参数random_state的作用，打印测试集的结果\n",
    "X_train, X_test, y_train, y_test = train_test_split(X, y, test_size=0.4, random_state=8)\n",
    "print(X_test)\n",
    "X_train, X_test, y_train, y_test = train_test_split(X, y, test_size=0.4, random_state=10)\n",
    "print(X_test)\n",
    "X_train, X_test, y_train, y_test = train_test_split(X, y, test_size=0.4, random_state=8)\n",
    "print(X_test)"
   ]
  }
 ],
 "metadata": {
  "kernel_info": {
   "name": "python3"
  },
  "kernelspec": {
   "display_name": "Python 3",
   "language": "python",
   "name": "python3"
  },
  "language_info": {
   "codemirror_mode": {
    "name": "ipython",
    "version": 3
   },
   "file_extension": ".py",
   "mimetype": "text/x-python",
   "name": "python",
   "nbconvert_exporter": "python",
   "pygments_lexer": "ipython3",
   "version": "3.8.3"
  },
  "nteract": {
   "version": "0.28.0"
  }
 },
 "nbformat": 4,
 "nbformat_minor": 1
}
